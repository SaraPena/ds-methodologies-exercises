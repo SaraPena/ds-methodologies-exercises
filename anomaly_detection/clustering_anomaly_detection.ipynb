{
 "cells": [
  {
   "cell_type": "code",
   "execution_count": 6,
   "metadata": {},
   "outputs": [],
   "source": [
    "from __future__ import division\n",
    "import itertools\n",
    "import warnings\n",
    "warnings.filterwarnings(\"ignore\")\n",
    "import matplotlib.pyplot as plt\n",
    "import matplotlib.dates as mdates\n",
    "import numpy as np\n",
    "import pandas as pd\n",
    "import math\n",
    "from sklearn import metrics\n",
    "from random import randint\n",
    "from matplotlib import style\n",
    "import seaborn as sns\n",
    "from sklearn.cluster import DBSCAN\n",
    "from sklearn.preprocessing import MinMaxScaler"
   ]
  },
  {
   "cell_type": "markdown",
   "metadata": {},
   "source": [
    "Use DBSCAN to detect anomalies in other produts from the customers dataset."
   ]
  },
  {
   "cell_type": "code",
   "execution_count": 41,
   "metadata": {},
   "outputs": [],
   "source": [
    "# Import .csv file and convert it to a DataFrame object.\n",
    "df = pd.read_csv('customers.csv')"
   ]
  },
  {
   "cell_type": "code",
   "execution_count": 42,
   "metadata": {},
   "outputs": [
    {
     "data": {
      "text/html": [
       "<div>\n",
       "<style scoped>\n",
       "    .dataframe tbody tr th:only-of-type {\n",
       "        vertical-align: middle;\n",
       "    }\n",
       "\n",
       "    .dataframe tbody tr th {\n",
       "        vertical-align: top;\n",
       "    }\n",
       "\n",
       "    .dataframe thead th {\n",
       "        text-align: right;\n",
       "    }\n",
       "</style>\n",
       "<table border=\"1\" class=\"dataframe\">\n",
       "  <thead>\n",
       "    <tr style=\"text-align: right;\">\n",
       "      <th></th>\n",
       "      <th>Channel</th>\n",
       "      <th>Region</th>\n",
       "      <th>Fresh</th>\n",
       "      <th>Milk</th>\n",
       "      <th>Grocery</th>\n",
       "      <th>Frozen</th>\n",
       "      <th>Detergents_Paper</th>\n",
       "      <th>Delicassen</th>\n",
       "    </tr>\n",
       "  </thead>\n",
       "  <tbody>\n",
       "    <tr>\n",
       "      <th>0</th>\n",
       "      <td>2</td>\n",
       "      <td>3</td>\n",
       "      <td>12669</td>\n",
       "      <td>9656</td>\n",
       "      <td>7561</td>\n",
       "      <td>214</td>\n",
       "      <td>2674</td>\n",
       "      <td>1338</td>\n",
       "    </tr>\n",
       "    <tr>\n",
       "      <th>1</th>\n",
       "      <td>2</td>\n",
       "      <td>3</td>\n",
       "      <td>7057</td>\n",
       "      <td>9810</td>\n",
       "      <td>9568</td>\n",
       "      <td>1762</td>\n",
       "      <td>3293</td>\n",
       "      <td>1776</td>\n",
       "    </tr>\n",
       "    <tr>\n",
       "      <th>2</th>\n",
       "      <td>2</td>\n",
       "      <td>3</td>\n",
       "      <td>6353</td>\n",
       "      <td>8808</td>\n",
       "      <td>7684</td>\n",
       "      <td>2405</td>\n",
       "      <td>3516</td>\n",
       "      <td>7844</td>\n",
       "    </tr>\n",
       "    <tr>\n",
       "      <th>3</th>\n",
       "      <td>1</td>\n",
       "      <td>3</td>\n",
       "      <td>13265</td>\n",
       "      <td>1196</td>\n",
       "      <td>4221</td>\n",
       "      <td>6404</td>\n",
       "      <td>507</td>\n",
       "      <td>1788</td>\n",
       "    </tr>\n",
       "    <tr>\n",
       "      <th>4</th>\n",
       "      <td>2</td>\n",
       "      <td>3</td>\n",
       "      <td>22615</td>\n",
       "      <td>5410</td>\n",
       "      <td>7198</td>\n",
       "      <td>3915</td>\n",
       "      <td>1777</td>\n",
       "      <td>5185</td>\n",
       "    </tr>\n",
       "  </tbody>\n",
       "</table>\n",
       "</div>"
      ],
      "text/plain": [
       "   Channel  Region  Fresh  Milk  Grocery  Frozen  Detergents_Paper  Delicassen\n",
       "0        2       3  12669  9656     7561     214              2674        1338\n",
       "1        2       3   7057  9810     9568    1762              3293        1776\n",
       "2        2       3   6353  8808     7684    2405              3516        7844\n",
       "3        1       3  13265  1196     4221    6404               507        1788\n",
       "4        2       3  22615  5410     7198    3915              1777        5185"
      ]
     },
     "execution_count": 42,
     "metadata": {},
     "output_type": "execute_result"
    }
   ],
   "source": [
    "df.head()"
   ]
  },
  {
   "cell_type": "code",
   "execution_count": 43,
   "metadata": {},
   "outputs": [],
   "source": [
    "df =df[['Grocery', 'Frozen', 'Delicassen']]"
   ]
  },
  {
   "cell_type": "code",
   "execution_count": 44,
   "metadata": {},
   "outputs": [
    {
     "data": {
      "text/plain": [
       "array([[ 7561.,   214.,  1338.],\n",
       "       [ 9568.,  1762.,  1776.],\n",
       "       [ 7684.,  2405.,  7844.],\n",
       "       [ 4221.,  6404.,  1788.],\n",
       "       [ 7198.,  3915.,  5185.],\n",
       "       [ 5126.,   666.,  1451.],\n",
       "       [ 6975.,   480.,   545.],\n",
       "       [ 9426.,  1669.,  2566.],\n",
       "       [ 6192.,   425.,   750.],\n",
       "       [18881.,  1159.,  2098.]], dtype=float32)"
      ]
     },
     "execution_count": 44,
     "metadata": {},
     "output_type": "execute_result"
    }
   ],
   "source": [
    "np_array = df.values.astype('float32', copy = False)\n",
    "np_array[0:10]"
   ]
  },
  {
   "cell_type": "markdown",
   "metadata": {},
   "source": [
    "Normalize each attribute by scaling it to a 0 mean and unit variance. This helps keep the inter-relationships between features intact so that a small change in one feature would reflect in the other."
   ]
  },
  {
   "cell_type": "code",
   "execution_count": 45,
   "metadata": {},
   "outputs": [],
   "source": [
    "scaler = MinMaxScaler().fit(np_array)\n",
    "# np_array.describe()"
   ]
  },
  {
   "cell_type": "code",
   "execution_count": 46,
   "metadata": {},
   "outputs": [
    {
     "data": {
      "text/plain": [
       "array([[0.08146416, 0.0031063 , 0.02784731],\n",
       "       [0.10309667, 0.02854842, 0.03698373],\n",
       "       [0.08278991, 0.03911643, 0.16355862],\n",
       "       [0.04546386, 0.1048419 , 0.03723405],\n",
       "       [0.07755155, 0.063934  , 0.10809346],\n",
       "       [0.05521843, 0.01053514, 0.03020442],\n",
       "       [0.07514793, 0.00747814, 0.0113058 ],\n",
       "       [0.10156612, 0.02701992, 0.05346267],\n",
       "       [0.06670834, 0.00657419, 0.01558198],\n",
       "       [0.20347716, 0.01863783, 0.04370046]], dtype=float32)"
      ]
     },
     "execution_count": 46,
     "metadata": {},
     "output_type": "execute_result"
    }
   ],
   "source": [
    "np_array = scaler.transform(np_array)\n",
    "np_array[0:10]"
   ]
  },
  {
   "cell_type": "markdown",
   "metadata": {},
   "source": [
    "Contruct a DBSCAN object that requires a minimum of 15 data points in a neighborhood of radius 0.5 to be considered a core point."
   ]
  },
  {
   "cell_type": "code",
   "execution_count": 47,
   "metadata": {},
   "outputs": [],
   "source": [
    "dbsc = DBSCAN(eps = .2, min_samples =20).fit(np_array)"
   ]
  },
  {
   "cell_type": "code",
   "execution_count": 48,
   "metadata": {},
   "outputs": [
    {
     "data": {
      "text/plain": [
       "['Grocery', 'Frozen', 'Delicassen']"
      ]
     },
     "execution_count": 48,
     "metadata": {},
     "output_type": "execute_result"
    }
   ],
   "source": [
    "# Not lets add the scaled value columns back in to the dataframe\n",
    "columns = list(df.columns)\n",
    "columns"
   ]
  },
  {
   "cell_type": "code",
   "execution_count": 49,
   "metadata": {},
   "outputs": [
    {
     "data": {
      "text/plain": [
       "['Scaled_Grocery', 'Scaled_Frozen', 'Scaled_Delicassen']"
      ]
     },
     "execution_count": 49,
     "metadata": {},
     "output_type": "execute_result"
    }
   ],
   "source": [
    "scaled_columns = [\"Scaled_\" + column for column in columns]\n",
    "scaled_columns"
   ]
  },
  {
   "cell_type": "code",
   "execution_count": 50,
   "metadata": {},
   "outputs": [],
   "source": [
    "# Save a copy of the original dataframe\n",
    "original_df = df.copy()"
   ]
  },
  {
   "cell_type": "code",
   "execution_count": 51,
   "metadata": {},
   "outputs": [
    {
     "data": {
      "text/html": [
       "<div>\n",
       "<style scoped>\n",
       "    .dataframe tbody tr th:only-of-type {\n",
       "        vertical-align: middle;\n",
       "    }\n",
       "\n",
       "    .dataframe tbody tr th {\n",
       "        vertical-align: top;\n",
       "    }\n",
       "\n",
       "    .dataframe thead th {\n",
       "        text-align: right;\n",
       "    }\n",
       "</style>\n",
       "<table border=\"1\" class=\"dataframe\">\n",
       "  <thead>\n",
       "    <tr style=\"text-align: right;\">\n",
       "      <th></th>\n",
       "      <th>Scaled_Grocery</th>\n",
       "      <th>Scaled_Frozen</th>\n",
       "      <th>Scaled_Delicassen</th>\n",
       "    </tr>\n",
       "  </thead>\n",
       "  <tbody>\n",
       "    <tr>\n",
       "      <th>0</th>\n",
       "      <td>0.081464</td>\n",
       "      <td>0.003106</td>\n",
       "      <td>0.027847</td>\n",
       "    </tr>\n",
       "    <tr>\n",
       "      <th>1</th>\n",
       "      <td>0.103097</td>\n",
       "      <td>0.028548</td>\n",
       "      <td>0.036984</td>\n",
       "    </tr>\n",
       "    <tr>\n",
       "      <th>2</th>\n",
       "      <td>0.082790</td>\n",
       "      <td>0.039116</td>\n",
       "      <td>0.163559</td>\n",
       "    </tr>\n",
       "    <tr>\n",
       "      <th>3</th>\n",
       "      <td>0.045464</td>\n",
       "      <td>0.104842</td>\n",
       "      <td>0.037234</td>\n",
       "    </tr>\n",
       "    <tr>\n",
       "      <th>4</th>\n",
       "      <td>0.077552</td>\n",
       "      <td>0.063934</td>\n",
       "      <td>0.108093</td>\n",
       "    </tr>\n",
       "  </tbody>\n",
       "</table>\n",
       "</div>"
      ],
      "text/plain": [
       "   Scaled_Grocery  Scaled_Frozen  Scaled_Delicassen\n",
       "0        0.081464       0.003106           0.027847\n",
       "1        0.103097       0.028548           0.036984\n",
       "2        0.082790       0.039116           0.163559\n",
       "3        0.045464       0.104842           0.037234\n",
       "4        0.077552       0.063934           0.108093"
      ]
     },
     "execution_count": 51,
     "metadata": {},
     "output_type": "execute_result"
    }
   ],
   "source": [
    "# Create a dataframe containing the scaled values\n",
    "scaled_df = pd.DataFrame(np_array, columns = scaled_columns)\n",
    "scaled_df.head()"
   ]
  },
  {
   "cell_type": "code",
   "execution_count": 52,
   "metadata": {},
   "outputs": [
    {
     "data": {
      "text/html": [
       "<div>\n",
       "<style scoped>\n",
       "    .dataframe tbody tr th:only-of-type {\n",
       "        vertical-align: middle;\n",
       "    }\n",
       "\n",
       "    .dataframe tbody tr th {\n",
       "        vertical-align: top;\n",
       "    }\n",
       "\n",
       "    .dataframe thead th {\n",
       "        text-align: right;\n",
       "    }\n",
       "</style>\n",
       "<table border=\"1\" class=\"dataframe\">\n",
       "  <thead>\n",
       "    <tr style=\"text-align: right;\">\n",
       "      <th></th>\n",
       "      <th>key_0</th>\n",
       "      <th>Grocery</th>\n",
       "      <th>Frozen</th>\n",
       "      <th>Delicassen</th>\n",
       "      <th>Scaled_Grocery</th>\n",
       "      <th>Scaled_Frozen</th>\n",
       "      <th>Scaled_Delicassen</th>\n",
       "    </tr>\n",
       "  </thead>\n",
       "  <tbody>\n",
       "    <tr>\n",
       "      <th>0</th>\n",
       "      <td>0</td>\n",
       "      <td>7561</td>\n",
       "      <td>214</td>\n",
       "      <td>1338</td>\n",
       "      <td>0.081464</td>\n",
       "      <td>0.003106</td>\n",
       "      <td>0.027847</td>\n",
       "    </tr>\n",
       "    <tr>\n",
       "      <th>1</th>\n",
       "      <td>1</td>\n",
       "      <td>9568</td>\n",
       "      <td>1762</td>\n",
       "      <td>1776</td>\n",
       "      <td>0.103097</td>\n",
       "      <td>0.028548</td>\n",
       "      <td>0.036984</td>\n",
       "    </tr>\n",
       "    <tr>\n",
       "      <th>2</th>\n",
       "      <td>2</td>\n",
       "      <td>7684</td>\n",
       "      <td>2405</td>\n",
       "      <td>7844</td>\n",
       "      <td>0.082790</td>\n",
       "      <td>0.039116</td>\n",
       "      <td>0.163559</td>\n",
       "    </tr>\n",
       "    <tr>\n",
       "      <th>3</th>\n",
       "      <td>3</td>\n",
       "      <td>4221</td>\n",
       "      <td>6404</td>\n",
       "      <td>1788</td>\n",
       "      <td>0.045464</td>\n",
       "      <td>0.104842</td>\n",
       "      <td>0.037234</td>\n",
       "    </tr>\n",
       "    <tr>\n",
       "      <th>4</th>\n",
       "      <td>4</td>\n",
       "      <td>7198</td>\n",
       "      <td>3915</td>\n",
       "      <td>5185</td>\n",
       "      <td>0.077552</td>\n",
       "      <td>0.063934</td>\n",
       "      <td>0.108093</td>\n",
       "    </tr>\n",
       "  </tbody>\n",
       "</table>\n",
       "</div>"
      ],
      "text/plain": [
       "   key_0  Grocery  Frozen  Delicassen  Scaled_Grocery  Scaled_Frozen  \\\n",
       "0      0     7561     214        1338        0.081464       0.003106   \n",
       "1      1     9568    1762        1776        0.103097       0.028548   \n",
       "2      2     7684    2405        7844        0.082790       0.039116   \n",
       "3      3     4221    6404        1788        0.045464       0.104842   \n",
       "4      4     7198    3915        5185        0.077552       0.063934   \n",
       "\n",
       "   Scaled_Delicassen  \n",
       "0           0.027847  \n",
       "1           0.036984  \n",
       "2           0.163559  \n",
       "3           0.037234  \n",
       "4           0.108093  "
      ]
     },
     "execution_count": 52,
     "metadata": {},
     "output_type": "execute_result"
    }
   ],
   "source": [
    "# Merge the scaled and non-scaled values into one dataframe\n",
    "df = df.merge(scaled_df, on = df.index)\n",
    "df.head()"
   ]
  },
  {
   "cell_type": "code",
   "execution_count": 53,
   "metadata": {},
   "outputs": [],
   "source": [
    "df = df.drop(columns = ['key_0'])"
   ]
  },
  {
   "cell_type": "markdown",
   "metadata": {},
   "source": [
    "Next we can extract our cluster labels and outliers to plot our results."
   ]
  },
  {
   "cell_type": "code",
   "execution_count": 54,
   "metadata": {},
   "outputs": [
    {
     "data": {
      "text/plain": [
       "array([0, 0, 0, 0, 0, 0, 0, 0, 0, 0])"
      ]
     },
     "execution_count": 54,
     "metadata": {},
     "output_type": "execute_result"
    }
   ],
   "source": [
    "labels = dbsc.labels_\n",
    "labels[0:10]"
   ]
  },
  {
   "cell_type": "code",
   "execution_count": 55,
   "metadata": {},
   "outputs": [
    {
     "data": {
      "text/html": [
       "<div>\n",
       "<style scoped>\n",
       "    .dataframe tbody tr th:only-of-type {\n",
       "        vertical-align: middle;\n",
       "    }\n",
       "\n",
       "    .dataframe tbody tr th {\n",
       "        vertical-align: top;\n",
       "    }\n",
       "\n",
       "    .dataframe thead th {\n",
       "        text-align: right;\n",
       "    }\n",
       "</style>\n",
       "<table border=\"1\" class=\"dataframe\">\n",
       "  <thead>\n",
       "    <tr style=\"text-align: right;\">\n",
       "      <th></th>\n",
       "      <th>Grocery</th>\n",
       "      <th>Frozen</th>\n",
       "      <th>Delicassen</th>\n",
       "      <th>Scaled_Grocery</th>\n",
       "      <th>Scaled_Frozen</th>\n",
       "      <th>Scaled_Delicassen</th>\n",
       "      <th>labels</th>\n",
       "    </tr>\n",
       "  </thead>\n",
       "  <tbody>\n",
       "    <tr>\n",
       "      <th>0</th>\n",
       "      <td>7561</td>\n",
       "      <td>214</td>\n",
       "      <td>1338</td>\n",
       "      <td>0.081464</td>\n",
       "      <td>0.003106</td>\n",
       "      <td>0.027847</td>\n",
       "      <td>0</td>\n",
       "    </tr>\n",
       "    <tr>\n",
       "      <th>1</th>\n",
       "      <td>9568</td>\n",
       "      <td>1762</td>\n",
       "      <td>1776</td>\n",
       "      <td>0.103097</td>\n",
       "      <td>0.028548</td>\n",
       "      <td>0.036984</td>\n",
       "      <td>0</td>\n",
       "    </tr>\n",
       "    <tr>\n",
       "      <th>2</th>\n",
       "      <td>7684</td>\n",
       "      <td>2405</td>\n",
       "      <td>7844</td>\n",
       "      <td>0.082790</td>\n",
       "      <td>0.039116</td>\n",
       "      <td>0.163559</td>\n",
       "      <td>0</td>\n",
       "    </tr>\n",
       "    <tr>\n",
       "      <th>3</th>\n",
       "      <td>4221</td>\n",
       "      <td>6404</td>\n",
       "      <td>1788</td>\n",
       "      <td>0.045464</td>\n",
       "      <td>0.104842</td>\n",
       "      <td>0.037234</td>\n",
       "      <td>0</td>\n",
       "    </tr>\n",
       "    <tr>\n",
       "      <th>4</th>\n",
       "      <td>7198</td>\n",
       "      <td>3915</td>\n",
       "      <td>5185</td>\n",
       "      <td>0.077552</td>\n",
       "      <td>0.063934</td>\n",
       "      <td>0.108093</td>\n",
       "      <td>0</td>\n",
       "    </tr>\n",
       "  </tbody>\n",
       "</table>\n",
       "</div>"
      ],
      "text/plain": [
       "   Grocery  Frozen  Delicassen  Scaled_Grocery  Scaled_Frozen  \\\n",
       "0     7561     214        1338        0.081464       0.003106   \n",
       "1     9568    1762        1776        0.103097       0.028548   \n",
       "2     7684    2405        7844        0.082790       0.039116   \n",
       "3     4221    6404        1788        0.045464       0.104842   \n",
       "4     7198    3915        5185        0.077552       0.063934   \n",
       "\n",
       "   Scaled_Delicassen  labels  \n",
       "0           0.027847       0  \n",
       "1           0.036984       0  \n",
       "2           0.163559       0  \n",
       "3           0.037234       0  \n",
       "4           0.108093       0  "
      ]
     },
     "execution_count": 55,
     "metadata": {},
     "output_type": "execute_result"
    }
   ],
   "source": [
    "df['labels'] = labels\n",
    "df.head()"
   ]
  },
  {
   "cell_type": "code",
   "execution_count": 56,
   "metadata": {},
   "outputs": [
    {
     "data": {
      "text/plain": [
       " 0    433\n",
       "-1      7\n",
       "Name: labels, dtype: int64"
      ]
     },
     "execution_count": 56,
     "metadata": {},
     "output_type": "execute_result"
    }
   ],
   "source": [
    "df.labels.value_counts()"
   ]
  },
  {
   "cell_type": "code",
   "execution_count": 57,
   "metadata": {},
   "outputs": [
    {
     "data": {
      "text/html": [
       "<div>\n",
       "<style scoped>\n",
       "    .dataframe tbody tr th:only-of-type {\n",
       "        vertical-align: middle;\n",
       "    }\n",
       "\n",
       "    .dataframe tbody tr th {\n",
       "        vertical-align: top;\n",
       "    }\n",
       "\n",
       "    .dataframe thead th {\n",
       "        text-align: right;\n",
       "    }\n",
       "</style>\n",
       "<table border=\"1\" class=\"dataframe\">\n",
       "  <thead>\n",
       "    <tr style=\"text-align: right;\">\n",
       "      <th></th>\n",
       "      <th>Grocery</th>\n",
       "      <th>Frozen</th>\n",
       "      <th>Delicassen</th>\n",
       "      <th>Scaled_Grocery</th>\n",
       "      <th>Scaled_Frozen</th>\n",
       "      <th>Scaled_Delicassen</th>\n",
       "      <th>labels</th>\n",
       "    </tr>\n",
       "  </thead>\n",
       "  <tbody>\n",
       "    <tr>\n",
       "      <th>23</th>\n",
       "      <td>22019</td>\n",
       "      <td>5154</td>\n",
       "      <td>16523</td>\n",
       "      <td>0.237300</td>\n",
       "      <td>0.084298</td>\n",
       "      <td>0.344597</td>\n",
       "      <td>-1</td>\n",
       "    </tr>\n",
       "    <tr>\n",
       "      <th>61</th>\n",
       "      <td>59598</td>\n",
       "      <td>3254</td>\n",
       "      <td>2017</td>\n",
       "      <td>0.642347</td>\n",
       "      <td>0.053070</td>\n",
       "      <td>0.042011</td>\n",
       "      <td>-1</td>\n",
       "    </tr>\n",
       "    <tr>\n",
       "      <th>85</th>\n",
       "      <td>92780</td>\n",
       "      <td>1026</td>\n",
       "      <td>2944</td>\n",
       "      <td>1.000000</td>\n",
       "      <td>0.016452</td>\n",
       "      <td>0.061348</td>\n",
       "      <td>-1</td>\n",
       "    </tr>\n",
       "    <tr>\n",
       "      <th>93</th>\n",
       "      <td>2062</td>\n",
       "      <td>35009</td>\n",
       "      <td>2698</td>\n",
       "      <td>0.022193</td>\n",
       "      <td>0.574979</td>\n",
       "      <td>0.056216</td>\n",
       "      <td>-1</td>\n",
       "    </tr>\n",
       "    <tr>\n",
       "      <th>183</th>\n",
       "      <td>20170</td>\n",
       "      <td>36534</td>\n",
       "      <td>47943</td>\n",
       "      <td>0.217371</td>\n",
       "      <td>0.600043</td>\n",
       "      <td>1.000000</td>\n",
       "      <td>-1</td>\n",
       "    </tr>\n",
       "    <tr>\n",
       "      <th>325</th>\n",
       "      <td>13626</td>\n",
       "      <td>60869</td>\n",
       "      <td>5609</td>\n",
       "      <td>0.146836</td>\n",
       "      <td>1.000000</td>\n",
       "      <td>0.116938</td>\n",
       "      <td>-1</td>\n",
       "    </tr>\n",
       "    <tr>\n",
       "      <th>333</th>\n",
       "      <td>67298</td>\n",
       "      <td>131</td>\n",
       "      <td>1215</td>\n",
       "      <td>0.725341</td>\n",
       "      <td>0.001742</td>\n",
       "      <td>0.025282</td>\n",
       "      <td>-1</td>\n",
       "    </tr>\n",
       "  </tbody>\n",
       "</table>\n",
       "</div>"
      ],
      "text/plain": [
       "     Grocery  Frozen  Delicassen  Scaled_Grocery  Scaled_Frozen  \\\n",
       "23     22019    5154       16523        0.237300       0.084298   \n",
       "61     59598    3254        2017        0.642347       0.053070   \n",
       "85     92780    1026        2944        1.000000       0.016452   \n",
       "93      2062   35009        2698        0.022193       0.574979   \n",
       "183    20170   36534       47943        0.217371       0.600043   \n",
       "325    13626   60869        5609        0.146836       1.000000   \n",
       "333    67298     131        1215        0.725341       0.001742   \n",
       "\n",
       "     Scaled_Delicassen  labels  \n",
       "23            0.344597      -1  \n",
       "61            0.042011      -1  \n",
       "85            0.061348      -1  \n",
       "93            0.056216      -1  \n",
       "183           1.000000      -1  \n",
       "325           0.116938      -1  \n",
       "333           0.025282      -1  "
      ]
     },
     "execution_count": 57,
     "metadata": {},
     "output_type": "execute_result"
    }
   ],
   "source": [
    "df[df.labels == -1]"
   ]
  },
  {
   "cell_type": "code",
   "execution_count": 58,
   "metadata": {},
   "outputs": [
    {
     "name": "stdout",
     "output_type": "stream",
     "text": [
      "Population\n",
      "            Grocery        Frozen    Delicassen  Scaled_Grocery  \\\n",
      "count    440.000000    440.000000    440.000000      440.000000   \n",
      "mean    7951.277273   3071.931818   1524.870455        0.085671   \n",
      "std     9503.162829   4854.673333   2820.105937        0.102430   \n",
      "min        3.000000     25.000000      3.000000        0.000000   \n",
      "25%     2153.000000    742.250000    408.250000        0.023174   \n",
      "50%     4755.500000   1526.000000    965.500000        0.051225   \n",
      "75%    10655.750000   3554.250000   1820.250000        0.114821   \n",
      "max    92780.000000  60869.000000  47943.000000        1.000000   \n",
      "\n",
      "       Scaled_Frozen  Scaled_Delicassen      labels  \n",
      "count     440.000000         440.000000  440.000000  \n",
      "mean        0.050078           0.031745   -0.015909  \n",
      "std         0.079789           0.058826    0.125266  \n",
      "min         0.000000           0.000000   -1.000000  \n",
      "25%         0.011788           0.008453    0.000000  \n",
      "50%         0.024670           0.020077    0.000000  \n",
      "75%         0.058005           0.037907    0.000000  \n",
      "max         1.000000           1.000000    0.000000  \n",
      "----------\n",
      "Inliers\n",
      "            Grocery        Frozen    Delicassen  Scaled_Grocery  \\\n",
      "count    433.000000    433.000000    433.000000      433.000000   \n",
      "mean    7438.819861   2793.702079   1367.191686        0.080147   \n",
      "std     7717.976034   3338.668557   1581.581832        0.083188   \n",
      "min        3.000000     25.000000      3.000000        0.000000   \n",
      "25%     2147.000000    737.000000    405.000000        0.023109   \n",
      "50%     4740.000000   1504.000000    933.000000        0.051058   \n",
      "75%    10391.000000   3498.000000   1776.000000        0.111967   \n",
      "max    55571.000000  18711.000000  14472.000000        0.598942   \n",
      "\n",
      "       Scaled_Frozen  Scaled_Delicassen  labels  \n",
      "count     433.000000         433.000000   433.0  \n",
      "mean        0.045505           0.028456     0.0  \n",
      "std         0.054873           0.032991     0.0  \n",
      "min         0.000000           0.000000     0.0  \n",
      "25%         0.011702           0.008385     0.0  \n",
      "50%         0.024308           0.019399     0.0  \n",
      "75%         0.057080           0.036984     0.0  \n",
      "max         0.307113           0.301815     0.0  \n",
      "----------\n",
      "Outliers\n",
      "            Grocery        Frozen    Delicassen  Scaled_Grocery  \\\n",
      "count      7.000000      7.000000      7.000000        7.000000   \n",
      "mean   39650.428571  20282.428571  11278.428571        0.427341   \n",
      "std    33579.657502  23888.568067  17000.352230        0.361939   \n",
      "min     2062.000000    131.000000   1215.000000        0.022193   \n",
      "25%    16898.000000   2140.000000   2357.500000        0.182103   \n",
      "50%    22019.000000   5154.000000   2944.000000        0.237300   \n",
      "75%    63448.000000  35771.500000  11066.000000        0.683844   \n",
      "max    92780.000000  60869.000000  47943.000000        1.000000   \n",
      "\n",
      "       Scaled_Frozen  Scaled_Delicassen  labels  \n",
      "count       7.000000           7.000000     7.0  \n",
      "mean        0.332940           0.235199    -1.0  \n",
      "std         0.392620           0.354617     0.0  \n",
      "min         0.001742           0.025282    -1.0  \n",
      "25%         0.034761           0.049113    -1.0  \n",
      "50%         0.084298           0.061348    -1.0  \n",
      "75%         0.587511           0.230768    -1.0  \n",
      "max         1.000000           1.000000    -1.0  \n"
     ]
    }
   ],
   "source": [
    "# Let's look at the descriptive stats for the entire population, the inliers, then the outliers/anomalies\n",
    "print(\"Population\")\n",
    "print(df.describe())\n",
    "print(\"----------\")\n",
    "print(\"Inliers\")\n",
    "print(df[df.labels == 0].describe())\n",
    "print(\"----------\")\n",
    "print(\"Outliers\")\n",
    "print(df[df.labels == -1].describe())"
   ]
  },
  {
   "cell_type": "code",
   "execution_count": 59,
   "metadata": {},
   "outputs": [
    {
     "data": {
      "text/plain": [
       "<matplotlib.axes._subplots.AxesSubplot at 0x1a19e4ddd8>"
      ]
     },
     "execution_count": 59,
     "metadata": {},
     "output_type": "execute_result"
    },
    {
     "data": {
      "image/png": "[encoded data removed]",
      "text/plain": [
       "<Figure size 432x288 with 1 Axes>"
      ]
     },
     "metadata": {
      "needs_background": "light"
     },
     "output_type": "display_data"
    }
   ],
   "source": [
    "sns.scatterplot(df.Grocery,df.Frozen, hue=df.labels)"
   ]
  },
  {
   "cell_type": "code",
   "execution_count": 60,
   "metadata": {},
   "outputs": [
    {
     "data": {
      "text/plain": [
       "<matplotlib.axes._subplots.AxesSubplot at 0x1a19f39e80>"
      ]
     },
     "execution_count": 60,
     "metadata": {},
     "output_type": "execute_result"
    },
    {
     "data": {
      "image/png": "[encoded data removed]",
      "text/plain": [
       "<Figure size 432x288 with 1 Axes>"
      ]
     },
     "metadata": {
      "needs_background": "light"
     },
     "output_type": "display_data"
    }
   ],
   "source": [
    "sns.scatterplot(df.Frozen, df.Delicassen, hue=labels)"
   ]
  },
  {
   "cell_type": "code",
   "execution_count": 62,
   "metadata": {},
   "outputs": [],
   "source": [
    "from mpl_toolkits.mplot3d import Axes3D"
   ]
  },
  {
   "cell_type": "code",
   "execution_count": 64,
   "metadata": {
    "scrolled": true
   },
   "outputs": [
    {
     "data": {
      "text/plain": [
       "Text(0.5, 0, 'Grocery')"
      ]
     },
     "execution_count": 64,
     "metadata": {},
     "output_type": "execute_result"
    },
    {
     "data": {
      "image/png": "[encoded data removed]",
      "text/plain": [
       "<Figure size 576x576 with 1 Axes>"
      ]
     },
     "metadata": {
      "needs_background": "light"
     },
     "output_type": "display_data"
    }
   ],
   "source": [
    "fig = plt.figure(1, figsize=(8,8))\n",
    "ax = Axes3D(fig, rect = [0,0,.95,1],elev = 48, azim = 134)\n",
    "\n",
    "# plot the points\n",
    "ax.scatter(df.Frozen, df. Delicassen, df.Grocery, c = df.labels, edgecolor = 'k')\n",
    "\n",
    "ax.w_xaxis.set_ticklabels([])\n",
    "ax.w_yaxis.set_ticklabels([])\n",
    "ax.w_zaxis.set_ticklabels([])\n",
    "\n",
    "ax.set_xlabel('Frozen')\n",
    "ax.set_ylabel('Delicassen')\n",
    "ax.set_zlabel('Grocery')"
   ]
  },
  {
   "cell_type": "code",
   "execution_count": null,
   "metadata": {},
   "outputs": [],
   "source": []
  }
 ],
 "metadata": {
  "kernelspec": {
   "display_name": "Python 3",
   "language": "python",
   "name": "python3"
  },
  "language_info": {
   "codemirror_mode": {
    "name": "ipython",
    "version": 3
   },
   "file_extension": ".py",
   "mimetype": "text/x-python",
   "name": "python",
   "nbconvert_exporter": "python",
   "pygments_lexer": "ipython3",
   "version": "3.7.3"
  }
 },
 "nbformat": 4,
 "nbformat_minor": 2
}

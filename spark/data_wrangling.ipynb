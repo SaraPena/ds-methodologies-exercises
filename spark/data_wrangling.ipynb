{
 "cells": [
  {
   "cell_type": "markdown",
   "metadata": {},
   "source": [
    "# Exercises\n",
    "\n",
    "## Data Aquisition\n",
    "\n",
    "These exercises use the `case.csv`, `dept.csv`, and `source.csv` files from the San Antonio 311 call data set.\n",
    "\n",
    "1. Read the case, department, and source data into their own spark dataframes."
   ]
  },
  {
   "cell_type": "code",
   "execution_count": 1,
   "metadata": {},
   "outputs": [],
   "source": [
    "from pyspark.sql import SparkSession\n",
    "from pyspark.sql.functions import *"
   ]
  },
  {
   "cell_type": "code",
   "execution_count": 2,
   "metadata": {},
   "outputs": [],
   "source": [
    "spark = SparkSession.builder.getOrCreate()"
   ]
  },
  {
   "cell_type": "code",
   "execution_count": 3,
   "metadata": {},
   "outputs": [],
   "source": [
    "source_df = spark.read.csv('data/source.csv', sep = ',', header = True, inferSchema = True)"
   ]
  },
  {
   "cell_type": "code",
   "execution_count": 4,
   "metadata": {},
   "outputs": [
    {
     "name": "stdout",
     "output_type": "stream",
     "text": [
      "+---------+----------------+\n",
      "|source_id| source_username|\n",
      "+---------+----------------+\n",
      "|   100137|Merlene Blodgett|\n",
      "|   103582|     Carmen Cura|\n",
      "|   106463| Richard Sanchez|\n",
      "|   119403|  Betty De Hoyos|\n",
      "|   119555|  Socorro Quiara|\n",
      "+---------+----------------+\n",
      "only showing top 5 rows\n",
      "\n"
     ]
    }
   ],
   "source": [
    "source_df.show(5)"
   ]
  },
  {
   "cell_type": "code",
   "execution_count": 5,
   "metadata": {},
   "outputs": [],
   "source": [
    "case_df = spark.read.csv('data/case.csv', sep = ',', header = True, inferSchema = True)"
   ]
  },
  {
   "cell_type": "code",
   "execution_count": 6,
   "metadata": {},
   "outputs": [
    {
     "name": "stdout",
     "output_type": "stream",
     "text": [
      "-RECORD 0-----------------------------------------------------\n",
      " case_id              | 1014127332                            \n",
      " case_opened_date     | 1/1/18 0:42                           \n",
      " case_closed_date     | 1/1/18 12:29                          \n",
      " SLA_due_date         | 9/26/20 0:42                          \n",
      " case_late            | NO                                    \n",
      " num_days_late        | -998.5087616000001                    \n",
      " case_closed          | YES                                   \n",
      " dept_division        | Field Operations                      \n",
      " service_request_type | Stray Animal                          \n",
      " SLA_days             | 999.0                                 \n",
      " case_status          | Closed                                \n",
      " source_id            | svcCRMLS                              \n",
      " request_address      | 2315  EL PASO ST, San Antonio, 78207  \n",
      " council_district     | 5                                     \n",
      "-RECORD 1-----------------------------------------------------\n",
      " case_id              | 1014127333                            \n",
      " case_opened_date     | 1/1/18 0:46                           \n",
      " case_closed_date     | 1/3/18 8:11                           \n",
      " SLA_due_date         | 1/5/18 8:30                           \n",
      " case_late            | NO                                    \n",
      " num_days_late        | -2.0126041669999997                   \n",
      " case_closed          | YES                                   \n",
      " dept_division        | Storm Water                           \n",
      " service_request_type | Removal Of Obstruction                \n",
      " SLA_days             | 4.322222222                           \n",
      " case_status          | Closed                                \n",
      " source_id            | svcCRMSS                              \n",
      " request_address      | 2215  GOLIAD RD, San Antonio, 78223   \n",
      " council_district     | 3                                     \n",
      "-RECORD 2-----------------------------------------------------\n",
      " case_id              | 1014127334                            \n",
      " case_opened_date     | 1/1/18 0:48                           \n",
      " case_closed_date     | 1/2/18 7:57                           \n",
      " SLA_due_date         | 1/5/18 8:30                           \n",
      " case_late            | NO                                    \n",
      " num_days_late        | -3.022337963                          \n",
      " case_closed          | YES                                   \n",
      " dept_division        | Storm Water                           \n",
      " service_request_type | Removal Of Obstruction                \n",
      " SLA_days             | 4.320729167                           \n",
      " case_status          | Closed                                \n",
      " source_id            | svcCRMSS                              \n",
      " request_address      | 102  PALFREY ST W, San Antonio, 78223 \n",
      " council_district     | 3                                     \n",
      "-RECORD 3-----------------------------------------------------\n",
      " case_id              | 1014127335                            \n",
      " case_opened_date     | 1/1/18 1:29                           \n",
      " case_closed_date     | 1/2/18 8:13                           \n",
      " SLA_due_date         | 1/17/18 8:30                          \n",
      " case_late            | NO                                    \n",
      " num_days_late        | -15.01148148                          \n",
      " case_closed          | YES                                   \n",
      " dept_division        | Code Enforcement                      \n",
      " service_request_type | Front Or Side Yard Parking            \n",
      " SLA_days             | 16.29188657                           \n",
      " case_status          | Closed                                \n",
      " source_id            | svcCRMSS                              \n",
      " request_address      | 114  LA GARDE ST, San Antonio, 78223  \n",
      " council_district     | 3                                     \n",
      "-RECORD 4-----------------------------------------------------\n",
      " case_id              | 1014127336                            \n",
      " case_opened_date     | 1/1/18 1:34                           \n",
      " case_closed_date     | 1/1/18 13:29                          \n",
      " SLA_due_date         | 1/1/18 4:34                           \n",
      " case_late            | YES                                   \n",
      " num_days_late        | 0.37216435200000003                   \n",
      " case_closed          | YES                                   \n",
      " dept_division        | Field Operations                      \n",
      " service_request_type | Animal Cruelty(Critical)              \n",
      " SLA_days             | 0.125                                 \n",
      " case_status          | Closed                                \n",
      " source_id            | svcCRMSS                              \n",
      " request_address      | 734  CLEARVIEW DR, San Antonio, 78228 \n",
      " council_district     | 7                                     \n",
      "only showing top 5 rows\n",
      "\n"
     ]
    }
   ],
   "source": [
    "case_df.show(5, vertical = True, truncate = False)"
   ]
  },
  {
   "cell_type": "code",
   "execution_count": 7,
   "metadata": {},
   "outputs": [],
   "source": [
    "dept_df = spark.read.csv('data/dept.csv', sep = ',', header = True, inferSchema = True)"
   ]
  },
  {
   "cell_type": "code",
   "execution_count": 8,
   "metadata": {},
   "outputs": [
    {
     "name": "stdout",
     "output_type": "stream",
     "text": [
      "-RECORD 0--------------------------------------\n",
      " dept_division          | 311 Call Center      \n",
      " dept_name              | Customer Service     \n",
      " standardized_dept_name | Customer Service     \n",
      " dept_subject_to_SLA    | YES                  \n",
      "-RECORD 1--------------------------------------\n",
      " dept_division          | Brush                \n",
      " dept_name              | Solid Waste Manag... \n",
      " standardized_dept_name | Solid Waste          \n",
      " dept_subject_to_SLA    | YES                  \n",
      "-RECORD 2--------------------------------------\n",
      " dept_division          | Clean and Green      \n",
      " dept_name              | Parks and Recreation \n",
      " standardized_dept_name | Parks & Recreation   \n",
      " dept_subject_to_SLA    | YES                  \n",
      "-RECORD 3--------------------------------------\n",
      " dept_division          | Clean and Green N... \n",
      " dept_name              | Parks and Recreation \n",
      " standardized_dept_name | Parks & Recreation   \n",
      " dept_subject_to_SLA    | YES                  \n",
      "-RECORD 4--------------------------------------\n",
      " dept_division          | Code Enforcement     \n",
      " dept_name              | Code Enforcement ... \n",
      " standardized_dept_name | DSD/Code Enforcement \n",
      " dept_subject_to_SLA    | YES                  \n",
      "only showing top 5 rows\n",
      "\n"
     ]
    }
   ],
   "source": [
    "dept_df.show(5, vertical = True)"
   ]
  },
  {
   "cell_type": "markdown",
   "metadata": {},
   "source": [
    "2. Let's see how writing to the local disk works in spark:\n",
    "    - Write the code necessary to store the source data in both csv, and json format, store these as `sources_csv` and `sources_json`\n",
    "    - Inspect your folder structure. What do you notice?"
   ]
  },
  {
   "cell_type": "code",
   "execution_count": 9,
   "metadata": {},
   "outputs": [],
   "source": [
    "source_df.write.csv('data/sources_csv', mode = 'overwrite', header = True)"
   ]
  },
  {
   "cell_type": "code",
   "execution_count": 10,
   "metadata": {},
   "outputs": [],
   "source": [
    "source_df.write.json('data/sources_json', mode = 'overwrite')"
   ]
  },
  {
   "cell_type": "markdown",
   "metadata": {},
   "source": [
    "3. Inspect the data in your dataframes. Are the data types appropriate? Write the code necessary to cast the values to the appropriate types."
   ]
  },
  {
   "cell_type": "code",
   "execution_count": 11,
   "metadata": {},
   "outputs": [
    {
     "name": "stdout",
     "output_type": "stream",
     "text": [
      "-RECORD 0------------------------------------\n",
      " case_id              | 1014127332           \n",
      " case_opened_date     | 1/1/18 0:42          \n",
      " case_closed_date     | 1/1/18 12:29         \n",
      " SLA_due_date         | 9/26/20 0:42         \n",
      " case_late            | NO                   \n",
      " num_days_late        | -998.5087616000001   \n",
      " case_closed          | YES                  \n",
      " dept_division        | Field Operations     \n",
      " service_request_type | Stray Animal         \n",
      " SLA_days             | 999.0                \n",
      " case_status          | Closed               \n",
      " source_id            | svcCRMLS             \n",
      " request_address      | 2315  EL PASO ST,... \n",
      " council_district     | 5                    \n",
      "-RECORD 1------------------------------------\n",
      " case_id              | 1014127333           \n",
      " case_opened_date     | 1/1/18 0:46          \n",
      " case_closed_date     | 1/3/18 8:11          \n",
      " SLA_due_date         | 1/5/18 8:30          \n",
      " case_late            | NO                   \n",
      " num_days_late        | -2.0126041669999997  \n",
      " case_closed          | YES                  \n",
      " dept_division        | Storm Water          \n",
      " service_request_type | Removal Of Obstru... \n",
      " SLA_days             | 4.322222222          \n",
      " case_status          | Closed               \n",
      " source_id            | svcCRMSS             \n",
      " request_address      | 2215  GOLIAD RD, ... \n",
      " council_district     | 3                    \n",
      "-RECORD 2------------------------------------\n",
      " case_id              | 1014127334           \n",
      " case_opened_date     | 1/1/18 0:48          \n",
      " case_closed_date     | 1/2/18 7:57          \n",
      " SLA_due_date         | 1/5/18 8:30          \n",
      " case_late            | NO                   \n",
      " num_days_late        | -3.022337963         \n",
      " case_closed          | YES                  \n",
      " dept_division        | Storm Water          \n",
      " service_request_type | Removal Of Obstru... \n",
      " SLA_days             | 4.320729167          \n",
      " case_status          | Closed               \n",
      " source_id            | svcCRMSS             \n",
      " request_address      | 102  PALFREY ST W... \n",
      " council_district     | 3                    \n",
      "-RECORD 3------------------------------------\n",
      " case_id              | 1014127335           \n",
      " case_opened_date     | 1/1/18 1:29          \n",
      " case_closed_date     | 1/2/18 8:13          \n",
      " SLA_due_date         | 1/17/18 8:30         \n",
      " case_late            | NO                   \n",
      " num_days_late        | -15.01148148         \n",
      " case_closed          | YES                  \n",
      " dept_division        | Code Enforcement     \n",
      " service_request_type | Front Or Side Yar... \n",
      " SLA_days             | 16.29188657          \n",
      " case_status          | Closed               \n",
      " source_id            | svcCRMSS             \n",
      " request_address      | 114  LA GARDE ST,... \n",
      " council_district     | 3                    \n",
      "-RECORD 4------------------------------------\n",
      " case_id              | 1014127336           \n",
      " case_opened_date     | 1/1/18 1:34          \n",
      " case_closed_date     | 1/1/18 13:29         \n",
      " SLA_due_date         | 1/1/18 4:34          \n",
      " case_late            | YES                  \n",
      " num_days_late        | 0.37216435200000003  \n",
      " case_closed          | YES                  \n",
      " dept_division        | Field Operations     \n",
      " service_request_type | Animal Cruelty(Cr... \n",
      " SLA_days             | 0.125                \n",
      " case_status          | Closed               \n",
      " source_id            | svcCRMSS             \n",
      " request_address      | 734  CLEARVIEW DR... \n",
      " council_district     | 7                    \n",
      "only showing top 5 rows\n",
      "\n"
     ]
    }
   ],
   "source": [
    "case_df.show(5, vertical = True)"
   ]
  },
  {
   "cell_type": "code",
   "execution_count": 12,
   "metadata": {},
   "outputs": [
    {
     "data": {
      "text/plain": [
       "DataFrame[summary: string, case_id: string, case_opened_date: string, case_closed_date: string, SLA_due_date: string, case_late: string, num_days_late: string, case_closed: string, dept_division: string, service_request_type: string, SLA_days: string, case_status: string, source_id: string, request_address: string, council_district: string]"
      ]
     },
     "execution_count": 12,
     "metadata": {},
     "output_type": "execute_result"
    }
   ],
   "source": [
    "case_df.describe()"
   ]
  },
  {
   "cell_type": "code",
   "execution_count": 13,
   "metadata": {},
   "outputs": [
    {
     "name": "stdout",
     "output_type": "stream",
     "text": [
      "-RECORD 0------------------------------------\n",
      " case_id              | 1014127332           \n",
      " case_opened_date     | 1/1/18 0:42          \n",
      " case_closed_date     | 1/1/18 12:29         \n",
      " case_due_date        | 9/26/20 0:42         \n",
      " case_late            | NO                   \n",
      " num_days_late        | -998.5087616000001   \n",
      " case_closed          | YES                  \n",
      " dept_division        | Field Operations     \n",
      " service_request_type | Stray Animal         \n",
      " SLA_days             | 999.0                \n",
      " case_status          | Closed               \n",
      " source_id            | svcCRMLS             \n",
      " request_address      | 2315  EL PASO ST,... \n",
      " council_district     | 5                    \n",
      "-RECORD 1------------------------------------\n",
      " case_id              | 1014127333           \n",
      " case_opened_date     | 1/1/18 0:46          \n",
      " case_closed_date     | 1/3/18 8:11          \n",
      " case_due_date        | 1/5/18 8:30          \n",
      " case_late            | NO                   \n",
      " num_days_late        | -2.0126041669999997  \n",
      " case_closed          | YES                  \n",
      " dept_division        | Storm Water          \n",
      " service_request_type | Removal Of Obstru... \n",
      " SLA_days             | 4.322222222          \n",
      " case_status          | Closed               \n",
      " source_id            | svcCRMSS             \n",
      " request_address      | 2215  GOLIAD RD, ... \n",
      " council_district     | 3                    \n",
      "-RECORD 2------------------------------------\n",
      " case_id              | 1014127334           \n",
      " case_opened_date     | 1/1/18 0:48          \n",
      " case_closed_date     | 1/2/18 7:57          \n",
      " case_due_date        | 1/5/18 8:30          \n",
      " case_late            | NO                   \n",
      " num_days_late        | -3.022337963         \n",
      " case_closed          | YES                  \n",
      " dept_division        | Storm Water          \n",
      " service_request_type | Removal Of Obstru... \n",
      " SLA_days             | 4.320729167          \n",
      " case_status          | Closed               \n",
      " source_id            | svcCRMSS             \n",
      " request_address      | 102  PALFREY ST W... \n",
      " council_district     | 3                    \n",
      "-RECORD 3------------------------------------\n",
      " case_id              | 1014127335           \n",
      " case_opened_date     | 1/1/18 1:29          \n",
      " case_closed_date     | 1/2/18 8:13          \n",
      " case_due_date        | 1/17/18 8:30         \n",
      " case_late            | NO                   \n",
      " num_days_late        | -15.01148148         \n",
      " case_closed          | YES                  \n",
      " dept_division        | Code Enforcement     \n",
      " service_request_type | Front Or Side Yar... \n",
      " SLA_days             | 16.29188657          \n",
      " case_status          | Closed               \n",
      " source_id            | svcCRMSS             \n",
      " request_address      | 114  LA GARDE ST,... \n",
      " council_district     | 3                    \n",
      "-RECORD 4------------------------------------\n",
      " case_id              | 1014127336           \n",
      " case_opened_date     | 1/1/18 1:34          \n",
      " case_closed_date     | 1/1/18 13:29         \n",
      " case_due_date        | 1/1/18 4:34          \n",
      " case_late            | YES                  \n",
      " num_days_late        | 0.37216435200000003  \n",
      " case_closed          | YES                  \n",
      " dept_division        | Field Operations     \n",
      " service_request_type | Animal Cruelty(Cr... \n",
      " SLA_days             | 0.125                \n",
      " case_status          | Closed               \n",
      " source_id            | svcCRMSS             \n",
      " request_address      | 734  CLEARVIEW DR... \n",
      " council_district     | 7                    \n",
      "only showing top 5 rows\n",
      "\n"
     ]
    }
   ],
   "source": [
    "# Rename Columns\n",
    "# We'll rename this column to match the other date-type columns.\n",
    "\n",
    "case_df = case_df.withColumnRenamed('SLA_due_date', 'case_due_date')\n",
    "case_df.show(5, vertical = True)"
   ]
  },
  {
   "cell_type": "code",
   "execution_count": 14,
   "metadata": {},
   "outputs": [
    {
     "name": "stdout",
     "output_type": "stream",
     "text": [
      "+-----------+---------+------+\n",
      "|case_closed|case_late| count|\n",
      "+-----------+---------+------+\n",
      "|         NO|      YES|  6525|\n",
      "|        YES|      YES| 87978|\n",
      "|         NO|       NO| 11585|\n",
      "|        YES|       NO|735616|\n",
      "+-----------+---------+------+\n",
      "\n"
     ]
    }
   ],
   "source": [
    "# Correct Data Types.\n",
    "# Two columns `case_closed` and `case_late` store yes/no values.\n",
    "# Currently spark thinks they are strings; Let's turn them into booleans\n",
    "\n",
    "# demostrating we only have yes/no in each field.\n",
    "\n",
    "case_df.groupBy('case_closed', 'case_late').count().show()\n"
   ]
  },
  {
   "cell_type": "code",
   "execution_count": 15,
   "metadata": {},
   "outputs": [
    {
     "name": "stdout",
     "output_type": "stream",
     "text": [
      "+-----------+---------+\n",
      "|case_closed|case_late|\n",
      "+-----------+---------+\n",
      "|       true|    false|\n",
      "|       true|    false|\n",
      "|       true|    false|\n",
      "|       true|    false|\n",
      "|       true|     true|\n",
      "+-----------+---------+\n",
      "only showing top 5 rows\n",
      "\n"
     ]
    }
   ],
   "source": [
    "case_df = case_df.withColumn('case_closed', expr('case_closed == \"YES\"')).withColumn('case_late', expr('case_late == \"YES\"'))\n",
    "\n",
    "case_df.select('case_closed', 'case_late').show(5)"
   ]
  },
  {
   "cell_type": "code",
   "execution_count": 16,
   "metadata": {},
   "outputs": [
    {
     "data": {
      "text/plain": [
       "DataFrame[summary: string, case_id: string, case_opened_date: string, case_closed_date: string, case_due_date: string, num_days_late: string, dept_division: string, service_request_type: string, SLA_days: string, case_status: string, source_id: string, request_address: string, council_district: string]"
      ]
     },
     "execution_count": 16,
     "metadata": {},
     "output_type": "execute_result"
    }
   ],
   "source": [
    "case_df.describe()"
   ]
  },
  {
   "cell_type": "markdown",
   "metadata": {},
   "source": [
    "Now we will handle the 3 columns that have dates in them. We'll use spark's `to_timestamp` function for this.\n",
    "\n",
    "In order to work properly, we'll need to provide the date format when use the `to_timestamp`. The date format is a little different than the date functionality we've worked with in pandas, this because it using JaveSimpleDateFormat."
   ]
  },
  {
   "cell_type": "code",
   "execution_count": 17,
   "metadata": {},
   "outputs": [
    {
     "data": {
      "text/plain": [
       "DataFrame[summary: string, case_opened_date: string, case_closed_date: string, case_due_date: string]"
      ]
     },
     "execution_count": 17,
     "metadata": {},
     "output_type": "execute_result"
    }
   ],
   "source": [
    "case_df.select('case_opened_date', 'case_closed_date', 'case_due_date').describe()"
   ]
  },
  {
   "cell_type": "code",
   "execution_count": 18,
   "metadata": {},
   "outputs": [
    {
     "name": "stdout",
     "output_type": "stream",
     "text": [
      "+----------------+----------------+-------------+\n",
      "|case_opened_date|case_closed_date|case_due_date|\n",
      "+----------------+----------------+-------------+\n",
      "|     1/1/18 0:42|    1/1/18 12:29| 9/26/20 0:42|\n",
      "|     1/1/18 0:46|     1/3/18 8:11|  1/5/18 8:30|\n",
      "|     1/1/18 0:48|     1/2/18 7:57|  1/5/18 8:30|\n",
      "|     1/1/18 1:29|     1/2/18 8:13| 1/17/18 8:30|\n",
      "|     1/1/18 1:34|    1/1/18 13:29|  1/1/18 4:34|\n",
      "+----------------+----------------+-------------+\n",
      "only showing top 5 rows\n",
      "\n"
     ]
    }
   ],
   "source": [
    "case_df.select('case_opened_date', 'case_closed_date', 'case_due_date').show(5)"
   ]
  },
  {
   "cell_type": "code",
   "execution_count": 19,
   "metadata": {},
   "outputs": [
    {
     "data": {
      "text/plain": [
       "'M/d/yy H:mm'"
      ]
     },
     "execution_count": 19,
     "metadata": {},
     "output_type": "execute_result"
    }
   ],
   "source": [
    "fmt = 'M/d/yy H:mm'\n",
    "fmt"
   ]
  },
  {
   "cell_type": "code",
   "execution_count": 20,
   "metadata": {},
   "outputs": [
    {
     "data": {
      "text/plain": [
       "DataFrame[case_opened_date: timestamp, case_closed_date: timestamp, case_due_date: timestamp]"
      ]
     },
     "execution_count": 20,
     "metadata": {},
     "output_type": "execute_result"
    }
   ],
   "source": [
    "case_df = (\n",
    "    case_df.withColumn('case_opened_date', to_timestamp('case_opened_date', fmt))\n",
    "    .withColumn('case_closed_date', to_timestamp('case_opened_date', fmt))\n",
    "    .withColumn('case_due_date', to_timestamp('case_due_date', fmt))\n",
    ")\n",
    "\n",
    "case_df.select('case_opened_date', 'case_closed_date', 'case_due_date')\n",
    "\n"
   ]
  },
  {
   "cell_type": "code",
   "execution_count": 21,
   "metadata": {},
   "outputs": [
    {
     "name": "stdout",
     "output_type": "stream",
     "text": [
      "+-------------------+-------------------+-------------------+\n",
      "|   case_opened_date|   case_closed_date|      case_due_date|\n",
      "+-------------------+-------------------+-------------------+\n",
      "|2018-01-01 00:42:00|2018-01-01 00:42:00|2020-09-26 00:42:00|\n",
      "|2018-01-01 00:46:00|2018-01-01 00:46:00|2018-01-05 08:30:00|\n",
      "|2018-01-01 00:48:00|2018-01-01 00:48:00|2018-01-05 08:30:00|\n",
      "|2018-01-01 01:29:00|2018-01-01 01:29:00|2018-01-17 08:30:00|\n",
      "|2018-01-01 01:34:00|2018-01-01 01:34:00|2018-01-01 04:34:00|\n",
      "+-------------------+-------------------+-------------------+\n",
      "only showing top 5 rows\n",
      "\n"
     ]
    }
   ],
   "source": [
    "case_df.select('case_opened_date', 'case_closed_date', 'case_due_date').show(5)"
   ]
  },
  {
   "cell_type": "code",
   "execution_count": 22,
   "metadata": {},
   "outputs": [
    {
     "name": "stdout",
     "output_type": "stream",
     "text": [
      "-RECORD 0------------------------------------\n",
      " summary              | count                \n",
      " case_id              | 841704               \n",
      " num_days_late        | 841671               \n",
      " dept_division        | 841704               \n",
      " service_request_type | 841704               \n",
      " SLA_days             | 841671               \n",
      " case_status          | 841704               \n",
      " source_id            | 841704               \n",
      " request_address      | 841704               \n",
      " council_district     | 841704               \n",
      "-RECORD 1------------------------------------\n",
      " summary              | mean                 \n",
      " case_id              | 1.0139680837676392E9 \n",
      " num_days_late        | -49.07486758369357   \n",
      " dept_division        | null                 \n",
      " service_request_type | null                 \n",
      " SLA_days             | 59.25478976660689    \n",
      " case_status          | null                 \n",
      " source_id            | 136602.73663950132   \n",
      " request_address      | null                 \n",
      " council_district     | 4.625168705388117    \n",
      "-RECORD 2------------------------------------\n",
      " summary              | stddev               \n",
      " case_id              | 441537.91794711683   \n",
      " num_days_late        | 176.53002498187325   \n",
      " dept_division        | null                 \n",
      " service_request_type | null                 \n",
      " SLA_days             | 174.52559467491477   \n",
      " case_status          | null                 \n",
      " source_id            | 7232.054685284322    \n",
      " request_address      | null                 \n",
      " council_district     | 2.756720551794847    \n",
      "-RECORD 3------------------------------------\n",
      " summary              | min                  \n",
      " case_id              | 1013225542           \n",
      " num_days_late        | -1417.0006019999998  \n",
      " dept_division        | 311 Call Center      \n",
      " service_request_type | \"Vacant Lot-City ... \n",
      " SLA_days             | 0.125                \n",
      " case_status          | Closed               \n",
      " source_id            | 100137               \n",
      " request_address      | 0  BASSWOOD DR, S... \n",
      " council_district     | 0                    \n",
      "-RECORD 4------------------------------------\n",
      " summary              | max                  \n",
      " case_id              | 1014759620           \n",
      " num_days_late        | 519.6980787          \n",
      " dept_division        | Waste Collection     \n",
      " service_request_type | Zoning: Visual Ob... \n",
      " SLA_days             | 1420.0               \n",
      " case_status          | Open                 \n",
      " source_id            | yh24110              \n",
      " request_address      | ZURICH and AMSTERDAM \n",
      " council_district     | 10                   \n",
      "\n"
     ]
    }
   ],
   "source": [
    "case_df.describe().show(5,vertical = True)"
   ]
  },
  {
   "cell_type": "code",
   "execution_count": 23,
   "metadata": {},
   "outputs": [
    {
     "name": "stdout",
     "output_type": "stream",
     "text": [
      "-RECORD 0------------------------------------\n",
      " case_id              | 1014127332           \n",
      " case_opened_date     | 2018-01-01 00:42:00  \n",
      " case_closed_date     | 2018-01-01 00:42:00  \n",
      " case_due_date        | 2020-09-26 00:42:00  \n",
      " case_late            | false                \n",
      " num_days_late        | -998.5087616000001   \n",
      " case_closed          | true                 \n",
      " dept_division        | Field Operations     \n",
      " service_request_type | Stray Animal         \n",
      " SLA_days             | 999.0                \n",
      " case_status          | Closed               \n",
      " source_id            | svcCRMLS             \n",
      " request_address      | 2315  EL PASO ST,... \n",
      " council_district     | 5                    \n",
      "-RECORD 1------------------------------------\n",
      " case_id              | 1014127333           \n",
      " case_opened_date     | 2018-01-01 00:46:00  \n",
      " case_closed_date     | 2018-01-01 00:46:00  \n",
      " case_due_date        | 2018-01-05 08:30:00  \n",
      " case_late            | false                \n",
      " num_days_late        | -2.0126041669999997  \n",
      " case_closed          | true                 \n",
      " dept_division        | Storm Water          \n",
      " service_request_type | Removal Of Obstru... \n",
      " SLA_days             | 4.322222222          \n",
      " case_status          | Closed               \n",
      " source_id            | svcCRMSS             \n",
      " request_address      | 2215  GOLIAD RD, ... \n",
      " council_district     | 3                    \n",
      "-RECORD 2------------------------------------\n",
      " case_id              | 1014127334           \n",
      " case_opened_date     | 2018-01-01 00:48:00  \n",
      " case_closed_date     | 2018-01-01 00:48:00  \n",
      " case_due_date        | 2018-01-05 08:30:00  \n",
      " case_late            | false                \n",
      " num_days_late        | -3.022337963         \n",
      " case_closed          | true                 \n",
      " dept_division        | Storm Water          \n",
      " service_request_type | Removal Of Obstru... \n",
      " SLA_days             | 4.320729167          \n",
      " case_status          | Closed               \n",
      " source_id            | svcCRMSS             \n",
      " request_address      | 102  PALFREY ST W... \n",
      " council_district     | 3                    \n",
      "-RECORD 3------------------------------------\n",
      " case_id              | 1014127335           \n",
      " case_opened_date     | 2018-01-01 01:29:00  \n",
      " case_closed_date     | 2018-01-01 01:29:00  \n",
      " case_due_date        | 2018-01-17 08:30:00  \n",
      " case_late            | false                \n",
      " num_days_late        | -15.01148148         \n",
      " case_closed          | true                 \n",
      " dept_division        | Code Enforcement     \n",
      " service_request_type | Front Or Side Yar... \n",
      " SLA_days             | 16.29188657          \n",
      " case_status          | Closed               \n",
      " source_id            | svcCRMSS             \n",
      " request_address      | 114  LA GARDE ST,... \n",
      " council_district     | 3                    \n",
      "-RECORD 4------------------------------------\n",
      " case_id              | 1014127336           \n",
      " case_opened_date     | 2018-01-01 01:34:00  \n",
      " case_closed_date     | 2018-01-01 01:34:00  \n",
      " case_due_date        | 2018-01-01 04:34:00  \n",
      " case_late            | true                 \n",
      " num_days_late        | 0.37216435200000003  \n",
      " case_closed          | true                 \n",
      " dept_division        | Field Operations     \n",
      " service_request_type | Animal Cruelty(Cr... \n",
      " SLA_days             | 0.125                \n",
      " case_status          | Closed               \n",
      " source_id            | svcCRMSS             \n",
      " request_address      | 734  CLEARVIEW DR... \n",
      " council_district     | 7                    \n",
      "only showing top 5 rows\n",
      "\n"
     ]
    }
   ],
   "source": [
    "case_df.show(5,vertical = True)"
   ]
  },
  {
   "cell_type": "markdown",
   "metadata": {},
   "source": [
    "Now let's look at `dept.csv`"
   ]
  },
  {
   "cell_type": "code",
   "execution_count": 24,
   "metadata": {},
   "outputs": [
    {
     "name": "stdout",
     "output_type": "stream",
     "text": [
      "-RECORD 0--------------------------------------\n",
      " dept_division          | 311 Call Center      \n",
      " dept_name              | Customer Service     \n",
      " standardized_dept_name | Customer Service     \n",
      " dept_subject_to_SLA    | YES                  \n",
      "-RECORD 1--------------------------------------\n",
      " dept_division          | Brush                \n",
      " dept_name              | Solid Waste Manag... \n",
      " standardized_dept_name | Solid Waste          \n",
      " dept_subject_to_SLA    | YES                  \n",
      "-RECORD 2--------------------------------------\n",
      " dept_division          | Clean and Green      \n",
      " dept_name              | Parks and Recreation \n",
      " standardized_dept_name | Parks & Recreation   \n",
      " dept_subject_to_SLA    | YES                  \n",
      "-RECORD 3--------------------------------------\n",
      " dept_division          | Clean and Green N... \n",
      " dept_name              | Parks and Recreation \n",
      " standardized_dept_name | Parks & Recreation   \n",
      " dept_subject_to_SLA    | YES                  \n",
      "-RECORD 4--------------------------------------\n",
      " dept_division          | Code Enforcement     \n",
      " dept_name              | Code Enforcement ... \n",
      " standardized_dept_name | DSD/Code Enforcement \n",
      " dept_subject_to_SLA    | YES                  \n",
      "only showing top 5 rows\n",
      "\n"
     ]
    }
   ],
   "source": [
    "dept_df.show(5,vertical = True)"
   ]
  },
  {
   "cell_type": "code",
   "execution_count": 25,
   "metadata": {},
   "outputs": [
    {
     "name": "stdout",
     "output_type": "stream",
     "text": [
      "+-------------------------+-----------------------------+-----+\n",
      "|dept_name                |dept_division                |count|\n",
      "+-------------------------+-----------------------------+-----+\n",
      "|Trans & Cap Improvements |Traffic Engineering Design   |1    |\n",
      "|Trans & Cap Improvements |Signals                      |1    |\n",
      "|Parks and Recreation     |Tree Crew                    |1    |\n",
      "|Metro Health             |Vector                       |1    |\n",
      "|Code Enforcement Services|Code Enforcement             |1    |\n",
      "|Trans & Cap Improvements |Storm Water                  |1    |\n",
      "|Parks and Recreation     |Clean and Green              |1    |\n",
      "|Animal Care Services     |Field Operations             |1    |\n",
      "|Trans & Cap Improvements |Director's Office Horizontal |1    |\n",
      "|Customer Service         |311 Call Center              |1    |\n",
      "|Code Enforcement Services|Graffiti                     |1    |\n",
      "|null                     |Code Enforcement (Internal)  |1    |\n",
      "|Solid Waste Management   |Waste Collection             |1    |\n",
      "|City Council             |District 2                   |1    |\n",
      "|Parks and Recreation     |Shops (Internal)             |1    |\n",
      "|City Council             |District 10                  |1    |\n",
      "|Parks and Recreation     |Trades                       |1    |\n",
      "|City Council             |District 9                   |1    |\n",
      "|Solid Waste Management   |Miscellaneous                |1    |\n",
      "|Trans & Cap Improvements |Storm Water Engineering      |1    |\n",
      "|Development Services     |Engineering Division         |1    |\n",
      "|Trans & Cap Improvements |Streets                      |1    |\n",
      "|Solid Waste Management   |Brush                        |1    |\n",
      "|Trans & Cap Improvements |Signs and Markings           |1    |\n",
      "|Metro Health             |Food Establishments          |1    |\n",
      "|Metro Health             |Facility License             |1    |\n",
      "|Code Enforcement Services|Dangerous Premise (IntExp)   |1    |\n",
      "|City Council             |District 6                   |1    |\n",
      "|City Council             |District 3                   |1    |\n",
      "|Parks and Recreation     |Shops                        |1    |\n",
      "|Parks and Recreation     |Reservations                 |1    |\n",
      "|City Council             |District 1                   |1    |\n",
      "|Parks and Recreation     |Clean and Green Natural Areas|1    |\n",
      "|Solid Waste Management   |Solid Waste                  |1    |\n",
      "|City Council             |District 8                   |1    |\n",
      "|City Council             |District 7                   |1    |\n",
      "|Code Enforcement Services|Dangerous Premise            |1    |\n",
      "|Code Enforcement Services|Code Enforcement (IntExp)    |1    |\n",
      "|Code Enforcement Services|Graffiti (IntExp)            |1    |\n",
      "+-------------------------+-----------------------------+-----+\n",
      "\n"
     ]
    }
   ],
   "source": [
    "dept_df.groupBy('dept_name','dept_division').count().show(40, truncate=False)"
   ]
  },
  {
   "cell_type": "code",
   "execution_count": 26,
   "metadata": {},
   "outputs": [
    {
     "name": "stdout",
     "output_type": "stream",
     "text": [
      "+-------------------+-----+\n",
      "|dept_subject_to_SLA|count|\n",
      "+-------------------+-----+\n",
      "|                YES|   31|\n",
      "|                 NO|    8|\n",
      "+-------------------+-----+\n",
      "\n"
     ]
    }
   ],
   "source": [
    "# Change `dept_subject_to_SLA` to Boolean\n",
    "\n",
    "dept_df.select('dept_subject_to_SLA').groupBy('dept_subject_to_SLA').count().show()"
   ]
  },
  {
   "cell_type": "code",
   "execution_count": 27,
   "metadata": {},
   "outputs": [
    {
     "name": "stdout",
     "output_type": "stream",
     "text": [
      "-RECORD 0--------------------------------------\n",
      " dept_division          | 311 Call Center      \n",
      " dept_name              | Customer Service     \n",
      " standardized_dept_name | Customer Service     \n",
      " dept_subject_to_SLA    | true                 \n",
      "-RECORD 1--------------------------------------\n",
      " dept_division          | Brush                \n",
      " dept_name              | Solid Waste Manag... \n",
      " standardized_dept_name | Solid Waste          \n",
      " dept_subject_to_SLA    | true                 \n",
      "-RECORD 2--------------------------------------\n",
      " dept_division          | Clean and Green      \n",
      " dept_name              | Parks and Recreation \n",
      " standardized_dept_name | Parks & Recreation   \n",
      " dept_subject_to_SLA    | true                 \n",
      "-RECORD 3--------------------------------------\n",
      " dept_division          | Clean and Green N... \n",
      " dept_name              | Parks and Recreation \n",
      " standardized_dept_name | Parks & Recreation   \n",
      " dept_subject_to_SLA    | true                 \n",
      "-RECORD 4--------------------------------------\n",
      " dept_division          | Code Enforcement     \n",
      " dept_name              | Code Enforcement ... \n",
      " standardized_dept_name | DSD/Code Enforcement \n",
      " dept_subject_to_SLA    | true                 \n",
      "only showing top 5 rows\n",
      "\n"
     ]
    }
   ],
   "source": [
    "dept_df = dept_df.withColumn('dept_subject_to_SLA', expr('dept_subject_to_SLA == \"YES\"'))\n",
    "\n",
    "dept_df.show(5, vertical = True)"
   ]
  },
  {
   "cell_type": "code",
   "execution_count": 28,
   "metadata": {},
   "outputs": [
    {
     "data": {
      "text/plain": [
       "DataFrame[summary: string, dept_division: string, dept_name: string, standardized_dept_name: string]"
      ]
     },
     "execution_count": 28,
     "metadata": {},
     "output_type": "execute_result"
    }
   ],
   "source": [
    "dept_df.describe()"
   ]
  },
  {
   "cell_type": "markdown",
   "metadata": {},
   "source": [
    "Let's look at `source_df`."
   ]
  },
  {
   "cell_type": "code",
   "execution_count": 29,
   "metadata": {},
   "outputs": [
    {
     "name": "stdout",
     "output_type": "stream",
     "text": [
      "+---------+----------------+\n",
      "|source_id| source_username|\n",
      "+---------+----------------+\n",
      "|   100137|Merlene Blodgett|\n",
      "|   103582|     Carmen Cura|\n",
      "|   106463| Richard Sanchez|\n",
      "|   119403|  Betty De Hoyos|\n",
      "|   119555|  Socorro Quiara|\n",
      "+---------+----------------+\n",
      "only showing top 5 rows\n",
      "\n"
     ]
    }
   ],
   "source": [
    "source_df.show(5)"
   ]
  },
  {
   "cell_type": "code",
   "execution_count": 30,
   "metadata": {},
   "outputs": [
    {
     "data": {
      "text/plain": [
       "DataFrame[summary: string, source_id: string, source_username: string]"
      ]
     },
     "execution_count": 30,
     "metadata": {},
     "output_type": "execute_result"
    }
   ],
   "source": [
    "source_df.describe()"
   ]
  },
  {
   "cell_type": "code",
   "execution_count": 31,
   "metadata": {},
   "outputs": [
    {
     "name": "stdout",
     "output_type": "stream",
     "text": [
      "+---------+----------------+\n",
      "|source_id| source_username|\n",
      "+---------+----------------+\n",
      "|   100137|merlene blodgett|\n",
      "|   103582|     carmen cura|\n",
      "|   106463| richard sanchez|\n",
      "|   119403|  betty de hoyos|\n",
      "|   119555|  socorro quiara|\n",
      "+---------+----------------+\n",
      "only showing top 5 rows\n",
      "\n"
     ]
    }
   ],
   "source": [
    "source_df = source_df.withColumn('source_username', trim(lower(source_df.source_username)))\n",
    "\n",
    "source_df.show(5)"
   ]
  },
  {
   "cell_type": "markdown",
   "metadata": {},
   "source": [
    "1. How old is the latest(in terms of days past SLA) currently open issue? How long has the oldest (in terms of days since opened) currently opened issue been open?"
   ]
  },
  {
   "cell_type": "code",
   "execution_count": 33,
   "metadata": {},
   "outputs": [
    {
     "name": "stdout",
     "output_type": "stream",
     "text": [
      "-RECORD 0------------------------------------\n",
      " summary              | count                \n",
      " case_id              | 841704               \n",
      " num_days_late        | 841671               \n",
      " dept_division        | 841704               \n",
      " service_request_type | 841704               \n",
      " SLA_days             | 841671               \n",
      " case_status          | 841704               \n",
      " source_id            | 841704               \n",
      " request_address      | 841704               \n",
      " council_district     | 841704               \n",
      "-RECORD 1------------------------------------\n",
      " summary              | mean                 \n",
      " case_id              | 1.0139680837676392E9 \n",
      " num_days_late        | -49.07486758369357   \n",
      " dept_division        | null                 \n",
      " service_request_type | null                 \n",
      " SLA_days             | 59.25478976660689    \n",
      " case_status          | null                 \n",
      " source_id            | 136602.73663950132   \n",
      " request_address      | null                 \n",
      " council_district     | 4.625168705388117    \n",
      "-RECORD 2------------------------------------\n",
      " summary              | stddev               \n",
      " case_id              | 441537.91794711683   \n",
      " num_days_late        | 176.53002498187325   \n",
      " dept_division        | null                 \n",
      " service_request_type | null                 \n",
      " SLA_days             | 174.52559467491477   \n",
      " case_status          | null                 \n",
      " source_id            | 7232.054685284322    \n",
      " request_address      | null                 \n",
      " council_district     | 2.756720551794847    \n",
      "-RECORD 3------------------------------------\n",
      " summary              | min                  \n",
      " case_id              | 1013225542           \n",
      " num_days_late        | -1417.0006019999998  \n",
      " dept_division        | 311 Call Center      \n",
      " service_request_type | \"Vacant Lot-City ... \n",
      " SLA_days             | 0.125                \n",
      " case_status          | Closed               \n",
      " source_id            | 100137               \n",
      " request_address      | 0  BASSWOOD DR, S... \n",
      " council_district     | 0                    \n",
      "-RECORD 4------------------------------------\n",
      " summary              | max                  \n",
      " case_id              | 1014759620           \n",
      " num_days_late        | 519.6980787          \n",
      " dept_division        | Waste Collection     \n",
      " service_request_type | Zoning: Visual Ob... \n",
      " SLA_days             | 1420.0               \n",
      " case_status          | Open                 \n",
      " source_id            | yh24110              \n",
      " request_address      | ZURICH and AMSTERDAM \n",
      " council_district     | 10                   \n",
      "\n"
     ]
    }
   ],
   "source": [
    "case_df.describe().show(vertical=True)"
   ]
  },
  {
   "cell_type": "code",
   "execution_count": 55,
   "metadata": {},
   "outputs": [],
   "source": [
    "max_date = case_df.select(max('case_closed_date')).first()[0]"
   ]
  },
  {
   "cell_type": "code",
   "execution_count": 56,
   "metadata": {},
   "outputs": [
    {
     "name": "stdout",
     "output_type": "stream",
     "text": [
      "-RECORD 0------------------------------------\n",
      " case_id              | 1014127332           \n",
      " case_opened_date     | 2018-01-01 00:42:00  \n",
      " case_closed_date     | 2018-01-01 00:42:00  \n",
      " case_due_date        | 2020-09-26 00:42:00  \n",
      " case_late            | false                \n",
      " num_days_late        | -998.5087616000001   \n",
      " case_closed          | true                 \n",
      " dept_division        | Field Operations     \n",
      " service_request_type | Stray Animal         \n",
      " SLA_days             | 999.0                \n",
      " case_status          | Closed               \n",
      " source_id            | svcCRMLS             \n",
      " request_address      | 2315  EL PASO ST,... \n",
      " council_district     | 5                    \n",
      " case_age             | 219                  \n",
      "-RECORD 1------------------------------------\n",
      " case_id              | 1014127333           \n",
      " case_opened_date     | 2018-01-01 00:46:00  \n",
      " case_closed_date     | 2018-01-01 00:46:00  \n",
      " case_due_date        | 2018-01-05 08:30:00  \n",
      " case_late            | false                \n",
      " num_days_late        | -2.0126041669999997  \n",
      " case_closed          | true                 \n",
      " dept_division        | Storm Water          \n",
      " service_request_type | Removal Of Obstru... \n",
      " SLA_days             | 4.322222222          \n",
      " case_status          | Closed               \n",
      " source_id            | svcCRMSS             \n",
      " request_address      | 2215  GOLIAD RD, ... \n",
      " council_district     | 3                    \n",
      " case_age             | 219                  \n",
      "-RECORD 2------------------------------------\n",
      " case_id              | 1014127334           \n",
      " case_opened_date     | 2018-01-01 00:48:00  \n",
      " case_closed_date     | 2018-01-01 00:48:00  \n",
      " case_due_date        | 2018-01-05 08:30:00  \n",
      " case_late            | false                \n",
      " num_days_late        | -3.022337963         \n",
      " case_closed          | true                 \n",
      " dept_division        | Storm Water          \n",
      " service_request_type | Removal Of Obstru... \n",
      " SLA_days             | 4.320729167          \n",
      " case_status          | Closed               \n",
      " source_id            | svcCRMSS             \n",
      " request_address      | 102  PALFREY ST W... \n",
      " council_district     | 3                    \n",
      " case_age             | 219                  \n",
      "-RECORD 3------------------------------------\n",
      " case_id              | 1014127335           \n",
      " case_opened_date     | 2018-01-01 01:29:00  \n",
      " case_closed_date     | 2018-01-01 01:29:00  \n",
      " case_due_date        | 2018-01-17 08:30:00  \n",
      " case_late            | false                \n",
      " num_days_late        | -15.01148148         \n",
      " case_closed          | true                 \n",
      " dept_division        | Code Enforcement     \n",
      " service_request_type | Front Or Side Yar... \n",
      " SLA_days             | 16.29188657          \n",
      " case_status          | Closed               \n",
      " source_id            | svcCRMSS             \n",
      " request_address      | 114  LA GARDE ST,... \n",
      " council_district     | 3                    \n",
      " case_age             | 219                  \n",
      "-RECORD 4------------------------------------\n",
      " case_id              | 1014127336           \n",
      " case_opened_date     | 2018-01-01 01:34:00  \n",
      " case_closed_date     | 2018-01-01 01:34:00  \n",
      " case_due_date        | 2018-01-01 04:34:00  \n",
      " case_late            | true                 \n",
      " num_days_late        | 0.37216435200000003  \n",
      " case_closed          | true                 \n",
      " dept_division        | Field Operations     \n",
      " service_request_type | Animal Cruelty(Cr... \n",
      " SLA_days             | 0.125                \n",
      " case_status          | Closed               \n",
      " source_id            | svcCRMSS             \n",
      " request_address      | 734  CLEARVIEW DR... \n",
      " council_district     | 7                    \n",
      " case_age             | 219                  \n",
      "only showing top 5 rows\n",
      "\n"
     ]
    }
   ],
   "source": [
    "case_df = (\n",
    "    case_df.withColumn('case_age',datediff(lit(max_date), 'case_opened_date'))\n",
    ")\n",
    "\n",
    "case_df.show(5, vertical = True)"
   ]
  },
  {
   "cell_type": "code",
   "execution_count": 57,
   "metadata": {},
   "outputs": [
    {
     "name": "stdout",
     "output_type": "stream",
     "text": [
      "+-------+-----------------+\n",
      "|summary|         SLA_days|\n",
      "+-------+-----------------+\n",
      "|  count|            18081|\n",
      "|   mean|67.47167643113069|\n",
      "| stddev|83.56549024394532|\n",
      "|    min|            0.125|\n",
      "|    max|       1419.00191|\n",
      "+-------+-----------------+\n",
      "\n"
     ]
    }
   ],
   "source": [
    "case_df.filter('! case_closed').select('SLA_days').describe().show()"
   ]
  },
  {
   "cell_type": "code",
   "execution_count": 58,
   "metadata": {},
   "outputs": [
    {
     "name": "stdout",
     "output_type": "stream",
     "text": [
      "+-------+------------------+\n",
      "|summary|          case_age|\n",
      "+-------+------------------+\n",
      "|  count|             18110|\n",
      "|   mean| 82.87338487023744|\n",
      "| stddev|114.68853606815411|\n",
      "|    min|                 0|\n",
      "|    max|               584|\n",
      "+-------+------------------+\n",
      "\n"
     ]
    }
   ],
   "source": [
    "case_df.filter('! case_closed').select('case_age').describe().show()"
   ]
  },
  {
   "cell_type": "code",
   "execution_count": 59,
   "metadata": {},
   "outputs": [
    {
     "name": "stdout",
     "output_type": "stream",
     "text": [
      "-RECORD 0------------------------------------\n",
      " case_id              | 1013225646           \n",
      " case_opened_date     | 2017-01-01 13:48:00  \n",
      " case_closed_date     | 2017-01-01 13:48:00  \n",
      " case_due_date        | 2017-01-17 08:30:00  \n",
      " case_late            | true                 \n",
      " num_days_late        | 348.6458333          \n",
      " case_closed          | false                \n",
      " dept_division        | Code Enforcement     \n",
      " service_request_type | No Address Posted    \n",
      " SLA_days             | 15.77859954          \n",
      " case_status          | Open                 \n",
      " source_id            | svcCRMSS             \n",
      " request_address      | 7299  SHADOW RIDG... \n",
      " council_district     | 6                    \n",
      " case_age             | 584                  \n",
      "-RECORD 1------------------------------------\n",
      " case_id              | 1013225651           \n",
      " case_opened_date     | 2017-01-01 13:57:00  \n",
      " case_closed_date     | 2017-01-01 13:57:00  \n",
      " case_due_date        | 2017-01-17 08:30:00  \n",
      " case_late            | true                 \n",
      " num_days_late        | 348.6458333          \n",
      " case_closed          | false                \n",
      " dept_division        | Code Enforcement     \n",
      " service_request_type | No Address Posted    \n",
      " SLA_days             | 15.77247685          \n",
      " case_status          | Open                 \n",
      " source_id            | svcCRMSS             \n",
      " request_address      | 7295  SHADOW RIDG... \n",
      " council_district     | 6                    \n",
      " case_age             | 584                  \n",
      "-RECORD 2------------------------------------\n",
      " case_id              | 1013226813           \n",
      " case_opened_date     | 2017-01-02 11:26:00  \n",
      " case_closed_date     | 2017-01-02 11:26:00  \n",
      " case_due_date        | 2017-01-17 11:26:00  \n",
      " case_late            | true                 \n",
      " num_days_late        | 348.52356480000003   \n",
      " case_closed          | false                \n",
      " dept_division        | Code Enforcement     \n",
      " service_request_type | No Address Posted    \n",
      " SLA_days             | 15.0                 \n",
      " case_status          | Open                 \n",
      " source_id            | svcCRMSS             \n",
      " request_address      | HIGHFIELD and MIL... \n",
      " council_district     | 6                    \n",
      " case_age             | 583                  \n",
      "only showing top 3 rows\n",
      "\n"
     ]
    }
   ],
   "source": [
    "case_df.filter(expr('! case_closed')).sort(desc('num_days_late')).show(3, vertical=True)\n"
   ]
  },
  {
   "cell_type": "markdown",
   "metadata": {},
   "source": [
    "2. How many Stray Animal cases are there?"
   ]
  },
  {
   "cell_type": "code",
   "execution_count": 70,
   "metadata": {},
   "outputs": [],
   "source": [
    "case_df = case_df.withColumn('service_request_type', lower(case_df.service_request_type))"
   ]
  },
  {
   "cell_type": "code",
   "execution_count": 72,
   "metadata": {},
   "outputs": [
    {
     "name": "stdout",
     "output_type": "stream",
     "text": [
      "-RECORD 0------------------------------------\n",
      " case_id              | 1014127332           \n",
      " case_opened_date     | 2018-01-01 00:42:00  \n",
      " case_closed_date     | 2018-01-01 00:42:00  \n",
      " case_due_date        | 2020-09-26 00:42:00  \n",
      " case_late            | false                \n",
      " num_days_late        | -998.5087616000001   \n",
      " case_closed          | true                 \n",
      " dept_division        | Field Operations     \n",
      " service_request_type | stray animal         \n",
      " SLA_days             | 999.0                \n",
      " case_status          | Closed               \n",
      " source_id            | svcCRMLS             \n",
      " request_address      | 2315  EL PASO ST,... \n",
      " council_district     | 5                    \n",
      " case_age             | 219                  \n",
      "-RECORD 1------------------------------------\n",
      " case_id              | 1014127333           \n",
      " case_opened_date     | 2018-01-01 00:46:00  \n",
      " case_closed_date     | 2018-01-01 00:46:00  \n",
      " case_due_date        | 2018-01-05 08:30:00  \n",
      " case_late            | false                \n",
      " num_days_late        | -2.0126041669999997  \n",
      " case_closed          | true                 \n",
      " dept_division        | Storm Water          \n",
      " service_request_type | removal of obstru... \n",
      " SLA_days             | 4.322222222          \n",
      " case_status          | Closed               \n",
      " source_id            | svcCRMSS             \n",
      " request_address      | 2215  GOLIAD RD, ... \n",
      " council_district     | 3                    \n",
      " case_age             | 219                  \n",
      "-RECORD 2------------------------------------\n",
      " case_id              | 1014127334           \n",
      " case_opened_date     | 2018-01-01 00:48:00  \n",
      " case_closed_date     | 2018-01-01 00:48:00  \n",
      " case_due_date        | 2018-01-05 08:30:00  \n",
      " case_late            | false                \n",
      " num_days_late        | -3.022337963         \n",
      " case_closed          | true                 \n",
      " dept_division        | Storm Water          \n",
      " service_request_type | removal of obstru... \n",
      " SLA_days             | 4.320729167          \n",
      " case_status          | Closed               \n",
      " source_id            | svcCRMSS             \n",
      " request_address      | 102  PALFREY ST W... \n",
      " council_district     | 3                    \n",
      " case_age             | 219                  \n",
      "-RECORD 3------------------------------------\n",
      " case_id              | 1014127335           \n",
      " case_opened_date     | 2018-01-01 01:29:00  \n",
      " case_closed_date     | 2018-01-01 01:29:00  \n",
      " case_due_date        | 2018-01-17 08:30:00  \n",
      " case_late            | false                \n",
      " num_days_late        | -15.01148148         \n",
      " case_closed          | true                 \n",
      " dept_division        | Code Enforcement     \n",
      " service_request_type | front or side yar... \n",
      " SLA_days             | 16.29188657          \n",
      " case_status          | Closed               \n",
      " source_id            | svcCRMSS             \n",
      " request_address      | 114  LA GARDE ST,... \n",
      " council_district     | 3                    \n",
      " case_age             | 219                  \n",
      "-RECORD 4------------------------------------\n",
      " case_id              | 1014127336           \n",
      " case_opened_date     | 2018-01-01 01:34:00  \n",
      " case_closed_date     | 2018-01-01 01:34:00  \n",
      " case_due_date        | 2018-01-01 04:34:00  \n",
      " case_late            | true                 \n",
      " num_days_late        | 0.37216435200000003  \n",
      " case_closed          | true                 \n",
      " dept_division        | Field Operations     \n",
      " service_request_type | animal cruelty(cr... \n",
      " SLA_days             | 0.125                \n",
      " case_status          | Closed               \n",
      " source_id            | svcCRMSS             \n",
      " request_address      | 734  CLEARVIEW DR... \n",
      " council_district     | 7                    \n",
      " case_age             | 219                  \n",
      "only showing top 5 rows\n",
      "\n"
     ]
    }
   ],
   "source": [
    "case_df.show(5,vertical = True)"
   ]
  },
  {
   "cell_type": "code",
   "execution_count": 77,
   "metadata": {
    "scrolled": true
   },
   "outputs": [
    {
     "data": {
      "text/plain": [
       "26760"
      ]
     },
     "execution_count": 77,
     "metadata": {},
     "output_type": "execute_result"
    }
   ],
   "source": [
    "case_df.where('service_request_type == lower(\"Stray Animal\")').count()"
   ]
  },
  {
   "cell_type": "markdown",
   "metadata": {},
   "source": [
    "3. How many service requests that are assigned to the Field Operations department(`dept_division`) are not classified as \"Officer Standby\" request type"
   ]
  },
  {
   "cell_type": "code",
   "execution_count": 92,
   "metadata": {},
   "outputs": [
    {
     "data": {
      "text/plain": [
       "113902"
      ]
     },
     "execution_count": 92,
     "metadata": {},
     "output_type": "execute_result"
    }
   ],
   "source": [
    "case_df.filter('dept_division ==\"Field Operations\"').filter('service_request_type != lower(\"Officer Standby\")').count()"
   ]
  },
  {
   "cell_type": "markdown",
   "metadata": {},
   "source": [
    "convert the `council_district` column to a string column."
   ]
  },
  {
   "cell_type": "code",
   "execution_count": 93,
   "metadata": {},
   "outputs": [
    {
     "name": "stdout",
     "output_type": "stream",
     "text": [
      "+----------------+------+\n",
      "|council_district| count|\n",
      "+----------------+------+\n",
      "|               1|119309|\n",
      "|               6| 74095|\n",
      "|               3|102706|\n",
      "|               5|114609|\n",
      "|               9| 40916|\n",
      "|               4| 93778|\n",
      "|               8| 42345|\n",
      "|               7| 72445|\n",
      "|              10| 62926|\n",
      "|               2|114745|\n",
      "|               0|  3830|\n",
      "+----------------+------+\n",
      "\n"
     ]
    }
   ],
   "source": [
    "case_df.groupBy('council_district').count().show()"
   ]
  },
  {
   "cell_type": "code",
   "execution_count": 94,
   "metadata": {},
   "outputs": [],
   "source": [
    "case_df = case_df.withColumn('council_district', col('council_district').cast(\"string\"))"
   ]
  },
  {
   "cell_type": "code",
   "execution_count": 95,
   "metadata": {},
   "outputs": [
    {
     "data": {
      "text/plain": [
       "DataFrame[case_id: int, case_opened_date: timestamp, case_closed_date: timestamp, case_due_date: timestamp, case_late: boolean, num_days_late: double, case_closed: boolean, dept_division: string, service_request_type: string, SLA_days: double, case_status: string, source_id: string, request_address: string, council_district: string, case_age: int]"
      ]
     },
     "execution_count": 95,
     "metadata": {},
     "output_type": "execute_result"
    }
   ],
   "source": [
    "case_df"
   ]
  },
  {
   "cell_type": "markdown",
   "metadata": {},
   "source": [
    "5. Extract the year from the `case_closed_date` column."
   ]
  },
  {
   "cell_type": "code",
   "execution_count": 97,
   "metadata": {},
   "outputs": [
    {
     "name": "stdout",
     "output_type": "stream",
     "text": [
      "-RECORD 0------------------------------------\n",
      " case_id              | 1014127332           \n",
      " case_opened_date     | 2018-01-01 00:42:00  \n",
      " case_closed_date     | 2018-01-01 00:42:00  \n",
      " case_due_date        | 2020-09-26 00:42:00  \n",
      " case_late            | false                \n",
      " num_days_late        | -998.5087616000001   \n",
      " case_closed          | true                 \n",
      " dept_division        | Field Operations     \n",
      " service_request_type | stray animal         \n",
      " SLA_days             | 999.0                \n",
      " case_status          | Closed               \n",
      " source_id            | svcCRMLS             \n",
      " request_address      | 2315  EL PASO ST,... \n",
      " council_district     | 5                    \n",
      " case_age             | 219                  \n",
      " year_closed          | 2018                 \n",
      "-RECORD 1------------------------------------\n",
      " case_id              | 1014127333           \n",
      " case_opened_date     | 2018-01-01 00:46:00  \n",
      " case_closed_date     | 2018-01-01 00:46:00  \n",
      " case_due_date        | 2018-01-05 08:30:00  \n",
      " case_late            | false                \n",
      " num_days_late        | -2.0126041669999997  \n",
      " case_closed          | true                 \n",
      " dept_division        | Storm Water          \n",
      " service_request_type | removal of obstru... \n",
      " SLA_days             | 4.322222222          \n",
      " case_status          | Closed               \n",
      " source_id            | svcCRMSS             \n",
      " request_address      | 2215  GOLIAD RD, ... \n",
      " council_district     | 3                    \n",
      " case_age             | 219                  \n",
      " year_closed          | 2018                 \n",
      "-RECORD 2------------------------------------\n",
      " case_id              | 1014127334           \n",
      " case_opened_date     | 2018-01-01 00:48:00  \n",
      " case_closed_date     | 2018-01-01 00:48:00  \n",
      " case_due_date        | 2018-01-05 08:30:00  \n",
      " case_late            | false                \n",
      " num_days_late        | -3.022337963         \n",
      " case_closed          | true                 \n",
      " dept_division        | Storm Water          \n",
      " service_request_type | removal of obstru... \n",
      " SLA_days             | 4.320729167          \n",
      " case_status          | Closed               \n",
      " source_id            | svcCRMSS             \n",
      " request_address      | 102  PALFREY ST W... \n",
      " council_district     | 3                    \n",
      " case_age             | 219                  \n",
      " year_closed          | 2018                 \n",
      "-RECORD 3------------------------------------\n",
      " case_id              | 1014127335           \n",
      " case_opened_date     | 2018-01-01 01:29:00  \n",
      " case_closed_date     | 2018-01-01 01:29:00  \n",
      " case_due_date        | 2018-01-17 08:30:00  \n",
      " case_late            | false                \n",
      " num_days_late        | -15.01148148         \n",
      " case_closed          | true                 \n",
      " dept_division        | Code Enforcement     \n",
      " service_request_type | front or side yar... \n",
      " SLA_days             | 16.29188657          \n",
      " case_status          | Closed               \n",
      " source_id            | svcCRMSS             \n",
      " request_address      | 114  LA GARDE ST,... \n",
      " council_district     | 3                    \n",
      " case_age             | 219                  \n",
      " year_closed          | 2018                 \n",
      "-RECORD 4------------------------------------\n",
      " case_id              | 1014127336           \n",
      " case_opened_date     | 2018-01-01 01:34:00  \n",
      " case_closed_date     | 2018-01-01 01:34:00  \n",
      " case_due_date        | 2018-01-01 04:34:00  \n",
      " case_late            | true                 \n",
      " num_days_late        | 0.37216435200000003  \n",
      " case_closed          | true                 \n",
      " dept_division        | Field Operations     \n",
      " service_request_type | animal cruelty(cr... \n",
      " SLA_days             | 0.125                \n",
      " case_status          | Closed               \n",
      " source_id            | svcCRMSS             \n",
      " request_address      | 734  CLEARVIEW DR... \n",
      " council_district     | 7                    \n",
      " case_age             | 219                  \n",
      " year_closed          | 2018                 \n",
      "only showing top 5 rows\n",
      "\n"
     ]
    }
   ],
   "source": [
    "case_df = case_df.withColumn('year_closed', year('case_closed_date'))\n",
    "\n",
    "case_df.show(5,vertical = True)"
   ]
  },
  {
   "cell_type": "markdown",
   "metadata": {},
   "source": [
    "6. Convert `num_days_late` from days to hours in new column `num_hours_late`. "
   ]
  },
  {
   "cell_type": "code",
   "execution_count": 100,
   "metadata": {},
   "outputs": [
    {
     "data": {
      "text/plain": [
       "DataFrame[case_id: int, case_opened_date: timestamp, case_closed_date: timestamp, case_due_date: timestamp, case_late: boolean, num_days_late: double, case_closed: boolean, dept_division: string, service_request_type: string, SLA_days: double, case_status: string, source_id: string, request_address: string, council_district: string, case_age: int, year_closed: int, num_hours_late: double]"
      ]
     },
     "execution_count": 100,
     "metadata": {},
     "output_type": "execute_result"
    }
   ],
   "source": [
    "case_df = case_df.withColumn('num_hours_late', expr('num_days_late*24'))\n",
    "case_df"
   ]
  },
  {
   "cell_type": "markdown",
   "metadata": {},
   "source": [
    "7. Join the case data with the source and deptarment data."
   ]
  },
  {
   "cell_type": "code",
   "execution_count": 102,
   "metadata": {},
   "outputs": [],
   "source": [
    "df = (\n",
    "    case_df\n",
    "    # left join on dept_division\n",
    "    .join(dept_df, 'dept_division', 'left')\n",
    "    .drop(dept_df.dept_division)\n",
    "    .drop(dept_df.dept_name)\n",
    "    .drop(case_df.dept_division)\n",
    "    .withColumnRenamed('standardized_dept_name', 'department')\n",
    "#     .withColumn('dept_subject_to_SLA', col('dept_subject_to_SLA == \"YES\"'))\n",
    ")"
   ]
  },
  {
   "cell_type": "code",
   "execution_count": 103,
   "metadata": {},
   "outputs": [
    {
     "name": "stdout",
     "output_type": "stream",
     "text": [
      "-RECORD 0------------------------------------\n",
      " case_id              | 1014127332           \n",
      " case_opened_date     | 2018-01-01 00:42:00  \n",
      " case_closed_date     | 2018-01-01 00:42:00  \n",
      " case_due_date        | 2020-09-26 00:42:00  \n",
      " case_late            | false                \n",
      " num_days_late        | -998.5087616000001   \n",
      " case_closed          | true                 \n",
      " service_request_type | stray animal         \n",
      " SLA_days             | 999.0                \n",
      " case_status          | Closed               \n",
      " source_id            | svcCRMLS             \n",
      " request_address      | 2315  EL PASO ST,... \n",
      " council_district     | 5                    \n",
      " case_age             | 219                  \n",
      " year_closed          | 2018                 \n",
      " num_hours_late       | -23964.2102784       \n",
      " department           | Animal Care Services \n",
      " dept_subject_to_SLA  | true                 \n",
      "-RECORD 1------------------------------------\n",
      " case_id              | 1014127333           \n",
      " case_opened_date     | 2018-01-01 00:46:00  \n",
      " case_closed_date     | 2018-01-01 00:46:00  \n",
      " case_due_date        | 2018-01-05 08:30:00  \n",
      " case_late            | false                \n",
      " num_days_late        | -2.0126041669999997  \n",
      " case_closed          | true                 \n",
      " service_request_type | removal of obstru... \n",
      " SLA_days             | 4.322222222          \n",
      " case_status          | Closed               \n",
      " source_id            | svcCRMSS             \n",
      " request_address      | 2215  GOLIAD RD, ... \n",
      " council_district     | 3                    \n",
      " case_age             | 219                  \n",
      " year_closed          | 2018                 \n",
      " num_hours_late       | -48.302500007999996  \n",
      " department           | Trans & Cap Impro... \n",
      " dept_subject_to_SLA  | true                 \n",
      "-RECORD 2------------------------------------\n",
      " case_id              | 1014127334           \n",
      " case_opened_date     | 2018-01-01 00:48:00  \n",
      " case_closed_date     | 2018-01-01 00:48:00  \n",
      " case_due_date        | 2018-01-05 08:30:00  \n",
      " case_late            | false                \n",
      " num_days_late        | -3.022337963         \n",
      " case_closed          | true                 \n",
      " service_request_type | removal of obstru... \n",
      " SLA_days             | 4.320729167          \n",
      " case_status          | Closed               \n",
      " source_id            | svcCRMSS             \n",
      " request_address      | 102  PALFREY ST W... \n",
      " council_district     | 3                    \n",
      " case_age             | 219                  \n",
      " year_closed          | 2018                 \n",
      " num_hours_late       | -72.536111112        \n",
      " department           | Trans & Cap Impro... \n",
      " dept_subject_to_SLA  | true                 \n",
      "-RECORD 3------------------------------------\n",
      " case_id              | 1014127335           \n",
      " case_opened_date     | 2018-01-01 01:29:00  \n",
      " case_closed_date     | 2018-01-01 01:29:00  \n",
      " case_due_date        | 2018-01-17 08:30:00  \n",
      " case_late            | false                \n",
      " num_days_late        | -15.01148148         \n",
      " case_closed          | true                 \n",
      " service_request_type | front or side yar... \n",
      " SLA_days             | 16.29188657          \n",
      " case_status          | Closed               \n",
      " source_id            | svcCRMSS             \n",
      " request_address      | 114  LA GARDE ST,... \n",
      " council_district     | 3                    \n",
      " case_age             | 219                  \n",
      " year_closed          | 2018                 \n",
      " num_hours_late       | -360.27555552        \n",
      " department           | DSD/Code Enforcement \n",
      " dept_subject_to_SLA  | true                 \n",
      "-RECORD 4------------------------------------\n",
      " case_id              | 1014127336           \n",
      " case_opened_date     | 2018-01-01 01:34:00  \n",
      " case_closed_date     | 2018-01-01 01:34:00  \n",
      " case_due_date        | 2018-01-01 04:34:00  \n",
      " case_late            | true                 \n",
      " num_days_late        | 0.37216435200000003  \n",
      " case_closed          | true                 \n",
      " service_request_type | animal cruelty(cr... \n",
      " SLA_days             | 0.125                \n",
      " case_status          | Closed               \n",
      " source_id            | svcCRMSS             \n",
      " request_address      | 734  CLEARVIEW DR... \n",
      " council_district     | 7                    \n",
      " case_age             | 219                  \n",
      " year_closed          | 2018                 \n",
      " num_hours_late       | 8.931944448000001    \n",
      " department           | Animal Care Services \n",
      " dept_subject_to_SLA  | true                 \n",
      "only showing top 5 rows\n",
      "\n"
     ]
    }
   ],
   "source": [
    "df.show(5, vertical = True)"
   ]
  },
  {
   "cell_type": "markdown",
   "metadata": {},
   "source": [
    "8. Are there any cases that do not have a request source?"
   ]
  },
  {
   "cell_type": "code",
   "execution_count": 115,
   "metadata": {
    "scrolled": false
   },
   "outputs": [
    {
     "name": "stdout",
     "output_type": "stream",
     "text": [
      "(0 rows)\n",
      "\n"
     ]
    }
   ],
   "source": [
    "df.where('source_id == \"0\" ').show(5, vertical = True)"
   ]
  },
  {
   "cell_type": "code",
   "execution_count": 137,
   "metadata": {},
   "outputs": [],
   "source": [
    "source_id_df = df.select(df.source_id.isNull().alias('null_id'))"
   ]
  },
  {
   "cell_type": "code",
   "execution_count": 138,
   "metadata": {},
   "outputs": [
    {
     "data": {
      "text/plain": [
       "DataFrame[null_id: boolean]"
      ]
     },
     "execution_count": 138,
     "metadata": {},
     "output_type": "execute_result"
    }
   ],
   "source": [
    "source_id_df"
   ]
  },
  {
   "cell_type": "code",
   "execution_count": 144,
   "metadata": {},
   "outputs": [
    {
     "name": "stdout",
     "output_type": "stream",
     "text": [
      "+-------------+\n",
      "|sum(null_int)|\n",
      "+-------------+\n",
      "|          0.0|\n",
      "+-------------+\n",
      "\n"
     ]
    }
   ],
   "source": [
    "source_id_df.select(source_id_df.null_id, when(source_id_df.null_id == True, '1').otherwise(0).alias('null_int')).select(sum('null_int')).show()"
   ]
  },
  {
   "cell_type": "markdown",
   "metadata": {},
   "source": [
    "9. What are the top 10 service request types in termsof number of requests?"
   ]
  },
  {
   "cell_type": "code",
   "execution_count": 149,
   "metadata": {},
   "outputs": [
    {
     "name": "stdout",
     "output_type": "stream",
     "text": [
      "+------------------------+--------------------------------+-----+\n",
      "|department              |service_request_type            |count|\n",
      "+------------------------+--------------------------------+-----+\n",
      "|Solid Waste             |no pickup                       |86855|\n",
      "|DSD/Code Enforcement    |overgrown yard/trash            |65895|\n",
      "|DSD/Code Enforcement    |bandit signs                    |32910|\n",
      "|Solid Waste             |damaged cart                    |30338|\n",
      "|DSD/Code Enforcement    |front or side yard parking      |28794|\n",
      "|Animal Care Services    |stray animal                    |26760|\n",
      "|Animal Care Services    |aggressive animal(non-critical) |24882|\n",
      "|Solid Waste             |cart exchange request           |22024|\n",
      "|DSD/Code Enforcement    |junk vehicle on private property|21473|\n",
      "|Trans & Cap Improvements|pot hole repair                 |20616|\n",
      "+------------------------+--------------------------------+-----+\n",
      "only showing top 10 rows\n",
      "\n"
     ]
    }
   ],
   "source": [
    "df.groupBy('department','service_request_type').count().sort(desc('count')).show(10, truncate=False)"
   ]
  },
  {
   "cell_type": "markdown",
   "metadata": {},
   "source": [
    "10. What are the top 10 service request types in terms of average days?"
   ]
  },
  {
   "cell_type": "code",
   "execution_count": 156,
   "metadata": {
    "scrolled": true
   },
   "outputs": [
    {
     "name": "stdout",
     "output_type": "stream",
     "text": [
      "+------------------------+--------------------------------------+------------------+\n",
      "|department              |service_request_type                  |avg_case_age      |\n",
      "+------------------------+--------------------------------------+------------------+\n",
      "|Animal Care Services    |spay/neuter request response          |570.0             |\n",
      "|Trans & Cap Improvements|floodplain inquiry                    |560.0             |\n",
      "|DSD/Code Enforcement    |record keeping of used mattresses     |554.0             |\n",
      "|DSD/Code Enforcement    |labeling for used mattress            |553.4285714285714 |\n",
      "|DSD/Code Enforcement    |license requied used mattress sales   |551.8571428571429 |\n",
      "|DSD/Code Enforcement    |signage requied for sale of used mattr|550.8333333333334 |\n",
      "|DSD/Code Enforcement    |structure/housing maintenance         |507.1828153564899 |\n",
      "|Trans & Cap Improvements|sign fabrication - internal           |499.32365145228215|\n",
      "|DSD/Code Enforcement    |storage of used mattress              |487.0             |\n",
      "|Solid Waste             |organics property damage              |483.0             |\n",
      "+------------------------+--------------------------------------+------------------+\n",
      "only showing top 10 rows\n",
      "\n"
     ]
    }
   ],
   "source": [
    "df.groupBy('department', 'service_request_type').agg(avg('case_age').alias('avg_case_age')).sort(desc('avg_case_age')).show(10, truncate = False)"
   ]
  },
  {
   "cell_type": "code",
   "execution_count": 162,
   "metadata": {
    "scrolled": false
   },
   "outputs": [
    {
     "name": "stdout",
     "output_type": "stream",
     "text": [
      "+------------------------+--------------------------------------+------------------+\n",
      "|department              |service_request_type                  |avg_days_late     |\n",
      "+------------------------+--------------------------------------+------------------+\n",
      "|DSD/Code Enforcement    |zoning: junk yards                    |175.9563621042095 |\n",
      "|DSD/Code Enforcement    |labeling for used mattress            |162.43032902285717|\n",
      "|DSD/Code Enforcement    |record keeping of used mattresses     |153.99724039428568|\n",
      "|DSD/Code Enforcement    |signage requied for sale of used mattr|151.63868055333333|\n",
      "|DSD/Code Enforcement    |storage of used mattress              |142.112556415     |\n",
      "|DSD/Code Enforcement    |zoning: recycle yard                  |135.92851612479797|\n",
      "|DSD/Code Enforcement    |donation container enforcement        |131.75610506358706|\n",
      "|DSD/Code Enforcement    |license requied used mattress sales   |128.79828704142858|\n",
      "|Trans & Cap Improvements|traffic signal graffiti               |77.90021217000002 |\n",
      "|Customer Service        |complaint                             |72.51790932659713 |\n",
      "+------------------------+--------------------------------------+------------------+\n",
      "only showing top 10 rows\n",
      "\n"
     ]
    }
   ],
   "source": [
    "df.groupBy('department', 'service_request_type').agg(avg('num_days_late').alias('avg_days_late')).sort(desc('avg_days_late')).show(10, truncate = False)\n",
    "\n",
    "\n"
   ]
  },
  {
   "cell_type": "markdown",
   "metadata": {},
   "source": [
    "11. Does number of days late depend on department?"
   ]
  },
  {
   "cell_type": "code",
   "execution_count": 164,
   "metadata": {},
   "outputs": [
    {
     "name": "stdout",
     "output_type": "stream",
     "text": [
      "+--------------------+-------------------+\n",
      "|          department| avg(num_days_late)|\n",
      "+--------------------+-------------------+\n",
      "|         Solid Waste| -2.193864424022545|\n",
      "|Animal Care Services|-226.16549770717506|\n",
      "|Trans & Cap Impro...|-20.509793501785314|\n",
      "|  Parks & Recreation| -5.283345998745901|\n",
      "|    Customer Service|  59.49019459221518|\n",
      "|        Metro Health| -4.904223205386017|\n",
      "|        City Council|               null|\n",
      "|DSD/Code Enforcement| -38.32346772537388|\n",
      "+--------------------+-------------------+\n",
      "\n"
     ]
    }
   ],
   "source": [
    "df.groupBy('department').agg(avg('num_days_late')).show()"
   ]
  },
  {
   "cell_type": "markdown",
   "metadata": {},
   "source": [
    "12. How doo number of days late depend on department and request type?"
   ]
  },
  {
   "cell_type": "code",
   "execution_count": 169,
   "metadata": {},
   "outputs": [
    {
     "name": "stdout",
     "output_type": "stream",
     "text": [
      "+--------------------+--------------------+-------------------+\n",
      "|          department|service_request_type| avg(num_days_late)|\n",
      "+--------------------+--------------------+-------------------+\n",
      "|        City Council|cco_request for r...|               null|\n",
      "|        City Council|request for resea...|               null|\n",
      "|Trans & Cap Impro...|  engineering design|      -1399.1272335|\n",
      "|Trans & Cap Impro...|signal timing mod...|-1247.0797799732143|\n",
      "|Animal Care Services|        stray animal|  -998.804572616083|\n",
      "|  Parks & Recreation|major park improv...| -280.2546235360405|\n",
      "|Trans & Cap Impro...|sidewalk cost sha...|-184.87626063647144|\n",
      "|DSD/Code Enforcement|multi tenant exte...|-135.71588128047625|\n",
      "|DSD/Code Enforcement|   cps energy towers|-129.84778717829747|\n",
      "|DSD/Code Enforcement|cps energy wood p...|-129.30905202721226|\n",
      "|DSD/Code Enforcement|cps energy metal ...|-129.17919786427768|\n",
      "|DSD/Code Enforcement|multi tenant inte...| -125.1431856354651|\n",
      "|DSD/Code Enforcement|temporary obstruc...|-119.75801638405595|\n",
      "|Trans & Cap Impro...|manhole sunken/ra...|-119.24760327300169|\n",
      "|DSD/Code Enforcement|swim. pool inspec...|-116.49671577005492|\n",
      "|DSD/Code Enforcement|wasting water (le...|-113.51817250353427|\n",
      "|DSD/Code Enforcement|   water no services|-113.50003797533864|\n",
      "|DSD/Code Enforcement|low hanging limbs...| -112.6483035106034|\n",
      "|DSD/Code Enforcement|zoning business i...|-111.76685019425403|\n",
      "|Trans & Cap Impro...|base/pavement repair|-109.77784269163158|\n",
      "|DSD/Code Enforcement|zoning: multi-fam...|-108.53885084347893|\n",
      "|DSD/Code Enforcement|zoning: outside s...|-107.45987894391577|\n",
      "|DSD/Code Enforcement|minimum housing-o...|-106.91024135187746|\n",
      "|DSD/Code Enforcement|minimum housing-t...|-106.07576679573653|\n",
      "|DSD/Code Enforcement|zoning: illumination| -98.56725257661007|\n",
      "|DSD/Code Enforcement|certificates of o...| -92.57815517679504|\n",
      "|DSD/Code Enforcement|used/scrap tire f...| -91.92989401152632|\n",
      "|DSD/Code Enforcement|improper disposal...| -88.68119984666664|\n",
      "|DSD/Code Enforcement|zoning: mobile homes| -87.64190208242809|\n",
      "|Trans & Cap Impro...|pedestrian signal...|  -87.3333292408095|\n",
      "|DSD/Code Enforcement|    zoning: setbacks| -85.22990275924353|\n",
      "|DSD/Code Enforcement|whole scrap tires...| -83.95457295138236|\n",
      "|Trans & Cap Impro...|signal timing mod...| -80.20183653341978|\n",
      "|DSD/Code Enforcement|improper rec keep...| -79.78437676840679|\n",
      "|DSD/Code Enforcement|structure/housing...| -78.73634965848264|\n",
      "|DSD/Code Enforcement|used/scrap tire f...| -75.62464366171227|\n",
      "|Trans & Cap Impro...|traffic signal ne...| -72.94694697178412|\n",
      "|DSD/Code Enforcement|used/scrap tire f...| -71.23635577898266|\n",
      "|Trans & Cap Impro...|     shoulder repair| -69.54302552005522|\n",
      "|DSD/Code Enforcement|graffiti: vacant ...|       -69.07114005|\n",
      "|Trans & Cap Impro...|garbage pu alley ...| -68.79938956740993|\n",
      "|Trans & Cap Impro...|flashing beacon n...| -68.19004095633333|\n",
      "|Trans & Cap Impro...|sign fabrication ...| -64.70059325633196|\n",
      "|DSD/Code Enforcement|graffiti: private...|-63.236813830450515|\n",
      "|DSD/Code Enforcement|zoning: district ...|  -61.2997194892376|\n",
      "|DSD/Code Enforcement|graffiti: residen...|-61.111482927500006|\n",
      "|DSD/Code Enforcement|sewer no connections| -59.79347114177333|\n",
      "|DSD/Code Enforcement|improper storage ...| -59.16603550577174|\n",
      "|DSD/Code Enforcement|graffiti: commerc...|-58.870344428275864|\n",
      "|DSD/Code Enforcement|    brush violations| -56.71667975042195|\n",
      "|DSD/Code Enforcement|fly breeding and ...|-56.706540260078434|\n",
      "|DSD/Code Enforcement|vacant lot: over ...|       -56.01857639|\n",
      "|DSD/Code Enforcement|graffiti: tenant ...|      -55.643420135|\n",
      "|DSD/Code Enforcement|vacant lot-city (...|-55.371431568125004|\n",
      "|Trans & Cap Impro...|school sign new r...| -55.25446556194737|\n",
      "|DSD/Code Enforcement|zoning: visual ob...| -54.32975198854224|\n",
      "|Trans & Cap Impro...|left-turn signal ...|-54.179095879629465|\n",
      "|DSD/Code Enforcement|   sewer line broken|-53.807271519148145|\n",
      "|DSD/Code Enforcement|dead trees: priva...| -53.57938516864957|\n",
      "|DSD/Code Enforcement|vacant lot/overgr...|-53.287081873092674|\n",
      "|DSD/Code Enforcement|dumpsters: mainte...| -53.21230938457167|\n",
      "|DSD/Code Enforcement|pooled water (mos...| -52.95818011378741|\n",
      "|Trans & Cap Impro...|drainage investig...| -50.80349505619169|\n",
      "|DSD/Code Enforcement|\"vacant lot-state...|-50.434000731157894|\n",
      "|DSD/Code Enforcement|vacant house over...| -49.86748577163441|\n",
      "|DSD/Code Enforcement|graffiti: vacant ...| -48.23054784166666|\n",
      "|DSD/Code Enforcement|discharge into pu...|-47.195505987891295|\n",
      "|DSD/Code Enforcement|wasting water (ge...|      -46.766600529|\n",
      "|DSD/Code Enforcement|  lot-private (1000)| -46.57406877496535|\n",
      "|DSD/Code Enforcement|overgrown yard/trash| -46.33082449910283|\n",
      "|DSD/Code Enforcement|alley-way mainten...| -46.15797785799112|\n",
      "|DSD/Code Enforcement|historical buildi...|      -46.001082175|\n",
      "|DSD/Code Enforcement|\"vacant lot-city ...| -45.21877967939106|\n",
      "|DSD/Code Enforcement|vacant lot-county...|-43.014040637777775|\n",
      "|Trans & Cap Impro...|pavement marking ...| -42.93589732436331|\n",
      "|DSD/Code Enforcement|\"vacant lot-state...|-42.925429012933336|\n",
      "|DSD/Code Enforcement|vacant lot-state ...| -42.86698559777778|\n",
      "|DSD/Code Enforcement|junk vehicle on p...|   -42.645234895022|\n",
      "|DSD/Code Enforcement|\"vacant lot-city ...|-42.632767744083644|\n",
      "|Trans & Cap Impro...|traffic issue inv...|  -41.5918755065886|\n",
      "|DSD/Code Enforcement|animal investigat...|       -40.95604321|\n",
      "|DSD/Code Enforcement|\"vacant lot-count...| -40.71908742742308|\n",
      "|DSD/Code Enforcement|\"vacant lot-priva...|-40.586750940029006|\n",
      "|DSD/Code Enforcement|\"vacant lot-priva...| -40.57290981337572|\n",
      "|DSD/Code Enforcement|dang. premises/cl...|-40.249111266180414|\n",
      "|DSD/Code Enforcement|dang premises/sec...| -39.85677104811111|\n",
      "|DSD/Code Enforcement|dang premises/cut...|  -39.6620474370628|\n",
      "|DSD/Code Enforcement|vacant lot: withi...|-38.781242284166666|\n",
      "|DSD/Code Enforcement|junk vehicle - wr...| -38.23608133214375|\n",
      "|Trans & Cap Impro...|drainage inlet re...| -38.22566041024753|\n",
      "|Trans & Cap Impro...|street/drainage p...| -36.94975357746611|\n",
      "|DSD/Code Enforcement|\"vacant lot-count...|-36.232064043200005|\n",
      "|Trans & Cap Impro...|  all-way stop study|  -36.0311956242953|\n",
      "|Trans & Cap Impro...|sign installation...| -35.73690518649663|\n",
      "|Trans & Cap Impro...|water ponding or ...| -35.04626682322999|\n",
      "|Trans & Cap Impro...|guard rail/guard ...| -34.37809052415518|\n",
      "|Trans & Cap Impro...|drainage channel/...|-33.903084865416766|\n",
      "|Trans & Cap Impro...|drainage channel ...| -32.87897183672917|\n",
      "|DSD/Code Enforcement|graffiti: vacant ...|-30.916953537857143|\n",
      "|Trans & Cap Impro...|illegal floodplai...|     -29.4462905095|\n",
      "+--------------------+--------------------+-------------------+\n",
      "only showing top 100 rows\n",
      "\n"
     ]
    }
   ],
   "source": [
    "df.groupBy('department', 'service_request_type').agg(avg('num_days_late')).sort('avg(num_days_late)').show(100)"
   ]
  },
  {
   "cell_type": "code",
   "execution_count": null,
   "metadata": {},
   "outputs": [],
   "source": []
  }
 ],
 "metadata": {
  "kernelspec": {
   "display_name": "Python 3",
   "language": "python",
   "name": "python3"
  },
  "language_info": {
   "codemirror_mode": {
    "name": "ipython",
    "version": 3
   },
   "file_extension": ".py",
   "mimetype": "text/x-python",
   "name": "python",
   "nbconvert_exporter": "python",
   "pygments_lexer": "ipython3",
   "version": "3.7.3"
  }
 },
 "nbformat": 4,
 "nbformat_minor": 2
}

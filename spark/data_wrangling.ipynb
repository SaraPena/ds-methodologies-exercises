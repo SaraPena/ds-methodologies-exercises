{
 "cells": [
  {
   "cell_type": "markdown",
   "metadata": {},
   "source": [
    "# Exercises\n",
    "\n",
    "## Data Aquisition\n",
    "\n",
    "These exercises use the `case.csv`, `dept.csv`, and `source.csv` files from the San Antonio 311 call data set.\n",
    "\n",
    "1. Read the case, department, and source data into their own spark dataframes."
   ]
  },
  {
   "cell_type": "code",
   "execution_count": 1,
   "metadata": {},
   "outputs": [],
   "source": [
    "from pyspark.sql import SparkSession\n",
    "from pyspark.sql.functions import *"
   ]
  },
  {
   "cell_type": "code",
   "execution_count": 2,
   "metadata": {},
   "outputs": [],
   "source": [
    "spark = SparkSession.builder.getOrCreate()"
   ]
  },
  {
   "cell_type": "code",
   "execution_count": 3,
   "metadata": {},
   "outputs": [],
   "source": [
    "source_df = spark.read.csv('data/source.csv', sep = ',', header = True, inferSchema = True)"
   ]
  },
  {
   "cell_type": "code",
   "execution_count": 4,
   "metadata": {},
   "outputs": [
    {
     "name": "stdout",
     "output_type": "stream",
     "text": [
      "+---------+----------------+\n",
      "|source_id| source_username|\n",
      "+---------+----------------+\n",
      "|   100137|Merlene Blodgett|\n",
      "|   103582|     Carmen Cura|\n",
      "|   106463| Richard Sanchez|\n",
      "|   119403|  Betty De Hoyos|\n",
      "|   119555|  Socorro Quiara|\n",
      "+---------+----------------+\n",
      "only showing top 5 rows\n",
      "\n"
     ]
    }
   ],
   "source": [
    "source_df.show(5)"
   ]
  },
  {
   "cell_type": "code",
   "execution_count": 27,
   "metadata": {},
   "outputs": [],
   "source": [
    "case_df = spark.read.csv('data/case.csv', sep = ',', header = True, inferSchema = True)"
   ]
  },
  {
   "cell_type": "code",
   "execution_count": 6,
   "metadata": {},
   "outputs": [
    {
     "name": "stdout",
     "output_type": "stream",
     "text": [
      "-RECORD 0-----------------------------------------------------\n",
      " case_id              | 1014127332                            \n",
      " case_opened_date     | 1/1/18 0:42                           \n",
      " case_closed_date     | 1/1/18 12:29                          \n",
      " SLA_due_date         | 9/26/20 0:42                          \n",
      " case_late            | NO                                    \n",
      " num_days_late        | -998.5087616000001                    \n",
      " case_closed          | YES                                   \n",
      " dept_division        | Field Operations                      \n",
      " service_request_type | Stray Animal                          \n",
      " SLA_days             | 999.0                                 \n",
      " case_status          | Closed                                \n",
      " source_id            | svcCRMLS                              \n",
      " request_address      | 2315  EL PASO ST, San Antonio, 78207  \n",
      " council_district     | 5                                     \n",
      "-RECORD 1-----------------------------------------------------\n",
      " case_id              | 1014127333                            \n",
      " case_opened_date     | 1/1/18 0:46                           \n",
      " case_closed_date     | 1/3/18 8:11                           \n",
      " SLA_due_date         | 1/5/18 8:30                           \n",
      " case_late            | NO                                    \n",
      " num_days_late        | -2.0126041669999997                   \n",
      " case_closed          | YES                                   \n",
      " dept_division        | Storm Water                           \n",
      " service_request_type | Removal Of Obstruction                \n",
      " SLA_days             | 4.322222222                           \n",
      " case_status          | Closed                                \n",
      " source_id            | svcCRMSS                              \n",
      " request_address      | 2215  GOLIAD RD, San Antonio, 78223   \n",
      " council_district     | 3                                     \n",
      "-RECORD 2-----------------------------------------------------\n",
      " case_id              | 1014127334                            \n",
      " case_opened_date     | 1/1/18 0:48                           \n",
      " case_closed_date     | 1/2/18 7:57                           \n",
      " SLA_due_date         | 1/5/18 8:30                           \n",
      " case_late            | NO                                    \n",
      " num_days_late        | -3.022337963                          \n",
      " case_closed          | YES                                   \n",
      " dept_division        | Storm Water                           \n",
      " service_request_type | Removal Of Obstruction                \n",
      " SLA_days             | 4.320729167                           \n",
      " case_status          | Closed                                \n",
      " source_id            | svcCRMSS                              \n",
      " request_address      | 102  PALFREY ST W, San Antonio, 78223 \n",
      " council_district     | 3                                     \n",
      "-RECORD 3-----------------------------------------------------\n",
      " case_id              | 1014127335                            \n",
      " case_opened_date     | 1/1/18 1:29                           \n",
      " case_closed_date     | 1/2/18 8:13                           \n",
      " SLA_due_date         | 1/17/18 8:30                          \n",
      " case_late            | NO                                    \n",
      " num_days_late        | -15.01148148                          \n",
      " case_closed          | YES                                   \n",
      " dept_division        | Code Enforcement                      \n",
      " service_request_type | Front Or Side Yard Parking            \n",
      " SLA_days             | 16.29188657                           \n",
      " case_status          | Closed                                \n",
      " source_id            | svcCRMSS                              \n",
      " request_address      | 114  LA GARDE ST, San Antonio, 78223  \n",
      " council_district     | 3                                     \n",
      "-RECORD 4-----------------------------------------------------\n",
      " case_id              | 1014127336                            \n",
      " case_opened_date     | 1/1/18 1:34                           \n",
      " case_closed_date     | 1/1/18 13:29                          \n",
      " SLA_due_date         | 1/1/18 4:34                           \n",
      " case_late            | YES                                   \n",
      " num_days_late        | 0.37216435200000003                   \n",
      " case_closed          | YES                                   \n",
      " dept_division        | Field Operations                      \n",
      " service_request_type | Animal Cruelty(Critical)              \n",
      " SLA_days             | 0.125                                 \n",
      " case_status          | Closed                                \n",
      " source_id            | svcCRMSS                              \n",
      " request_address      | 734  CLEARVIEW DR, San Antonio, 78228 \n",
      " council_district     | 7                                     \n",
      "only showing top 5 rows\n",
      "\n"
     ]
    }
   ],
   "source": [
    "case_df.show(5, vertical = True, truncate = False)"
   ]
  },
  {
   "cell_type": "code",
   "execution_count": 7,
   "metadata": {},
   "outputs": [],
   "source": [
    "dept_df = spark.read.csv('data/dept.csv', sep = ',', header = True, inferSchema = True)"
   ]
  },
  {
   "cell_type": "code",
   "execution_count": 8,
   "metadata": {},
   "outputs": [
    {
     "name": "stdout",
     "output_type": "stream",
     "text": [
      "-RECORD 0--------------------------------------\n",
      " dept_division          | 311 Call Center      \n",
      " dept_name              | Customer Service     \n",
      " standardized_dept_name | Customer Service     \n",
      " dept_subject_to_SLA    | YES                  \n",
      "-RECORD 1--------------------------------------\n",
      " dept_division          | Brush                \n",
      " dept_name              | Solid Waste Manag... \n",
      " standardized_dept_name | Solid Waste          \n",
      " dept_subject_to_SLA    | YES                  \n",
      "-RECORD 2--------------------------------------\n",
      " dept_division          | Clean and Green      \n",
      " dept_name              | Parks and Recreation \n",
      " standardized_dept_name | Parks & Recreation   \n",
      " dept_subject_to_SLA    | YES                  \n",
      "-RECORD 3--------------------------------------\n",
      " dept_division          | Clean and Green N... \n",
      " dept_name              | Parks and Recreation \n",
      " standardized_dept_name | Parks & Recreation   \n",
      " dept_subject_to_SLA    | YES                  \n",
      "-RECORD 4--------------------------------------\n",
      " dept_division          | Code Enforcement     \n",
      " dept_name              | Code Enforcement ... \n",
      " standardized_dept_name | DSD/Code Enforcement \n",
      " dept_subject_to_SLA    | YES                  \n",
      "only showing top 5 rows\n",
      "\n"
     ]
    }
   ],
   "source": [
    "dept_df.show(5, vertical = True)"
   ]
  },
  {
   "cell_type": "markdown",
   "metadata": {},
   "source": [
    "2. Let's see how writing to the local disk works in spark:\n",
    "    - Write the code necessary to store the source data in both csv, and json format, store these as `sources_csv` and `sources_json`\n",
    "    - Inspect your folder structure. What do you notice?"
   ]
  },
  {
   "cell_type": "code",
   "execution_count": 9,
   "metadata": {},
   "outputs": [],
   "source": [
    "source_df.write.csv('data/sources_csv', mode = 'overwrite', header = True)"
   ]
  },
  {
   "cell_type": "code",
   "execution_count": 10,
   "metadata": {},
   "outputs": [],
   "source": [
    "source_df.write.json('data/sources_json', mode = 'overwrite')"
   ]
  },
  {
   "cell_type": "markdown",
   "metadata": {},
   "source": [
    "3. Inspect the data in your dataframes. Are the data types appropriate? Write the code necessary to cast the values to the appropriate types."
   ]
  },
  {
   "cell_type": "code",
   "execution_count": 11,
   "metadata": {},
   "outputs": [
    {
     "name": "stdout",
     "output_type": "stream",
     "text": [
      "-RECORD 0------------------------------------\n",
      " case_id              | 1014127332           \n",
      " case_opened_date     | 1/1/18 0:42          \n",
      " case_closed_date     | 1/1/18 12:29         \n",
      " SLA_due_date         | 9/26/20 0:42         \n",
      " case_late            | NO                   \n",
      " num_days_late        | -998.5087616000001   \n",
      " case_closed          | YES                  \n",
      " dept_division        | Field Operations     \n",
      " service_request_type | Stray Animal         \n",
      " SLA_days             | 999.0                \n",
      " case_status          | Closed               \n",
      " source_id            | svcCRMLS             \n",
      " request_address      | 2315  EL PASO ST,... \n",
      " council_district     | 5                    \n",
      "-RECORD 1------------------------------------\n",
      " case_id              | 1014127333           \n",
      " case_opened_date     | 1/1/18 0:46          \n",
      " case_closed_date     | 1/3/18 8:11          \n",
      " SLA_due_date         | 1/5/18 8:30          \n",
      " case_late            | NO                   \n",
      " num_days_late        | -2.0126041669999997  \n",
      " case_closed          | YES                  \n",
      " dept_division        | Storm Water          \n",
      " service_request_type | Removal Of Obstru... \n",
      " SLA_days             | 4.322222222          \n",
      " case_status          | Closed               \n",
      " source_id            | svcCRMSS             \n",
      " request_address      | 2215  GOLIAD RD, ... \n",
      " council_district     | 3                    \n",
      "-RECORD 2------------------------------------\n",
      " case_id              | 1014127334           \n",
      " case_opened_date     | 1/1/18 0:48          \n",
      " case_closed_date     | 1/2/18 7:57          \n",
      " SLA_due_date         | 1/5/18 8:30          \n",
      " case_late            | NO                   \n",
      " num_days_late        | -3.022337963         \n",
      " case_closed          | YES                  \n",
      " dept_division        | Storm Water          \n",
      " service_request_type | Removal Of Obstru... \n",
      " SLA_days             | 4.320729167          \n",
      " case_status          | Closed               \n",
      " source_id            | svcCRMSS             \n",
      " request_address      | 102  PALFREY ST W... \n",
      " council_district     | 3                    \n",
      "-RECORD 3------------------------------------\n",
      " case_id              | 1014127335           \n",
      " case_opened_date     | 1/1/18 1:29          \n",
      " case_closed_date     | 1/2/18 8:13          \n",
      " SLA_due_date         | 1/17/18 8:30         \n",
      " case_late            | NO                   \n",
      " num_days_late        | -15.01148148         \n",
      " case_closed          | YES                  \n",
      " dept_division        | Code Enforcement     \n",
      " service_request_type | Front Or Side Yar... \n",
      " SLA_days             | 16.29188657          \n",
      " case_status          | Closed               \n",
      " source_id            | svcCRMSS             \n",
      " request_address      | 114  LA GARDE ST,... \n",
      " council_district     | 3                    \n",
      "-RECORD 4------------------------------------\n",
      " case_id              | 1014127336           \n",
      " case_opened_date     | 1/1/18 1:34          \n",
      " case_closed_date     | 1/1/18 13:29         \n",
      " SLA_due_date         | 1/1/18 4:34          \n",
      " case_late            | YES                  \n",
      " num_days_late        | 0.37216435200000003  \n",
      " case_closed          | YES                  \n",
      " dept_division        | Field Operations     \n",
      " service_request_type | Animal Cruelty(Cr... \n",
      " SLA_days             | 0.125                \n",
      " case_status          | Closed               \n",
      " source_id            | svcCRMSS             \n",
      " request_address      | 734  CLEARVIEW DR... \n",
      " council_district     | 7                    \n",
      "only showing top 5 rows\n",
      "\n"
     ]
    }
   ],
   "source": [
    "case_df.show(5, vertical = True)"
   ]
  },
  {
   "cell_type": "code",
   "execution_count": 29,
   "metadata": {},
   "outputs": [
    {
     "data": {
      "text/plain": [
       "DataFrame[summary: string, case_id: string, case_opened_date: string, case_closed_date: string, case_due_date: string, case_late: string, num_days_late: string, case_closed: string, dept_division: string, service_request_type: string, SLA_days: string, case_status: string, source_id: string, request_address: string, council_district: string]"
      ]
     },
     "execution_count": 29,
     "metadata": {},
     "output_type": "execute_result"
    }
   ],
   "source": [
    "case_df.describe()"
   ]
  },
  {
   "cell_type": "code",
   "execution_count": 28,
   "metadata": {},
   "outputs": [
    {
     "name": "stdout",
     "output_type": "stream",
     "text": [
      "-RECORD 0------------------------------------\n",
      " case_id              | 1014127332           \n",
      " case_opened_date     | 1/1/18 0:42          \n",
      " case_closed_date     | 1/1/18 12:29         \n",
      " case_due_date        | 9/26/20 0:42         \n",
      " case_late            | NO                   \n",
      " num_days_late        | -998.5087616000001   \n",
      " case_closed          | YES                  \n",
      " dept_division        | Field Operations     \n",
      " service_request_type | Stray Animal         \n",
      " SLA_days             | 999.0                \n",
      " case_status          | Closed               \n",
      " source_id            | svcCRMLS             \n",
      " request_address      | 2315  EL PASO ST,... \n",
      " council_district     | 5                    \n",
      "-RECORD 1------------------------------------\n",
      " case_id              | 1014127333           \n",
      " case_opened_date     | 1/1/18 0:46          \n",
      " case_closed_date     | 1/3/18 8:11          \n",
      " case_due_date        | 1/5/18 8:30          \n",
      " case_late            | NO                   \n",
      " num_days_late        | -2.0126041669999997  \n",
      " case_closed          | YES                  \n",
      " dept_division        | Storm Water          \n",
      " service_request_type | Removal Of Obstru... \n",
      " SLA_days             | 4.322222222          \n",
      " case_status          | Closed               \n",
      " source_id            | svcCRMSS             \n",
      " request_address      | 2215  GOLIAD RD, ... \n",
      " council_district     | 3                    \n",
      "-RECORD 2------------------------------------\n",
      " case_id              | 1014127334           \n",
      " case_opened_date     | 1/1/18 0:48          \n",
      " case_closed_date     | 1/2/18 7:57          \n",
      " case_due_date        | 1/5/18 8:30          \n",
      " case_late            | NO                   \n",
      " num_days_late        | -3.022337963         \n",
      " case_closed          | YES                  \n",
      " dept_division        | Storm Water          \n",
      " service_request_type | Removal Of Obstru... \n",
      " SLA_days             | 4.320729167          \n",
      " case_status          | Closed               \n",
      " source_id            | svcCRMSS             \n",
      " request_address      | 102  PALFREY ST W... \n",
      " council_district     | 3                    \n",
      "-RECORD 3------------------------------------\n",
      " case_id              | 1014127335           \n",
      " case_opened_date     | 1/1/18 1:29          \n",
      " case_closed_date     | 1/2/18 8:13          \n",
      " case_due_date        | 1/17/18 8:30         \n",
      " case_late            | NO                   \n",
      " num_days_late        | -15.01148148         \n",
      " case_closed          | YES                  \n",
      " dept_division        | Code Enforcement     \n",
      " service_request_type | Front Or Side Yar... \n",
      " SLA_days             | 16.29188657          \n",
      " case_status          | Closed               \n",
      " source_id            | svcCRMSS             \n",
      " request_address      | 114  LA GARDE ST,... \n",
      " council_district     | 3                    \n",
      "-RECORD 4------------------------------------\n",
      " case_id              | 1014127336           \n",
      " case_opened_date     | 1/1/18 1:34          \n",
      " case_closed_date     | 1/1/18 13:29         \n",
      " case_due_date        | 1/1/18 4:34          \n",
      " case_late            | YES                  \n",
      " num_days_late        | 0.37216435200000003  \n",
      " case_closed          | YES                  \n",
      " dept_division        | Field Operations     \n",
      " service_request_type | Animal Cruelty(Cr... \n",
      " SLA_days             | 0.125                \n",
      " case_status          | Closed               \n",
      " source_id            | svcCRMSS             \n",
      " request_address      | 734  CLEARVIEW DR... \n",
      " council_district     | 7                    \n",
      "only showing top 5 rows\n",
      "\n"
     ]
    }
   ],
   "source": [
    "# Rename Columns\n",
    "# We'll rename this column to match the other date-type columns.\n",
    "\n",
    "case_df = case_df.withColumnRenamed('SLA_due_date', 'case_due_date')\n",
    "case_df.show(5, vertical = True)"
   ]
  },
  {
   "cell_type": "code",
   "execution_count": 30,
   "metadata": {},
   "outputs": [
    {
     "name": "stdout",
     "output_type": "stream",
     "text": [
      "+-----------+---------+------+\n",
      "|case_closed|case_late| count|\n",
      "+-----------+---------+------+\n",
      "|         NO|      YES|  6525|\n",
      "|        YES|      YES| 87978|\n",
      "|         NO|       NO| 11585|\n",
      "|        YES|       NO|735616|\n",
      "+-----------+---------+------+\n",
      "\n"
     ]
    }
   ],
   "source": [
    "# Correct Data Types.\n",
    "# Two columns `case_closed` and `case_late` store yes/no values.\n",
    "# Currently spark thinks they are strings; Let's turn them into booleans\n",
    "\n",
    "# demostrating we only have yes/no in each field.\n",
    "\n",
    "case_df.groupBy('case_closed', 'case_late').count().show()\n"
   ]
  },
  {
   "cell_type": "code",
   "execution_count": 31,
   "metadata": {},
   "outputs": [
    {
     "name": "stdout",
     "output_type": "stream",
     "text": [
      "+-----------+---------+\n",
      "|case_closed|case_late|\n",
      "+-----------+---------+\n",
      "|       true|    false|\n",
      "|       true|    false|\n",
      "|       true|    false|\n",
      "|       true|    false|\n",
      "|       true|     true|\n",
      "+-----------+---------+\n",
      "only showing top 5 rows\n",
      "\n"
     ]
    }
   ],
   "source": [
    "case_df = case_df.withColumn('case_closed', expr('case_closed == \"YES\"')).withColumn('case_late', expr('case_late == \"YES\"'))\n",
    "\n",
    "case_df.select('case_closed', 'case_late').show(5)"
   ]
  },
  {
   "cell_type": "code",
   "execution_count": 32,
   "metadata": {},
   "outputs": [
    {
     "data": {
      "text/plain": [
       "DataFrame[summary: string, case_id: string, case_opened_date: string, case_closed_date: string, case_due_date: string, num_days_late: string, dept_division: string, service_request_type: string, SLA_days: string, case_status: string, source_id: string, request_address: string, council_district: string]"
      ]
     },
     "execution_count": 32,
     "metadata": {},
     "output_type": "execute_result"
    }
   ],
   "source": [
    "case_df.describe()"
   ]
  },
  {
   "cell_type": "markdown",
   "metadata": {},
   "source": [
    "Now we will handle the 3 columns that have dates in them. We'll use spark's `to_timestamp` function for this.\n",
    "\n",
    "In order to work properly, we'll need to provide the date format when use the `to_timestamp`. The date format is a little different than the date functionality we've worked with in pandas, this because it using JaveSimpleDateFormat."
   ]
  },
  {
   "cell_type": "code",
   "execution_count": 33,
   "metadata": {},
   "outputs": [
    {
     "data": {
      "text/plain": [
       "DataFrame[summary: string, case_opened_date: string, case_closed_date: string, case_due_date: string]"
      ]
     },
     "execution_count": 33,
     "metadata": {},
     "output_type": "execute_result"
    }
   ],
   "source": [
    "case_df.select('case_opened_date', 'case_closed_date', 'case_due_date').describe()"
   ]
  },
  {
   "cell_type": "code",
   "execution_count": 34,
   "metadata": {},
   "outputs": [
    {
     "name": "stdout",
     "output_type": "stream",
     "text": [
      "+----------------+----------------+-------------+\n",
      "|case_opened_date|case_closed_date|case_due_date|\n",
      "+----------------+----------------+-------------+\n",
      "|     1/1/18 0:42|    1/1/18 12:29| 9/26/20 0:42|\n",
      "|     1/1/18 0:46|     1/3/18 8:11|  1/5/18 8:30|\n",
      "|     1/1/18 0:48|     1/2/18 7:57|  1/5/18 8:30|\n",
      "|     1/1/18 1:29|     1/2/18 8:13| 1/17/18 8:30|\n",
      "|     1/1/18 1:34|    1/1/18 13:29|  1/1/18 4:34|\n",
      "+----------------+----------------+-------------+\n",
      "only showing top 5 rows\n",
      "\n"
     ]
    }
   ],
   "source": [
    "case_df.select('case_opened_date', 'case_closed_date', 'case_due_date').show(5)"
   ]
  },
  {
   "cell_type": "code",
   "execution_count": 35,
   "metadata": {},
   "outputs": [
    {
     "data": {
      "text/plain": [
       "'M/d/yy H:mm'"
      ]
     },
     "execution_count": 35,
     "metadata": {},
     "output_type": "execute_result"
    }
   ],
   "source": [
    "fmt = 'M/d/yy H:mm'\n",
    "fmt"
   ]
  },
  {
   "cell_type": "code",
   "execution_count": 36,
   "metadata": {},
   "outputs": [
    {
     "data": {
      "text/plain": [
       "DataFrame[case_opened_date: timestamp, case_closed_date: timestamp, case_due_date: timestamp]"
      ]
     },
     "execution_count": 36,
     "metadata": {},
     "output_type": "execute_result"
    }
   ],
   "source": [
    "case_df = (\n",
    "    case_df.withColumn('case_opened_date', to_timestamp('case_opened_date', fmt))\n",
    "    .withColumn('case_closed_date', to_timestamp('case_opened_date', fmt))\n",
    "    .withColumn('case_due_date', to_timestamp('case_due_date', fmt))\n",
    ")\n",
    "\n",
    "case_df.select('case_opened_date', 'case_closed_date', 'case_due_date')\n",
    "\n"
   ]
  },
  {
   "cell_type": "code",
   "execution_count": 37,
   "metadata": {},
   "outputs": [
    {
     "name": "stdout",
     "output_type": "stream",
     "text": [
      "+-------------------+-------------------+-------------------+\n",
      "|   case_opened_date|   case_closed_date|      case_due_date|\n",
      "+-------------------+-------------------+-------------------+\n",
      "|2018-01-01 00:42:00|2018-01-01 00:42:00|2020-09-26 00:42:00|\n",
      "|2018-01-01 00:46:00|2018-01-01 00:46:00|2018-01-05 08:30:00|\n",
      "|2018-01-01 00:48:00|2018-01-01 00:48:00|2018-01-05 08:30:00|\n",
      "|2018-01-01 01:29:00|2018-01-01 01:29:00|2018-01-17 08:30:00|\n",
      "|2018-01-01 01:34:00|2018-01-01 01:34:00|2018-01-01 04:34:00|\n",
      "+-------------------+-------------------+-------------------+\n",
      "only showing top 5 rows\n",
      "\n"
     ]
    }
   ],
   "source": [
    "case_df.select('case_opened_date', 'case_closed_date', 'case_due_date').show(5)"
   ]
  },
  {
   "cell_type": "code",
   "execution_count": 41,
   "metadata": {},
   "outputs": [
    {
     "name": "stdout",
     "output_type": "stream",
     "text": [
      "-RECORD 0------------------------------------\n",
      " summary              | count                \n",
      " case_id              | 841704               \n",
      " num_days_late        | 841671               \n",
      " dept_division        | 841704               \n",
      " service_request_type | 841704               \n",
      " SLA_days             | 841671               \n",
      " case_status          | 841704               \n",
      " source_id            | 841704               \n",
      " request_address      | 841704               \n",
      " council_district     | 841704               \n",
      "-RECORD 1------------------------------------\n",
      " summary              | mean                 \n",
      " case_id              | 1.0139680837676392E9 \n",
      " num_days_late        | -49.07486758369357   \n",
      " dept_division        | null                 \n",
      " service_request_type | null                 \n",
      " SLA_days             | 59.25478976660689    \n",
      " case_status          | null                 \n",
      " source_id            | 136602.73663950132   \n",
      " request_address      | null                 \n",
      " council_district     | 4.625168705388117    \n",
      "-RECORD 2------------------------------------\n",
      " summary              | stddev               \n",
      " case_id              | 441537.91794711683   \n",
      " num_days_late        | 176.53002498187325   \n",
      " dept_division        | null                 \n",
      " service_request_type | null                 \n",
      " SLA_days             | 174.52559467491477   \n",
      " case_status          | null                 \n",
      " source_id            | 7232.054685284322    \n",
      " request_address      | null                 \n",
      " council_district     | 2.756720551794847    \n",
      "-RECORD 3------------------------------------\n",
      " summary              | min                  \n",
      " case_id              | 1013225542           \n",
      " num_days_late        | -1417.0006019999998  \n",
      " dept_division        | 311 Call Center      \n",
      " service_request_type | \"Vacant Lot-City ... \n",
      " SLA_days             | 0.125                \n",
      " case_status          | Closed               \n",
      " source_id            | 100137               \n",
      " request_address      | 0  BASSWOOD DR, S... \n",
      " council_district     | 0                    \n",
      "-RECORD 4------------------------------------\n",
      " summary              | max                  \n",
      " case_id              | 1014759620           \n",
      " num_days_late        | 519.6980787          \n",
      " dept_division        | Waste Collection     \n",
      " service_request_type | Zoning: Visual Ob... \n",
      " SLA_days             | 1420.0               \n",
      " case_status          | Open                 \n",
      " source_id            | yh24110              \n",
      " request_address      | ZURICH and AMSTERDAM \n",
      " council_district     | 10                   \n",
      "\n"
     ]
    }
   ],
   "source": [
    "case_df.describe().show(5,vertical = True)"
   ]
  },
  {
   "cell_type": "code",
   "execution_count": 40,
   "metadata": {},
   "outputs": [
    {
     "name": "stdout",
     "output_type": "stream",
     "text": [
      "-RECORD 0------------------------------------\n",
      " case_id              | 1014127332           \n",
      " case_opened_date     | 2018-01-01 00:42:00  \n",
      " case_closed_date     | 2018-01-01 00:42:00  \n",
      " case_due_date        | 2020-09-26 00:42:00  \n",
      " case_late            | false                \n",
      " num_days_late        | -998.5087616000001   \n",
      " case_closed          | true                 \n",
      " dept_division        | Field Operations     \n",
      " service_request_type | Stray Animal         \n",
      " SLA_days             | 999.0                \n",
      " case_status          | Closed               \n",
      " source_id            | svcCRMLS             \n",
      " request_address      | 2315  EL PASO ST,... \n",
      " council_district     | 5                    \n",
      "-RECORD 1------------------------------------\n",
      " case_id              | 1014127333           \n",
      " case_opened_date     | 2018-01-01 00:46:00  \n",
      " case_closed_date     | 2018-01-01 00:46:00  \n",
      " case_due_date        | 2018-01-05 08:30:00  \n",
      " case_late            | false                \n",
      " num_days_late        | -2.0126041669999997  \n",
      " case_closed          | true                 \n",
      " dept_division        | Storm Water          \n",
      " service_request_type | Removal Of Obstru... \n",
      " SLA_days             | 4.322222222          \n",
      " case_status          | Closed               \n",
      " source_id            | svcCRMSS             \n",
      " request_address      | 2215  GOLIAD RD, ... \n",
      " council_district     | 3                    \n",
      "-RECORD 2------------------------------------\n",
      " case_id              | 1014127334           \n",
      " case_opened_date     | 2018-01-01 00:48:00  \n",
      " case_closed_date     | 2018-01-01 00:48:00  \n",
      " case_due_date        | 2018-01-05 08:30:00  \n",
      " case_late            | false                \n",
      " num_days_late        | -3.022337963         \n",
      " case_closed          | true                 \n",
      " dept_division        | Storm Water          \n",
      " service_request_type | Removal Of Obstru... \n",
      " SLA_days             | 4.320729167          \n",
      " case_status          | Closed               \n",
      " source_id            | svcCRMSS             \n",
      " request_address      | 102  PALFREY ST W... \n",
      " council_district     | 3                    \n",
      "-RECORD 3------------------------------------\n",
      " case_id              | 1014127335           \n",
      " case_opened_date     | 2018-01-01 01:29:00  \n",
      " case_closed_date     | 2018-01-01 01:29:00  \n",
      " case_due_date        | 2018-01-17 08:30:00  \n",
      " case_late            | false                \n",
      " num_days_late        | -15.01148148         \n",
      " case_closed          | true                 \n",
      " dept_division        | Code Enforcement     \n",
      " service_request_type | Front Or Side Yar... \n",
      " SLA_days             | 16.29188657          \n",
      " case_status          | Closed               \n",
      " source_id            | svcCRMSS             \n",
      " request_address      | 114  LA GARDE ST,... \n",
      " council_district     | 3                    \n",
      "-RECORD 4------------------------------------\n",
      " case_id              | 1014127336           \n",
      " case_opened_date     | 2018-01-01 01:34:00  \n",
      " case_closed_date     | 2018-01-01 01:34:00  \n",
      " case_due_date        | 2018-01-01 04:34:00  \n",
      " case_late            | true                 \n",
      " num_days_late        | 0.37216435200000003  \n",
      " case_closed          | true                 \n",
      " dept_division        | Field Operations     \n",
      " service_request_type | Animal Cruelty(Cr... \n",
      " SLA_days             | 0.125                \n",
      " case_status          | Closed               \n",
      " source_id            | svcCRMSS             \n",
      " request_address      | 734  CLEARVIEW DR... \n",
      " council_district     | 7                    \n",
      "only showing top 5 rows\n",
      "\n"
     ]
    }
   ],
   "source": [
    "case_df.show(5,vertical = True)"
   ]
  },
  {
   "cell_type": "markdown",
   "metadata": {},
   "source": [
    "Now let's look at `dept.csv`"
   ]
  },
  {
   "cell_type": "code",
   "execution_count": 43,
   "metadata": {},
   "outputs": [
    {
     "name": "stdout",
     "output_type": "stream",
     "text": [
      "-RECORD 0--------------------------------------\n",
      " dept_division          | 311 Call Center      \n",
      " dept_name              | Customer Service     \n",
      " standardized_dept_name | Customer Service     \n",
      " dept_subject_to_SLA    | YES                  \n",
      "-RECORD 1--------------------------------------\n",
      " dept_division          | Brush                \n",
      " dept_name              | Solid Waste Manag... \n",
      " standardized_dept_name | Solid Waste          \n",
      " dept_subject_to_SLA    | YES                  \n",
      "-RECORD 2--------------------------------------\n",
      " dept_division          | Clean and Green      \n",
      " dept_name              | Parks and Recreation \n",
      " standardized_dept_name | Parks & Recreation   \n",
      " dept_subject_to_SLA    | YES                  \n",
      "-RECORD 3--------------------------------------\n",
      " dept_division          | Clean and Green N... \n",
      " dept_name              | Parks and Recreation \n",
      " standardized_dept_name | Parks & Recreation   \n",
      " dept_subject_to_SLA    | YES                  \n",
      "-RECORD 4--------------------------------------\n",
      " dept_division          | Code Enforcement     \n",
      " dept_name              | Code Enforcement ... \n",
      " standardized_dept_name | DSD/Code Enforcement \n",
      " dept_subject_to_SLA    | YES                  \n",
      "only showing top 5 rows\n",
      "\n"
     ]
    }
   ],
   "source": [
    "dept_df.show(5,vertical = True)"
   ]
  },
  {
   "cell_type": "code",
   "execution_count": 50,
   "metadata": {},
   "outputs": [
    {
     "name": "stdout",
     "output_type": "stream",
     "text": [
      "+-------------------------+-----------------------------+-----+\n",
      "|dept_name                |dept_division                |count|\n",
      "+-------------------------+-----------------------------+-----+\n",
      "|Trans & Cap Improvements |Traffic Engineering Design   |1    |\n",
      "|Trans & Cap Improvements |Signals                      |1    |\n",
      "|Parks and Recreation     |Tree Crew                    |1    |\n",
      "|Metro Health             |Vector                       |1    |\n",
      "|Code Enforcement Services|Code Enforcement             |1    |\n",
      "|Trans & Cap Improvements |Storm Water                  |1    |\n",
      "|Parks and Recreation     |Clean and Green              |1    |\n",
      "|Animal Care Services     |Field Operations             |1    |\n",
      "|Trans & Cap Improvements |Director's Office Horizontal |1    |\n",
      "|Customer Service         |311 Call Center              |1    |\n",
      "|Code Enforcement Services|Graffiti                     |1    |\n",
      "|null                     |Code Enforcement (Internal)  |1    |\n",
      "|Solid Waste Management   |Waste Collection             |1    |\n",
      "|City Council             |District 2                   |1    |\n",
      "|Parks and Recreation     |Shops (Internal)             |1    |\n",
      "|City Council             |District 10                  |1    |\n",
      "|Parks and Recreation     |Trades                       |1    |\n",
      "|City Council             |District 9                   |1    |\n",
      "|Solid Waste Management   |Miscellaneous                |1    |\n",
      "|Trans & Cap Improvements |Storm Water Engineering      |1    |\n",
      "|Development Services     |Engineering Division         |1    |\n",
      "|Trans & Cap Improvements |Streets                      |1    |\n",
      "|Solid Waste Management   |Brush                        |1    |\n",
      "|Trans & Cap Improvements |Signs and Markings           |1    |\n",
      "|Metro Health             |Food Establishments          |1    |\n",
      "|Metro Health             |Facility License             |1    |\n",
      "|Code Enforcement Services|Dangerous Premise (IntExp)   |1    |\n",
      "|City Council             |District 6                   |1    |\n",
      "|City Council             |District 3                   |1    |\n",
      "|Parks and Recreation     |Shops                        |1    |\n",
      "|Parks and Recreation     |Reservations                 |1    |\n",
      "|City Council             |District 1                   |1    |\n",
      "|Parks and Recreation     |Clean and Green Natural Areas|1    |\n",
      "|Solid Waste Management   |Solid Waste                  |1    |\n",
      "|City Council             |District 8                   |1    |\n",
      "|City Council             |District 7                   |1    |\n",
      "|Code Enforcement Services|Dangerous Premise            |1    |\n",
      "|Code Enforcement Services|Code Enforcement (IntExp)    |1    |\n",
      "|Code Enforcement Services|Graffiti (IntExp)            |1    |\n",
      "+-------------------------+-----------------------------+-----+\n",
      "\n"
     ]
    }
   ],
   "source": [
    "dept_df.groupBy('dept_name','dept_division').count().show(40, truncate=False)"
   ]
  },
  {
   "cell_type": "code",
   "execution_count": 53,
   "metadata": {},
   "outputs": [
    {
     "name": "stdout",
     "output_type": "stream",
     "text": [
      "+-------------------+-----+\n",
      "|dept_subject_to_SLA|count|\n",
      "+-------------------+-----+\n",
      "|                YES|   31|\n",
      "|                 NO|    8|\n",
      "+-------------------+-----+\n",
      "\n"
     ]
    }
   ],
   "source": [
    "# Change `dept_subject_to_SLA` to Boolean\n",
    "\n",
    "dept_df.select('dept_subject_to_SLA').groupBy('dept_subject_to_SLA').count().show()"
   ]
  },
  {
   "cell_type": "code",
   "execution_count": 54,
   "metadata": {},
   "outputs": [
    {
     "name": "stdout",
     "output_type": "stream",
     "text": [
      "-RECORD 0--------------------------------------\n",
      " dept_division          | 311 Call Center      \n",
      " dept_name              | Customer Service     \n",
      " standardized_dept_name | Customer Service     \n",
      " dept_subject_to_SLA    | true                 \n",
      "-RECORD 1--------------------------------------\n",
      " dept_division          | Brush                \n",
      " dept_name              | Solid Waste Manag... \n",
      " standardized_dept_name | Solid Waste          \n",
      " dept_subject_to_SLA    | true                 \n",
      "-RECORD 2--------------------------------------\n",
      " dept_division          | Clean and Green      \n",
      " dept_name              | Parks and Recreation \n",
      " standardized_dept_name | Parks & Recreation   \n",
      " dept_subject_to_SLA    | true                 \n",
      "-RECORD 3--------------------------------------\n",
      " dept_division          | Clean and Green N... \n",
      " dept_name              | Parks and Recreation \n",
      " standardized_dept_name | Parks & Recreation   \n",
      " dept_subject_to_SLA    | true                 \n",
      "-RECORD 4--------------------------------------\n",
      " dept_division          | Code Enforcement     \n",
      " dept_name              | Code Enforcement ... \n",
      " standardized_dept_name | DSD/Code Enforcement \n",
      " dept_subject_to_SLA    | true                 \n",
      "only showing top 5 rows\n",
      "\n"
     ]
    }
   ],
   "source": [
    "dept_df = dept_df.withColumn('dept_subject_to_SLA', expr('dept_subject_to_SLA == \"YES\"'))\n",
    "\n",
    "dept_df.show(5, vertical = True)"
   ]
  },
  {
   "cell_type": "code",
   "execution_count": 57,
   "metadata": {},
   "outputs": [
    {
     "data": {
      "text/plain": [
       "DataFrame[summary: string, dept_division: string, dept_name: string, standardized_dept_name: string]"
      ]
     },
     "execution_count": 57,
     "metadata": {},
     "output_type": "execute_result"
    }
   ],
   "source": [
    "dept_df.describe()"
   ]
  },
  {
   "cell_type": "markdown",
   "metadata": {},
   "source": [
    "Let's look at `source_df`."
   ]
  },
  {
   "cell_type": "code",
   "execution_count": 55,
   "metadata": {},
   "outputs": [
    {
     "name": "stdout",
     "output_type": "stream",
     "text": [
      "+---------+----------------+\n",
      "|source_id| source_username|\n",
      "+---------+----------------+\n",
      "|   100137|Merlene Blodgett|\n",
      "|   103582|     Carmen Cura|\n",
      "|   106463| Richard Sanchez|\n",
      "|   119403|  Betty De Hoyos|\n",
      "|   119555|  Socorro Quiara|\n",
      "+---------+----------------+\n",
      "only showing top 5 rows\n",
      "\n"
     ]
    }
   ],
   "source": [
    "source_df.show(5)"
   ]
  },
  {
   "cell_type": "code",
   "execution_count": 56,
   "metadata": {},
   "outputs": [
    {
     "data": {
      "text/plain": [
       "DataFrame[summary: string, source_id: string, source_username: string]"
      ]
     },
     "execution_count": 56,
     "metadata": {},
     "output_type": "execute_result"
    }
   ],
   "source": [
    "source_df.describe()"
   ]
  },
  {
   "cell_type": "code",
   "execution_count": 58,
   "metadata": {},
   "outputs": [
    {
     "name": "stdout",
     "output_type": "stream",
     "text": [
      "+---------+----------------+\n",
      "|source_id| source_username|\n",
      "+---------+----------------+\n",
      "|   100137|merlene blodgett|\n",
      "|   103582|     carmen cura|\n",
      "|   106463| richard sanchez|\n",
      "|   119403|  betty de hoyos|\n",
      "|   119555|  socorro quiara|\n",
      "+---------+----------------+\n",
      "only showing top 5 rows\n",
      "\n"
     ]
    }
   ],
   "source": [
    "source_df = source_df.withColumn('source_username', trim(lower(source_df.source_username)))\n",
    "\n",
    "source_df.show(5)"
   ]
  },
  {
   "cell_type": "markdown",
   "metadata": {},
   "source": [
    "1. How old is the latest(in terms of days past SLA) currently open issue? How long has the oldest (in terms of days since opened) currently opened issue been open?"
   ]
  }
 ],
 "metadata": {
  "kernelspec": {
   "display_name": "Python 3",
   "language": "python",
   "name": "python3"
  },
  "language_info": {
   "codemirror_mode": {
    "name": "ipython",
    "version": 3
   },
   "file_extension": ".py",
   "mimetype": "text/x-python",
   "name": "python",
   "nbconvert_exporter": "python",
   "pygments_lexer": "ipython3",
   "version": "3.7.3"
  }
 },
 "nbformat": 4,
 "nbformat_minor": 2
}

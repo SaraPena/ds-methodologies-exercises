{
 "cells": [
  {
   "cell_type": "markdown",
   "metadata": {},
   "source": [
    "# Exercises\n",
    "\n",
    "Answer the questions below by using a combination of the techniques discussed in the lesson that you think are appropriate.\n",
    "\n",
    "- How many different cases are there by department?"
   ]
  },
  {
   "cell_type": "code",
   "execution_count": 1,
   "metadata": {},
   "outputs": [],
   "source": [
    "from pyspark.sql import SparkSession\n",
    "from pyspark.sql.functions import (\n",
    "    expr,\n",
    "    col,\n",
    "    to_timestamp,\n",
    "    format_string,\n",
    "    regexp_extract,\n",
    "    datediff,\n",
    "    current_timestamp,\n",
    "    when,\n",
    "    max,\n",
    "    lit\n",
    ")\n",
    "\n",
    "import wrangle"
   ]
  },
  {
   "cell_type": "code",
   "execution_count": 2,
   "metadata": {},
   "outputs": [
    {
     "name": "stdout",
     "output_type": "stream",
     "text": [
      "[wrangle.py] reading case.csv\n",
      "[wrangle.py] handling data types\n",
      "[wrangle.py] parsing dates\n",
      "[wrangle.py] adding features\n",
      "[wrangle.py] joining departments\n"
     ]
    }
   ],
   "source": [
    "case_df = wrangle.wrangle_311()"
   ]
  },
  {
   "cell_type": "code",
   "execution_count": 3,
   "metadata": {},
   "outputs": [
    {
     "data": {
      "text/plain": [
       "DataFrame[dept_division: string, case_id: int, case_opened_date: timestamp, case_closed_date: timestamp, case_due_date: timestamp, case_late: boolean, num_days_late: double, case_closed: boolean, service_request_type: string, SLA_days: double, case_status: string, source_id: string, request_address: string, council_district: string, num_weeks_late: double, zipcode: string, case_age: int, days_to_closed: int, case_lifetime: int, department: string, dept_subject_to_SLA: boolean]"
      ]
     },
     "execution_count": 3,
     "metadata": {},
     "output_type": "execute_result"
    }
   ],
   "source": [
    "case_df"
   ]
  },
  {
   "cell_type": "code",
   "execution_count": 5,
   "metadata": {},
   "outputs": [
    {
     "name": "stdout",
     "output_type": "stream",
     "text": [
      "\n",
      " df shape: (841704, 21)\n",
      "\n"
     ]
    }
   ],
   "source": [
    "print('\\n df shape: (%d, %d)\\n' % (case_df.count(), len(case_df.columns)))\n"
   ]
  },
  {
   "cell_type": "code",
   "execution_count": 8,
   "metadata": {},
   "outputs": [
    {
     "name": "stdout",
     "output_type": "stream",
     "text": [
      "+--------------------+------+\n",
      "|          department| count|\n",
      "+--------------------+------+\n",
      "|         Solid Waste|279270|\n",
      "|Animal Care Services|116915|\n",
      "|Trans & Cap Impro...| 96193|\n",
      "|  Parks & Recreation| 19907|\n",
      "|    Customer Service|  2849|\n",
      "|        Metro Health|  5163|\n",
      "|        City Council|    33|\n",
      "|DSD/Code Enforcement|321374|\n",
      "+--------------------+------+\n",
      "\n"
     ]
    }
   ],
   "source": [
    "case_df.groupBy('department').count().show()"
   ]
  },
  {
   "cell_type": "code",
   "execution_count": 10,
   "metadata": {},
   "outputs": [],
   "source": [
    "case_pd = case_df.groupBy('department').count().toPandas()"
   ]
  },
  {
   "cell_type": "code",
   "execution_count": 16,
   "metadata": {},
   "outputs": [
    {
     "data": {
      "text/plain": [
       "<matplotlib.axes._subplots.AxesSubplot at 0x11c2242e8>"
      ]
     },
     "execution_count": 16,
     "metadata": {},
     "output_type": "execute_result"
    },
    {
     "data": {
      "image/png": "[encoded data removed]",
      "text/plain": [
       "<Figure size 432x288 with 1 Axes>"
      ]
     },
     "metadata": {
      "needs_background": "light"
     },
     "output_type": "display_data"
    }
   ],
   "source": [
    "case_pd.set_index('department').sort_values(by = ['count']).plot.barh()"
   ]
  },
  {
   "cell_type": "markdown",
   "metadata": {},
   "source": [
    "- Does the percentage of cases that are late vary by department?"
   ]
  },
  {
   "cell_type": "code",
   "execution_count": 17,
   "metadata": {},
   "outputs": [
    {
     "name": "stdout",
     "output_type": "stream",
     "text": [
      "-RECORD 0------------------------------------\n",
      " dept_division        | Field Operations     \n",
      " case_id              | 1014127332           \n",
      " case_opened_date     | 2018-01-01 00:42:00  \n",
      " case_closed_date     | 2018-01-01 12:29:00  \n",
      " case_due_date        | 2020-09-26 00:42:00  \n",
      " case_late            | false                \n",
      " num_days_late        | -998.5087616000001   \n",
      " case_closed          | true                 \n",
      " service_request_type | Stray Animal         \n",
      " SLA_days             | 999.0                \n",
      " case_status          | Closed               \n",
      " source_id            | svcCRMLS             \n",
      " request_address      | 2315  EL PASO ST,... \n",
      " council_district     | 005                  \n",
      " num_weeks_late       | -142.6441088         \n",
      " zipcode              | 78207                \n",
      " case_age             | 219                  \n",
      " days_to_closed       | 0                    \n",
      " case_lifetime        | 0                    \n",
      " department           | Animal Care Services \n",
      " dept_subject_to_SLA  | true                 \n",
      "only showing top 1 row\n",
      "\n"
     ]
    }
   ],
   "source": [
    "case_df.show(1, vertical=True)"
   ]
  },
  {
   "cell_type": "code",
   "execution_count": 20,
   "metadata": {
    "scrolled": false
   },
   "outputs": [
    {
     "name": "stdout",
     "output_type": "stream",
     "text": [
      "+--------------------+-----+\n",
      "|          department|count|\n",
      "+--------------------+-----+\n",
      "|         Solid Waste|32945|\n",
      "|Animal Care Services|23276|\n",
      "|Trans & Cap Impro...| 5411|\n",
      "|  Parks & Recreation| 3797|\n",
      "|    Customer Service| 2010|\n",
      "|        Metro Health|  829|\n",
      "|DSD/Code Enforcement|26235|\n",
      "+--------------------+-----+\n",
      "\n"
     ]
    }
   ],
   "source": [
    "case_df.filter(expr('case_late == \"true\"')).groupBy('department').count().show()"
   ]
  },
  {
   "cell_type": "code",
   "execution_count": 41,
   "metadata": {},
   "outputs": [],
   "source": [
    "case_status = case_df.groupBy('department').pivot('case_late').count().na.fill(0)"
   ]
  },
  {
   "cell_type": "code",
   "execution_count": 42,
   "metadata": {},
   "outputs": [
    {
     "name": "stdout",
     "output_type": "stream",
     "text": [
      "+--------------------+------+-----+\n",
      "|          department| false| true|\n",
      "+--------------------+------+-----+\n",
      "|         Solid Waste|246325|32945|\n",
      "|Animal Care Services| 93639|23276|\n",
      "|Trans & Cap Impro...| 90782| 5411|\n",
      "|    Customer Service|   839| 2010|\n",
      "|  Parks & Recreation| 16110| 3797|\n",
      "|        Metro Health|  4334|  829|\n",
      "|        City Council|    33|    0|\n",
      "|DSD/Code Enforcement|295139|26235|\n",
      "+--------------------+------+-----+\n",
      "\n"
     ]
    }
   ],
   "source": [
    "case_status.show()"
   ]
  },
  {
   "cell_type": "code",
   "execution_count": 43,
   "metadata": {},
   "outputs": [],
   "source": [
    "from pyspark.sql.functions import sum"
   ]
  },
  {
   "cell_type": "code",
   "execution_count": 52,
   "metadata": {
    "scrolled": true
   },
   "outputs": [],
   "source": [
    "cases_late = (case_status\n",
    " .select('department', \n",
    "         ((case_status.true/(case_status.false + case_status.true))*100)\n",
    "         .alias('percent_cases_late')))"
   ]
  },
  {
   "cell_type": "code",
   "execution_count": 53,
   "metadata": {},
   "outputs": [
    {
     "name": "stdout",
     "output_type": "stream",
     "text": [
      "+--------------------+------------------+\n",
      "|          department|percent_cases_late|\n",
      "+--------------------+------------------+\n",
      "|         Solid Waste| 11.79682744297633|\n",
      "|Animal Care Services|19.908480520035923|\n",
      "|Trans & Cap Impro...|5.6251494391483785|\n",
      "|    Customer Service| 70.55107055107055|\n",
      "|  Parks & Recreation|19.073692670919776|\n",
      "|        Metro Health|16.056556265736972|\n",
      "|        City Council|               0.0|\n",
      "|DSD/Code Enforcement|  8.16338596152769|\n",
      "+--------------------+------------------+\n",
      "\n"
     ]
    }
   ],
   "source": [
    "cases_late.show()"
   ]
  },
  {
   "cell_type": "code",
   "execution_count": 54,
   "metadata": {},
   "outputs": [
    {
     "data": {
      "text/html": [
       "<div>\n",
       "<style scoped>\n",
       "    .dataframe tbody tr th:only-of-type {\n",
       "        vertical-align: middle;\n",
       "    }\n",
       "\n",
       "    .dataframe tbody tr th {\n",
       "        vertical-align: top;\n",
       "    }\n",
       "\n",
       "    .dataframe thead th {\n",
       "        text-align: right;\n",
       "    }\n",
       "</style>\n",
       "<table border=\"1\" class=\"dataframe\">\n",
       "  <thead>\n",
       "    <tr style=\"text-align: right;\">\n",
       "      <th></th>\n",
       "      <th>department</th>\n",
       "      <th>percent_cases_late</th>\n",
       "    </tr>\n",
       "  </thead>\n",
       "  <tbody>\n",
       "    <tr>\n",
       "      <th>0</th>\n",
       "      <td>Solid Waste</td>\n",
       "      <td>11.796827</td>\n",
       "    </tr>\n",
       "    <tr>\n",
       "      <th>1</th>\n",
       "      <td>Animal Care Services</td>\n",
       "      <td>19.908481</td>\n",
       "    </tr>\n",
       "    <tr>\n",
       "      <th>2</th>\n",
       "      <td>Trans &amp; Cap Improvements</td>\n",
       "      <td>5.625149</td>\n",
       "    </tr>\n",
       "    <tr>\n",
       "      <th>3</th>\n",
       "      <td>Customer Service</td>\n",
       "      <td>70.551071</td>\n",
       "    </tr>\n",
       "    <tr>\n",
       "      <th>4</th>\n",
       "      <td>Parks &amp; Recreation</td>\n",
       "      <td>19.073693</td>\n",
       "    </tr>\n",
       "    <tr>\n",
       "      <th>5</th>\n",
       "      <td>Metro Health</td>\n",
       "      <td>16.056556</td>\n",
       "    </tr>\n",
       "    <tr>\n",
       "      <th>6</th>\n",
       "      <td>City Council</td>\n",
       "      <td>0.000000</td>\n",
       "    </tr>\n",
       "    <tr>\n",
       "      <th>7</th>\n",
       "      <td>DSD/Code Enforcement</td>\n",
       "      <td>8.163386</td>\n",
       "    </tr>\n",
       "  </tbody>\n",
       "</table>\n",
       "</div>"
      ],
      "text/plain": [
       "                 department  percent_cases_late\n",
       "0               Solid Waste           11.796827\n",
       "1      Animal Care Services           19.908481\n",
       "2  Trans & Cap Improvements            5.625149\n",
       "3          Customer Service           70.551071\n",
       "4        Parks & Recreation           19.073693\n",
       "5              Metro Health           16.056556\n",
       "6              City Council            0.000000\n",
       "7      DSD/Code Enforcement            8.163386"
      ]
     },
     "execution_count": 54,
     "metadata": {},
     "output_type": "execute_result"
    }
   ],
   "source": [
    "cases_late.toPandas()"
   ]
  },
  {
   "cell_type": "code",
   "execution_count": 60,
   "metadata": {},
   "outputs": [
    {
     "data": {
      "text/plain": [
       "<matplotlib.axes._subplots.AxesSubplot at 0x11c3f2d68>"
      ]
     },
     "execution_count": 60,
     "metadata": {},
     "output_type": "execute_result"
    },
    {
     "data": {
      "image/png": "[encoded data removed]",
      "text/plain": [
       "<Figure size 432x288 with 1 Axes>"
      ]
     },
     "metadata": {
      "needs_background": "light"
     },
     "output_type": "display_data"
    }
   ],
   "source": [
    "cases_late.toPandas().set_index('department').sort_values(by = ['percent_cases_late']).plot.barh()"
   ]
  },
  {
   "cell_type": "markdown",
   "metadata": {},
   "source": [
    "- On average, how late are the late cases by department?"
   ]
  },
  {
   "cell_type": "code",
   "execution_count": 64,
   "metadata": {},
   "outputs": [],
   "source": [
    "from pyspark.sql.functions import avg"
   ]
  },
  {
   "cell_type": "code",
   "execution_count": 76,
   "metadata": {
    "scrolled": true
   },
   "outputs": [
    {
     "data": {
      "text/plain": [
       "<matplotlib.axes._subplots.AxesSubplot at 0x11c665668>"
      ]
     },
     "execution_count": 76,
     "metadata": {},
     "output_type": "execute_result"
    },
    {
     "data": {
      "image/png": "[encoded data removed]",
      "text/plain": [
       "<Figure size 432x288 with 1 Axes>"
      ]
     },
     "metadata": {
      "needs_background": "light"
     },
     "output_type": "display_data"
    }
   ],
   "source": [
    "case_df.filter(case_df.case_late == 'true').groupBy('department').agg(avg('num_days_late').alias('avg_days_late')).toPandas().set_index('department').sort_values(by = ['avg_days_late']).plot.barh()\n",
    "\n",
    "\n"
   ]
  },
  {
   "cell_type": "markdown",
   "metadata": {},
   "source": [
    "- What is the service type that is the most late? Just for Parks and Rec?"
   ]
  },
  {
   "cell_type": "code",
   "execution_count": 81,
   "metadata": {},
   "outputs": [],
   "source": [
    "from pyspark.sql.functions import asc, desc"
   ]
  },
  {
   "cell_type": "code",
   "execution_count": 90,
   "metadata": {},
   "outputs": [
    {
     "name": "stdout",
     "output_type": "stream",
     "text": [
      "+--------------------+--------------------+------------------+\n",
      "|          department|service_request_type|avg(num_days_late)|\n",
      "+--------------------+--------------------+------------------+\n",
      "|DSD/Code Enforcement|  Zoning: Junk Yards| 175.9563621042095|\n",
      "|DSD/Code Enforcement|Labeling for Used...|162.43032902285717|\n",
      "|DSD/Code Enforcement|Record Keeping of...|153.99724039428568|\n",
      "|DSD/Code Enforcement|Signage Requied f...|151.63868055333333|\n",
      "|DSD/Code Enforcement|Storage of Used M...|     142.112556415|\n",
      "|DSD/Code Enforcement|Zoning: Recycle Yard|135.92851612479797|\n",
      "|DSD/Code Enforcement|Donation Containe...|131.75610506358706|\n",
      "|DSD/Code Enforcement|License Requied U...|128.79828704142858|\n",
      "|Trans & Cap Impro...|Traffic Signal Gr...| 77.90021217000002|\n",
      "|    Customer Service|           Complaint| 72.51790932659713|\n",
      "|DSD/Code Enforcement|             Vendors| 66.11831254322686|\n",
      "|  Parks & Recreation|Reservation Assis...|       66.03116319|\n",
      "|DSD/Code Enforcement|         Curbstoning|60.604338577986674|\n",
      "|DSD/Code Enforcement|   No Address Posted|59.875640733625936|\n",
      "|         Solid Waste|Contracted Servic...|    56.72045236025|\n",
      "|Trans & Cap Impro...|Status: On-Going ...| 36.87389387687184|\n",
      "|DSD/Code Enforcement|Historical Buildi...|31.567148565454545|\n",
      "|DSD/Code Enforcement|Used Mattress Ins...|30.168053900795922|\n",
      "|         Solid Waste| Service Information| 29.27081170588125|\n",
      "|  Parks & Recreation|Park Building Mai...|24.322320840895838|\n",
      "+--------------------+--------------------+------------------+\n",
      "only showing top 20 rows\n",
      "\n"
     ]
    }
   ],
   "source": [
    "case_df.groupBy('department', 'service_request_type').agg(avg('num_days_late')).sort(desc('avg(num_days_late)')).show()"
   ]
  },
  {
   "cell_type": "code",
   "execution_count": 91,
   "metadata": {},
   "outputs": [
    {
     "name": "stdout",
     "output_type": "stream",
     "text": [
      "+--------------------+--------------------+------------------+\n",
      "|          department|service_request_type|max(num_days_late)|\n",
      "+--------------------+--------------------+------------------+\n",
      "|DSD/Code Enforcement|        Bandit Signs|       519.6980787|\n",
      "|DSD/Code Enforcement|   No Address Posted|       514.9381944|\n",
      "|DSD/Code Enforcement|    Permits Building|       506.1483218|\n",
      "|DSD/Code Enforcement|  Zoning: Junk Yards|        494.949838|\n",
      "|DSD/Code Enforcement|Zoning: Recycle Yard|494.94844910000006|\n",
      "|DSD/Code Enforcement|         Curbstoning|493.10947919999995|\n",
      "|DSD/Code Enforcement|             Vendors|492.16497689999994|\n",
      "|Animal Care Services|Public Nuisance(O...|        452.098287|\n",
      "|  Parks & Recreation|            Painting|       427.6660069|\n",
      "|  Parks & Recreation| Sportfield Lighting|       417.9064468|\n",
      "|  Parks & Recreation|             Masonry|       410.7945718|\n",
      "|DSD/Code Enforcement|Overgrown Yard/Trash|410.28771989999996|\n",
      "|Animal Care Services|Animal Permits Re...|410.18685189999997|\n",
      "|DSD/Code Enforcement|DSDB Ordered/Hold...|       404.1823958|\n",
      "|DSD/Code Enforcement|Junk Vehicle On P...|       396.8320255|\n",
      "|DSD/Code Enforcement|Donation Containe...|       391.2158102|\n",
      "|DSD/Code Enforcement|Certificates of O...|       378.3227083|\n",
      "|DSD/Code Enforcement|    Zoning: Setbacks|       377.8053125|\n",
      "|DSD/Code Enforcement|Zoning: District ...|       360.0651852|\n",
      "|    Customer Service|           Complaint|357.97240739999995|\n",
      "+--------------------+--------------------+------------------+\n",
      "only showing top 20 rows\n",
      "\n"
     ]
    }
   ],
   "source": [
    "case_df.groupBy('department', 'service_request_type').agg(max('num_days_late')).sort(desc('max(num_days_late)')).show()"
   ]
  },
  {
   "cell_type": "code",
   "execution_count": null,
   "metadata": {},
   "outputs": [],
   "source": []
  }
 ],
 "metadata": {
  "kernelspec": {
   "display_name": "Python 3",
   "language": "python",
   "name": "python3"
  },
  "language_info": {
   "codemirror_mode": {
    "name": "ipython",
    "version": 3
   },
   "file_extension": ".py",
   "mimetype": "text/x-python",
   "name": "python",
   "nbconvert_exporter": "python",
   "pygments_lexer": "ipython3",
   "version": "3.7.3"
  }
 },
 "nbformat": 4,
 "nbformat_minor": 2
}

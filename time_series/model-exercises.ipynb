{
 "cells": [
  {
   "cell_type": "markdown",
   "metadata": {},
   "source": [
    "Using saas.csv or log data from API usage:\n",
    "1. Split data (train/test) and resample by any period, except daily, and aggreage using the sum"
   ]
  },
  {
   "cell_type": "code",
   "execution_count": 1,
   "metadata": {},
   "outputs": [],
   "source": [
    "import pandas as pd\n",
    "import numpy as np\n",
    "\n",
    "import matplotlib\n",
    "import matplotlib.pyplot as plt\n",
    "%matplotlib inline\n",
    "import seaborn as sns\n",
    "\n",
    "from datetime import datetime\n",
    "import itertools as it\n",
    "\n",
    "from statsmodels.tsa.api import ExponentialSmoothing, SimpleExpSmoothing, Holt\n",
    "import statsmodels.api as sm\n",
    "from statsmodels.tsa.ar_model import AR\n",
    "\n",
    "from sklearn.model_selection import TimeSeriesSplit\n",
    "from sklearn import metrics\n",
    "\n",
    "import math\n",
    "\n",
    "import warnings\n",
    "warnings.filterwarnings(\"ignore\")\n"
   ]
  },
  {
   "cell_type": "code",
   "execution_count": 2,
   "metadata": {},
   "outputs": [],
   "source": [
    "df = pd.read_csv('saas.csv')"
   ]
  },
  {
   "cell_type": "code",
   "execution_count": 3,
   "metadata": {},
   "outputs": [
    {
     "data": {
      "text/html": [
       "<div>\n",
       "<style scoped>\n",
       "    .dataframe tbody tr th:only-of-type {\n",
       "        vertical-align: middle;\n",
       "    }\n",
       "\n",
       "    .dataframe tbody tr th {\n",
       "        vertical-align: top;\n",
       "    }\n",
       "\n",
       "    .dataframe thead th {\n",
       "        text-align: right;\n",
       "    }\n",
       "</style>\n",
       "<table border=\"1\" class=\"dataframe\">\n",
       "  <thead>\n",
       "    <tr style=\"text-align: right;\">\n",
       "      <th></th>\n",
       "      <th>Month_Invoiced</th>\n",
       "      <th>Customer_Id</th>\n",
       "      <th>Invoice_Id</th>\n",
       "      <th>Subscription_Type</th>\n",
       "      <th>Amount</th>\n",
       "    </tr>\n",
       "  </thead>\n",
       "  <tbody>\n",
       "    <tr>\n",
       "      <th>0</th>\n",
       "      <td>2014-01-31</td>\n",
       "      <td>1000000</td>\n",
       "      <td>5000000</td>\n",
       "      <td>0.0</td>\n",
       "      <td>0.0</td>\n",
       "    </tr>\n",
       "    <tr>\n",
       "      <th>1</th>\n",
       "      <td>2014-01-31</td>\n",
       "      <td>1000001</td>\n",
       "      <td>5000001</td>\n",
       "      <td>2.0</td>\n",
       "      <td>10.0</td>\n",
       "    </tr>\n",
       "    <tr>\n",
       "      <th>2</th>\n",
       "      <td>2014-01-31</td>\n",
       "      <td>1000002</td>\n",
       "      <td>5000002</td>\n",
       "      <td>0.0</td>\n",
       "      <td>0.0</td>\n",
       "    </tr>\n",
       "    <tr>\n",
       "      <th>3</th>\n",
       "      <td>2014-01-31</td>\n",
       "      <td>1000003</td>\n",
       "      <td>5000003</td>\n",
       "      <td>0.0</td>\n",
       "      <td>0.0</td>\n",
       "    </tr>\n",
       "    <tr>\n",
       "      <th>4</th>\n",
       "      <td>2014-01-31</td>\n",
       "      <td>1000004</td>\n",
       "      <td>5000004</td>\n",
       "      <td>1.0</td>\n",
       "      <td>5.0</td>\n",
       "    </tr>\n",
       "  </tbody>\n",
       "</table>\n",
       "</div>"
      ],
      "text/plain": [
       "  Month_Invoiced  Customer_Id  Invoice_Id  Subscription_Type  Amount\n",
       "0     2014-01-31      1000000     5000000                0.0     0.0\n",
       "1     2014-01-31      1000001     5000001                2.0    10.0\n",
       "2     2014-01-31      1000002     5000002                0.0     0.0\n",
       "3     2014-01-31      1000003     5000003                0.0     0.0\n",
       "4     2014-01-31      1000004     5000004                1.0     5.0"
      ]
     },
     "execution_count": 3,
     "metadata": {},
     "output_type": "execute_result"
    }
   ],
   "source": [
    "df.head()"
   ]
  },
  {
   "cell_type": "code",
   "execution_count": 4,
   "metadata": {},
   "outputs": [
    {
     "name": "stdout",
     "output_type": "stream",
     "text": [
      "<class 'pandas.core.frame.DataFrame'>\n",
      "RangeIndex: 790458 entries, 0 to 790457\n",
      "Data columns (total 5 columns):\n",
      "Month_Invoiced       790458 non-null object\n",
      "Customer_Id          790458 non-null int64\n",
      "Invoice_Id           790458 non-null int64\n",
      "Subscription_Type    790458 non-null float64\n",
      "Amount               790458 non-null float64\n",
      "dtypes: float64(2), int64(2), object(1)\n",
      "memory usage: 30.2+ MB\n"
     ]
    }
   ],
   "source": [
    "df.info()"
   ]
  },
  {
   "cell_type": "code",
   "execution_count": 5,
   "metadata": {},
   "outputs": [],
   "source": [
    "df['Month_Invoiced'] = pd.to_datetime(df.Month_Invoiced)"
   ]
  },
  {
   "cell_type": "code",
   "execution_count": 6,
   "metadata": {},
   "outputs": [
    {
     "name": "stdout",
     "output_type": "stream",
     "text": [
      "<class 'pandas.core.frame.DataFrame'>\n",
      "RangeIndex: 790458 entries, 0 to 790457\n",
      "Data columns (total 5 columns):\n",
      "Month_Invoiced       790458 non-null datetime64[ns]\n",
      "Customer_Id          790458 non-null int64\n",
      "Invoice_Id           790458 non-null int64\n",
      "Subscription_Type    790458 non-null float64\n",
      "Amount               790458 non-null float64\n",
      "dtypes: datetime64[ns](1), float64(2), int64(2)\n",
      "memory usage: 30.2 MB\n"
     ]
    }
   ],
   "source": [
    "df.info()"
   ]
  },
  {
   "cell_type": "code",
   "execution_count": 7,
   "metadata": {},
   "outputs": [
    {
     "data": {
      "text/html": [
       "<div>\n",
       "<style scoped>\n",
       "    .dataframe tbody tr th:only-of-type {\n",
       "        vertical-align: middle;\n",
       "    }\n",
       "\n",
       "    .dataframe tbody tr th {\n",
       "        vertical-align: top;\n",
       "    }\n",
       "\n",
       "    .dataframe thead th {\n",
       "        text-align: right;\n",
       "    }\n",
       "</style>\n",
       "<table border=\"1\" class=\"dataframe\">\n",
       "  <thead>\n",
       "    <tr style=\"text-align: right;\">\n",
       "      <th></th>\n",
       "      <th>Month_Invoiced</th>\n",
       "      <th>Customer_Id</th>\n",
       "      <th>Invoice_Id</th>\n",
       "      <th>Subscription_Type</th>\n",
       "      <th>Amount</th>\n",
       "    </tr>\n",
       "  </thead>\n",
       "  <tbody>\n",
       "    <tr>\n",
       "      <th>0</th>\n",
       "      <td>2014-01-31</td>\n",
       "      <td>1000000</td>\n",
       "      <td>5000000</td>\n",
       "      <td>0.0</td>\n",
       "      <td>0.0</td>\n",
       "    </tr>\n",
       "    <tr>\n",
       "      <th>1</th>\n",
       "      <td>2014-01-31</td>\n",
       "      <td>1000001</td>\n",
       "      <td>5000001</td>\n",
       "      <td>2.0</td>\n",
       "      <td>10.0</td>\n",
       "    </tr>\n",
       "    <tr>\n",
       "      <th>2</th>\n",
       "      <td>2014-01-31</td>\n",
       "      <td>1000002</td>\n",
       "      <td>5000002</td>\n",
       "      <td>0.0</td>\n",
       "      <td>0.0</td>\n",
       "    </tr>\n",
       "    <tr>\n",
       "      <th>3</th>\n",
       "      <td>2014-01-31</td>\n",
       "      <td>1000003</td>\n",
       "      <td>5000003</td>\n",
       "      <td>0.0</td>\n",
       "      <td>0.0</td>\n",
       "    </tr>\n",
       "    <tr>\n",
       "      <th>4</th>\n",
       "      <td>2014-01-31</td>\n",
       "      <td>1000004</td>\n",
       "      <td>5000004</td>\n",
       "      <td>1.0</td>\n",
       "      <td>5.0</td>\n",
       "    </tr>\n",
       "  </tbody>\n",
       "</table>\n",
       "</div>"
      ],
      "text/plain": [
       "  Month_Invoiced  Customer_Id  Invoice_Id  Subscription_Type  Amount\n",
       "0     2014-01-31      1000000     5000000                0.0     0.0\n",
       "1     2014-01-31      1000001     5000001                2.0    10.0\n",
       "2     2014-01-31      1000002     5000002                0.0     0.0\n",
       "3     2014-01-31      1000003     5000003                0.0     0.0\n",
       "4     2014-01-31      1000004     5000004                1.0     5.0"
      ]
     },
     "execution_count": 7,
     "metadata": {},
     "output_type": "execute_result"
    }
   ],
   "source": [
    "df.head()"
   ]
  },
  {
   "cell_type": "code",
   "execution_count": 8,
   "metadata": {},
   "outputs": [
    {
     "data": {
      "text/plain": [
       "2014-01-31    20000\n",
       "2014-02-28    19800\n",
       "2014-03-31    19599\n",
       "2014-04-30    19413\n",
       "2014-05-31    19221\n",
       "2014-06-30    19038\n",
       "2014-07-31    18851\n",
       "2014-08-31    18672\n",
       "2014-09-30    18494\n",
       "2014-10-31    18313\n",
       "2014-11-30    18145\n",
       "2014-12-31    17996\n",
       "2015-01-31    17829\n",
       "2015-02-28    17680\n",
       "2015-03-31    17530\n",
       "2015-04-30    17376\n",
       "2015-05-31    17225\n",
       "2015-06-30    17089\n",
       "2015-07-31    16951\n",
       "2015-08-31    16817\n",
       "2015-09-30    16671\n",
       "2015-10-31    16529\n",
       "2015-11-30    16387\n",
       "2015-12-31    16268\n",
       "2016-01-31    16142\n",
       "2016-02-29    16019\n",
       "2016-03-31    15895\n",
       "2016-04-30    15777\n",
       "2016-05-31    15685\n",
       "2016-06-30    15571\n",
       "2016-07-31    15460\n",
       "2016-08-31    15355\n",
       "2016-09-30    15240\n",
       "2016-10-31    15144\n",
       "2016-11-30    15049\n",
       "2016-12-31    14938\n",
       "2017-01-31    14840\n",
       "2017-02-28    14741\n",
       "2017-03-31    14665\n",
       "2017-04-30    14576\n",
       "2017-05-31    14475\n",
       "2017-06-30    14400\n",
       "2017-07-31    14312\n",
       "2017-08-31    14209\n",
       "2017-09-30    14131\n",
       "2017-10-31    14041\n",
       "2017-11-30    13985\n",
       "2017-12-31    13914\n",
       "Name: Month_Invoiced, dtype: int64"
      ]
     },
     "execution_count": 8,
     "metadata": {},
     "output_type": "execute_result"
    }
   ],
   "source": [
    "df.Month_Invoiced.value_counts()"
   ]
  },
  {
   "cell_type": "code",
   "execution_count": 9,
   "metadata": {},
   "outputs": [],
   "source": [
    "df_date = df.sort_values(by='Month_Invoiced').set_index('Month_Invoiced').resample('M').sum()"
   ]
  },
  {
   "cell_type": "code",
   "execution_count": 10,
   "metadata": {},
   "outputs": [
    {
     "data": {
      "text/html": [
       "<div>\n",
       "<style scoped>\n",
       "    .dataframe tbody tr th:only-of-type {\n",
       "        vertical-align: middle;\n",
       "    }\n",
       "\n",
       "    .dataframe tbody tr th {\n",
       "        vertical-align: top;\n",
       "    }\n",
       "\n",
       "    .dataframe thead th {\n",
       "        text-align: right;\n",
       "    }\n",
       "</style>\n",
       "<table border=\"1\" class=\"dataframe\">\n",
       "  <thead>\n",
       "    <tr style=\"text-align: right;\">\n",
       "      <th></th>\n",
       "      <th>Customer_Id</th>\n",
       "      <th>Invoice_Id</th>\n",
       "      <th>Subscription_Type</th>\n",
       "      <th>Amount</th>\n",
       "    </tr>\n",
       "    <tr>\n",
       "      <th>Month_Invoiced</th>\n",
       "      <th></th>\n",
       "      <th></th>\n",
       "      <th></th>\n",
       "      <th></th>\n",
       "    </tr>\n",
       "  </thead>\n",
       "  <tbody>\n",
       "    <tr>\n",
       "      <th>2014-01-31</th>\n",
       "      <td>20199990000</td>\n",
       "      <td>100199990000</td>\n",
       "      <td>7170.0</td>\n",
       "      <td>35850.0</td>\n",
       "    </tr>\n",
       "    <tr>\n",
       "      <th>2014-02-28</th>\n",
       "      <td>20000052061</td>\n",
       "      <td>99592010100</td>\n",
       "      <td>7438.0</td>\n",
       "      <td>37190.0</td>\n",
       "    </tr>\n",
       "    <tr>\n",
       "      <th>2014-03-31</th>\n",
       "      <td>19799172212</td>\n",
       "      <td>98967090801</td>\n",
       "      <td>7659.0</td>\n",
       "      <td>38295.0</td>\n",
       "    </tr>\n",
       "    <tr>\n",
       "      <th>2014-04-30</th>\n",
       "      <td>19613251862</td>\n",
       "      <td>98406535365</td>\n",
       "      <td>7851.0</td>\n",
       "      <td>39255.0</td>\n",
       "    </tr>\n",
       "    <tr>\n",
       "      <th>2014-05-31</th>\n",
       "      <td>19421255289</td>\n",
       "      <td>97804559262</td>\n",
       "      <td>8071.0</td>\n",
       "      <td>40355.0</td>\n",
       "    </tr>\n",
       "    <tr>\n",
       "      <th>2014-06-30</th>\n",
       "      <td>19238538842</td>\n",
       "      <td>97237565457</td>\n",
       "      <td>8251.0</td>\n",
       "      <td>41255.0</td>\n",
       "    </tr>\n",
       "    <tr>\n",
       "      <th>2014-07-31</th>\n",
       "      <td>19051670683</td>\n",
       "      <td>96639576096</td>\n",
       "      <td>8434.0</td>\n",
       "      <td>42170.0</td>\n",
       "    </tr>\n",
       "    <tr>\n",
       "      <th>2014-08-31</th>\n",
       "      <td>18873025377</td>\n",
       "      <td>96072248040</td>\n",
       "      <td>8642.0</td>\n",
       "      <td>43210.0</td>\n",
       "    </tr>\n",
       "    <tr>\n",
       "      <th>2014-09-30</th>\n",
       "      <td>18695106282</td>\n",
       "      <td>95500066207</td>\n",
       "      <td>8815.0</td>\n",
       "      <td>44075.0</td>\n",
       "    </tr>\n",
       "    <tr>\n",
       "      <th>2014-10-31</th>\n",
       "      <td>18514309921</td>\n",
       "      <td>94902434372</td>\n",
       "      <td>8976.0</td>\n",
       "      <td>44880.0</td>\n",
       "    </tr>\n",
       "    <tr>\n",
       "      <th>2014-11-30</th>\n",
       "      <td>18346828951</td>\n",
       "      <td>94362582585</td>\n",
       "      <td>9109.0</td>\n",
       "      <td>45545.0</td>\n",
       "    </tr>\n",
       "    <tr>\n",
       "      <th>2014-12-31</th>\n",
       "      <td>18198514412</td>\n",
       "      <td>93912908826</td>\n",
       "      <td>9242.0</td>\n",
       "      <td>46210.0</td>\n",
       "    </tr>\n",
       "    <tr>\n",
       "      <th>2015-01-31</th>\n",
       "      <td>18031844959</td>\n",
       "      <td>93360774024</td>\n",
       "      <td>9389.0</td>\n",
       "      <td>46945.0</td>\n",
       "    </tr>\n",
       "    <tr>\n",
       "      <th>2015-02-28</th>\n",
       "      <td>17883615820</td>\n",
       "      <td>92894441640</td>\n",
       "      <td>9504.0</td>\n",
       "      <td>47520.0</td>\n",
       "    </tr>\n",
       "    <tr>\n",
       "      <th>2015-03-31</th>\n",
       "      <td>17734338621</td>\n",
       "      <td>92414925715</td>\n",
       "      <td>9605.0</td>\n",
       "      <td>48025.0</td>\n",
       "    </tr>\n",
       "    <tr>\n",
       "      <th>2015-04-30</th>\n",
       "      <td>17580553993</td>\n",
       "      <td>91906329456</td>\n",
       "      <td>9712.0</td>\n",
       "      <td>48560.0</td>\n",
       "    </tr>\n",
       "    <tr>\n",
       "      <th>2015-05-31</th>\n",
       "      <td>17430221951</td>\n",
       "      <td>91405651025</td>\n",
       "      <td>9805.0</td>\n",
       "      <td>49025.0</td>\n",
       "    </tr>\n",
       "    <tr>\n",
       "      <th>2015-06-30</th>\n",
       "      <td>17294778904</td>\n",
       "      <td>90977153614</td>\n",
       "      <td>9897.0</td>\n",
       "      <td>49485.0</td>\n",
       "    </tr>\n",
       "    <tr>\n",
       "      <th>2015-07-31</th>\n",
       "      <td>17157470319</td>\n",
       "      <td>90530985446</td>\n",
       "      <td>10021.0</td>\n",
       "      <td>50105.0</td>\n",
       "    </tr>\n",
       "    <tr>\n",
       "      <th>2015-08-31</th>\n",
       "      <td>17023990262</td>\n",
       "      <td>90099263710</td>\n",
       "      <td>10099.0</td>\n",
       "      <td>50495.0</td>\n",
       "    </tr>\n",
       "    <tr>\n",
       "      <th>2015-09-30</th>\n",
       "      <td>16878325806</td>\n",
       "      <td>89596188954</td>\n",
       "      <td>10197.0</td>\n",
       "      <td>50985.0</td>\n",
       "    </tr>\n",
       "    <tr>\n",
       "      <th>2015-10-31</th>\n",
       "      <td>16736799370</td>\n",
       "      <td>89107409246</td>\n",
       "      <td>10289.0</td>\n",
       "      <td>51445.0</td>\n",
       "    </tr>\n",
       "    <tr>\n",
       "      <th>2015-11-30</th>\n",
       "      <td>16595772166</td>\n",
       "      <td>88611588184</td>\n",
       "      <td>10252.0</td>\n",
       "      <td>51260.0</td>\n",
       "    </tr>\n",
       "    <tr>\n",
       "      <th>2015-12-31</th>\n",
       "      <td>16477700903</td>\n",
       "      <td>88233719546</td>\n",
       "      <td>10301.0</td>\n",
       "      <td>51505.0</td>\n",
       "    </tr>\n",
       "    <tr>\n",
       "      <th>2016-01-31</th>\n",
       "      <td>16352484087</td>\n",
       "      <td>87811906959</td>\n",
       "      <td>10391.0</td>\n",
       "      <td>51955.0</td>\n",
       "    </tr>\n",
       "    <tr>\n",
       "      <th>2016-02-29</th>\n",
       "      <td>16230363306</td>\n",
       "      <td>87400384855</td>\n",
       "      <td>10391.0</td>\n",
       "      <td>51955.0</td>\n",
       "    </tr>\n",
       "    <tr>\n",
       "      <th>2016-03-31</th>\n",
       "      <td>16107134469</td>\n",
       "      <td>86977471790</td>\n",
       "      <td>10400.0</td>\n",
       "      <td>52000.0</td>\n",
       "    </tr>\n",
       "    <tr>\n",
       "      <th>2016-04-30</th>\n",
       "      <td>15990024367</td>\n",
       "      <td>86581620126</td>\n",
       "      <td>10438.0</td>\n",
       "      <td>52190.0</td>\n",
       "    </tr>\n",
       "    <tr>\n",
       "      <th>2016-05-31</th>\n",
       "      <td>15899268139</td>\n",
       "      <td>86323479765</td>\n",
       "      <td>10465.0</td>\n",
       "      <td>52325.0</td>\n",
       "    </tr>\n",
       "    <tr>\n",
       "      <th>2016-06-30</th>\n",
       "      <td>15786094863</td>\n",
       "      <td>85939416487</td>\n",
       "      <td>10487.0</td>\n",
       "      <td>52435.0</td>\n",
       "    </tr>\n",
       "    <tr>\n",
       "      <th>2016-07-31</th>\n",
       "      <td>15676165058</td>\n",
       "      <td>85566655250</td>\n",
       "      <td>10539.0</td>\n",
       "      <td>52695.0</td>\n",
       "    </tr>\n",
       "    <tr>\n",
       "      <th>2016-08-31</th>\n",
       "      <td>15572096757</td>\n",
       "      <td>85222092600</td>\n",
       "      <td>10588.0</td>\n",
       "      <td>52940.0</td>\n",
       "    </tr>\n",
       "    <tr>\n",
       "      <th>2016-09-30</th>\n",
       "      <td>15458019466</td>\n",
       "      <td>84816962700</td>\n",
       "      <td>10595.0</td>\n",
       "      <td>52975.0</td>\n",
       "    </tr>\n",
       "    <tr>\n",
       "      <th>2016-10-31</th>\n",
       "      <td>15363158565</td>\n",
       "      <td>84512750268</td>\n",
       "      <td>10638.0</td>\n",
       "      <td>53190.0</td>\n",
       "    </tr>\n",
       "    <tr>\n",
       "      <th>2016-11-30</th>\n",
       "      <td>15269114685</td>\n",
       "      <td>84209779594</td>\n",
       "      <td>10675.0</td>\n",
       "      <td>53375.0</td>\n",
       "    </tr>\n",
       "    <tr>\n",
       "      <th>2016-12-31</th>\n",
       "      <td>15158997779</td>\n",
       "      <td>83812629131</td>\n",
       "      <td>10664.0</td>\n",
       "      <td>53320.0</td>\n",
       "    </tr>\n",
       "    <tr>\n",
       "      <th>2017-01-31</th>\n",
       "      <td>15061820113</td>\n",
       "      <td>83483733340</td>\n",
       "      <td>10679.0</td>\n",
       "      <td>53395.0</td>\n",
       "    </tr>\n",
       "    <tr>\n",
       "      <th>2017-02-28</th>\n",
       "      <td>14963781540</td>\n",
       "      <td>83144826839</td>\n",
       "      <td>10688.0</td>\n",
       "      <td>53440.0</td>\n",
       "    </tr>\n",
       "    <tr>\n",
       "      <th>2017-03-31</th>\n",
       "      <td>14888950475</td>\n",
       "      <td>82931777530</td>\n",
       "      <td>10696.0</td>\n",
       "      <td>53480.0</td>\n",
       "    </tr>\n",
       "    <tr>\n",
       "      <th>2017-04-30</th>\n",
       "      <td>14801144590</td>\n",
       "      <td>82641583640</td>\n",
       "      <td>10670.0</td>\n",
       "      <td>53350.0</td>\n",
       "    </tr>\n",
       "    <tr>\n",
       "      <th>2017-05-31</th>\n",
       "      <td>14701144969</td>\n",
       "      <td>82279200300</td>\n",
       "      <td>10668.0</td>\n",
       "      <td>53340.0</td>\n",
       "    </tr>\n",
       "    <tr>\n",
       "      <th>2017-06-30</th>\n",
       "      <td>14627547534</td>\n",
       "      <td>82060783200</td>\n",
       "      <td>10681.0</td>\n",
       "      <td>53405.0</td>\n",
       "    </tr>\n",
       "    <tr>\n",
       "      <th>2017-07-31</th>\n",
       "      <td>14540621396</td>\n",
       "      <td>81764763708</td>\n",
       "      <td>10736.0</td>\n",
       "      <td>53680.0</td>\n",
       "    </tr>\n",
       "    <tr>\n",
       "      <th>2017-08-31</th>\n",
       "      <td>14438425414</td>\n",
       "      <td>81378949938</td>\n",
       "      <td>10764.0</td>\n",
       "      <td>53820.0</td>\n",
       "    </tr>\n",
       "    <tr>\n",
       "      <th>2017-09-30</th>\n",
       "      <td>14361705193</td>\n",
       "      <td>81132458212</td>\n",
       "      <td>10785.0</td>\n",
       "      <td>53925.0</td>\n",
       "    </tr>\n",
       "    <tr>\n",
       "      <th>2017-10-31</th>\n",
       "      <td>14272654724</td>\n",
       "      <td>80813509058</td>\n",
       "      <td>10770.0</td>\n",
       "      <td>53850.0</td>\n",
       "    </tr>\n",
       "    <tr>\n",
       "      <th>2017-11-30</th>\n",
       "      <td>14218270764</td>\n",
       "      <td>80687170735</td>\n",
       "      <td>10772.0</td>\n",
       "      <td>53860.0</td>\n",
       "    </tr>\n",
       "    <tr>\n",
       "      <th>2017-12-31</th>\n",
       "      <td>14148715257</td>\n",
       "      <td>80471625957</td>\n",
       "      <td>10761.0</td>\n",
       "      <td>53805.0</td>\n",
       "    </tr>\n",
       "  </tbody>\n",
       "</table>\n",
       "</div>"
      ],
      "text/plain": [
       "                Customer_Id    Invoice_Id  Subscription_Type   Amount\n",
       "Month_Invoiced                                                       \n",
       "2014-01-31      20199990000  100199990000             7170.0  35850.0\n",
       "2014-02-28      20000052061   99592010100             7438.0  37190.0\n",
       "2014-03-31      19799172212   98967090801             7659.0  38295.0\n",
       "2014-04-30      19613251862   98406535365             7851.0  39255.0\n",
       "2014-05-31      19421255289   97804559262             8071.0  40355.0\n",
       "2014-06-30      19238538842   97237565457             8251.0  41255.0\n",
       "2014-07-31      19051670683   96639576096             8434.0  42170.0\n",
       "2014-08-31      18873025377   96072248040             8642.0  43210.0\n",
       "2014-09-30      18695106282   95500066207             8815.0  44075.0\n",
       "2014-10-31      18514309921   94902434372             8976.0  44880.0\n",
       "2014-11-30      18346828951   94362582585             9109.0  45545.0\n",
       "2014-12-31      18198514412   93912908826             9242.0  46210.0\n",
       "2015-01-31      18031844959   93360774024             9389.0  46945.0\n",
       "2015-02-28      17883615820   92894441640             9504.0  47520.0\n",
       "2015-03-31      17734338621   92414925715             9605.0  48025.0\n",
       "2015-04-30      17580553993   91906329456             9712.0  48560.0\n",
       "2015-05-31      17430221951   91405651025             9805.0  49025.0\n",
       "2015-06-30      17294778904   90977153614             9897.0  49485.0\n",
       "2015-07-31      17157470319   90530985446            10021.0  50105.0\n",
       "2015-08-31      17023990262   90099263710            10099.0  50495.0\n",
       "2015-09-30      16878325806   89596188954            10197.0  50985.0\n",
       "2015-10-31      16736799370   89107409246            10289.0  51445.0\n",
       "2015-11-30      16595772166   88611588184            10252.0  51260.0\n",
       "2015-12-31      16477700903   88233719546            10301.0  51505.0\n",
       "2016-01-31      16352484087   87811906959            10391.0  51955.0\n",
       "2016-02-29      16230363306   87400384855            10391.0  51955.0\n",
       "2016-03-31      16107134469   86977471790            10400.0  52000.0\n",
       "2016-04-30      15990024367   86581620126            10438.0  52190.0\n",
       "2016-05-31      15899268139   86323479765            10465.0  52325.0\n",
       "2016-06-30      15786094863   85939416487            10487.0  52435.0\n",
       "2016-07-31      15676165058   85566655250            10539.0  52695.0\n",
       "2016-08-31      15572096757   85222092600            10588.0  52940.0\n",
       "2016-09-30      15458019466   84816962700            10595.0  52975.0\n",
       "2016-10-31      15363158565   84512750268            10638.0  53190.0\n",
       "2016-11-30      15269114685   84209779594            10675.0  53375.0\n",
       "2016-12-31      15158997779   83812629131            10664.0  53320.0\n",
       "2017-01-31      15061820113   83483733340            10679.0  53395.0\n",
       "2017-02-28      14963781540   83144826839            10688.0  53440.0\n",
       "2017-03-31      14888950475   82931777530            10696.0  53480.0\n",
       "2017-04-30      14801144590   82641583640            10670.0  53350.0\n",
       "2017-05-31      14701144969   82279200300            10668.0  53340.0\n",
       "2017-06-30      14627547534   82060783200            10681.0  53405.0\n",
       "2017-07-31      14540621396   81764763708            10736.0  53680.0\n",
       "2017-08-31      14438425414   81378949938            10764.0  53820.0\n",
       "2017-09-30      14361705193   81132458212            10785.0  53925.0\n",
       "2017-10-31      14272654724   80813509058            10770.0  53850.0\n",
       "2017-11-30      14218270764   80687170735            10772.0  53860.0\n",
       "2017-12-31      14148715257   80471625957            10761.0  53805.0"
      ]
     },
     "execution_count": 10,
     "metadata": {},
     "output_type": "execute_result"
    }
   ],
   "source": [
    "df_date"
   ]
  },
  {
   "cell_type": "code",
   "execution_count": 11,
   "metadata": {},
   "outputs": [
    {
     "data": {
      "text/plain": [
       "True"
      ]
     },
     "execution_count": 11,
     "metadata": {},
     "output_type": "execute_result"
    }
   ],
   "source": [
    "# Goint to count 'Subscription_Type' as number of subscriptions an account has.\n",
    "# Will prove this by showing that each subscription is worth $5.00. Mutliply 'Subscription_Type'*5 to get the 'Amount'.\n",
    "(df['Subscription_Type']*5 == df['Amount']).all()"
   ]
  },
  {
   "cell_type": "code",
   "execution_count": 12,
   "metadata": {},
   "outputs": [
    {
     "data": {
      "text/html": [
       "<div>\n",
       "<style scoped>\n",
       "    .dataframe tbody tr th:only-of-type {\n",
       "        vertical-align: middle;\n",
       "    }\n",
       "\n",
       "    .dataframe tbody tr th {\n",
       "        vertical-align: top;\n",
       "    }\n",
       "\n",
       "    .dataframe thead th {\n",
       "        text-align: right;\n",
       "    }\n",
       "</style>\n",
       "<table border=\"1\" class=\"dataframe\">\n",
       "  <thead>\n",
       "    <tr style=\"text-align: right;\">\n",
       "      <th></th>\n",
       "      <th>Subscription_Type</th>\n",
       "      <th>Amount</th>\n",
       "    </tr>\n",
       "    <tr>\n",
       "      <th>Month_Invoiced</th>\n",
       "      <th></th>\n",
       "      <th></th>\n",
       "    </tr>\n",
       "  </thead>\n",
       "  <tbody>\n",
       "    <tr>\n",
       "      <th>2014-01-31</th>\n",
       "      <td>7170.0</td>\n",
       "      <td>35850.0</td>\n",
       "    </tr>\n",
       "    <tr>\n",
       "      <th>2014-02-28</th>\n",
       "      <td>7438.0</td>\n",
       "      <td>37190.0</td>\n",
       "    </tr>\n",
       "    <tr>\n",
       "      <th>2014-03-31</th>\n",
       "      <td>7659.0</td>\n",
       "      <td>38295.0</td>\n",
       "    </tr>\n",
       "    <tr>\n",
       "      <th>2014-04-30</th>\n",
       "      <td>7851.0</td>\n",
       "      <td>39255.0</td>\n",
       "    </tr>\n",
       "    <tr>\n",
       "      <th>2014-05-31</th>\n",
       "      <td>8071.0</td>\n",
       "      <td>40355.0</td>\n",
       "    </tr>\n",
       "    <tr>\n",
       "      <th>2014-06-30</th>\n",
       "      <td>8251.0</td>\n",
       "      <td>41255.0</td>\n",
       "    </tr>\n",
       "    <tr>\n",
       "      <th>2014-07-31</th>\n",
       "      <td>8434.0</td>\n",
       "      <td>42170.0</td>\n",
       "    </tr>\n",
       "    <tr>\n",
       "      <th>2014-08-31</th>\n",
       "      <td>8642.0</td>\n",
       "      <td>43210.0</td>\n",
       "    </tr>\n",
       "    <tr>\n",
       "      <th>2014-09-30</th>\n",
       "      <td>8815.0</td>\n",
       "      <td>44075.0</td>\n",
       "    </tr>\n",
       "    <tr>\n",
       "      <th>2014-10-31</th>\n",
       "      <td>8976.0</td>\n",
       "      <td>44880.0</td>\n",
       "    </tr>\n",
       "    <tr>\n",
       "      <th>2014-11-30</th>\n",
       "      <td>9109.0</td>\n",
       "      <td>45545.0</td>\n",
       "    </tr>\n",
       "    <tr>\n",
       "      <th>2014-12-31</th>\n",
       "      <td>9242.0</td>\n",
       "      <td>46210.0</td>\n",
       "    </tr>\n",
       "    <tr>\n",
       "      <th>2015-01-31</th>\n",
       "      <td>9389.0</td>\n",
       "      <td>46945.0</td>\n",
       "    </tr>\n",
       "    <tr>\n",
       "      <th>2015-02-28</th>\n",
       "      <td>9504.0</td>\n",
       "      <td>47520.0</td>\n",
       "    </tr>\n",
       "    <tr>\n",
       "      <th>2015-03-31</th>\n",
       "      <td>9605.0</td>\n",
       "      <td>48025.0</td>\n",
       "    </tr>\n",
       "    <tr>\n",
       "      <th>2015-04-30</th>\n",
       "      <td>9712.0</td>\n",
       "      <td>48560.0</td>\n",
       "    </tr>\n",
       "    <tr>\n",
       "      <th>2015-05-31</th>\n",
       "      <td>9805.0</td>\n",
       "      <td>49025.0</td>\n",
       "    </tr>\n",
       "    <tr>\n",
       "      <th>2015-06-30</th>\n",
       "      <td>9897.0</td>\n",
       "      <td>49485.0</td>\n",
       "    </tr>\n",
       "    <tr>\n",
       "      <th>2015-07-31</th>\n",
       "      <td>10021.0</td>\n",
       "      <td>50105.0</td>\n",
       "    </tr>\n",
       "    <tr>\n",
       "      <th>2015-08-31</th>\n",
       "      <td>10099.0</td>\n",
       "      <td>50495.0</td>\n",
       "    </tr>\n",
       "    <tr>\n",
       "      <th>2015-09-30</th>\n",
       "      <td>10197.0</td>\n",
       "      <td>50985.0</td>\n",
       "    </tr>\n",
       "    <tr>\n",
       "      <th>2015-10-31</th>\n",
       "      <td>10289.0</td>\n",
       "      <td>51445.0</td>\n",
       "    </tr>\n",
       "    <tr>\n",
       "      <th>2015-11-30</th>\n",
       "      <td>10252.0</td>\n",
       "      <td>51260.0</td>\n",
       "    </tr>\n",
       "    <tr>\n",
       "      <th>2015-12-31</th>\n",
       "      <td>10301.0</td>\n",
       "      <td>51505.0</td>\n",
       "    </tr>\n",
       "    <tr>\n",
       "      <th>2016-01-31</th>\n",
       "      <td>10391.0</td>\n",
       "      <td>51955.0</td>\n",
       "    </tr>\n",
       "    <tr>\n",
       "      <th>2016-02-29</th>\n",
       "      <td>10391.0</td>\n",
       "      <td>51955.0</td>\n",
       "    </tr>\n",
       "    <tr>\n",
       "      <th>2016-03-31</th>\n",
       "      <td>10400.0</td>\n",
       "      <td>52000.0</td>\n",
       "    </tr>\n",
       "    <tr>\n",
       "      <th>2016-04-30</th>\n",
       "      <td>10438.0</td>\n",
       "      <td>52190.0</td>\n",
       "    </tr>\n",
       "    <tr>\n",
       "      <th>2016-05-31</th>\n",
       "      <td>10465.0</td>\n",
       "      <td>52325.0</td>\n",
       "    </tr>\n",
       "    <tr>\n",
       "      <th>2016-06-30</th>\n",
       "      <td>10487.0</td>\n",
       "      <td>52435.0</td>\n",
       "    </tr>\n",
       "    <tr>\n",
       "      <th>2016-07-31</th>\n",
       "      <td>10539.0</td>\n",
       "      <td>52695.0</td>\n",
       "    </tr>\n",
       "    <tr>\n",
       "      <th>2016-08-31</th>\n",
       "      <td>10588.0</td>\n",
       "      <td>52940.0</td>\n",
       "    </tr>\n",
       "    <tr>\n",
       "      <th>2016-09-30</th>\n",
       "      <td>10595.0</td>\n",
       "      <td>52975.0</td>\n",
       "    </tr>\n",
       "    <tr>\n",
       "      <th>2016-10-31</th>\n",
       "      <td>10638.0</td>\n",
       "      <td>53190.0</td>\n",
       "    </tr>\n",
       "    <tr>\n",
       "      <th>2016-11-30</th>\n",
       "      <td>10675.0</td>\n",
       "      <td>53375.0</td>\n",
       "    </tr>\n",
       "    <tr>\n",
       "      <th>2016-12-31</th>\n",
       "      <td>10664.0</td>\n",
       "      <td>53320.0</td>\n",
       "    </tr>\n",
       "    <tr>\n",
       "      <th>2017-01-31</th>\n",
       "      <td>10679.0</td>\n",
       "      <td>53395.0</td>\n",
       "    </tr>\n",
       "    <tr>\n",
       "      <th>2017-02-28</th>\n",
       "      <td>10688.0</td>\n",
       "      <td>53440.0</td>\n",
       "    </tr>\n",
       "    <tr>\n",
       "      <th>2017-03-31</th>\n",
       "      <td>10696.0</td>\n",
       "      <td>53480.0</td>\n",
       "    </tr>\n",
       "    <tr>\n",
       "      <th>2017-04-30</th>\n",
       "      <td>10670.0</td>\n",
       "      <td>53350.0</td>\n",
       "    </tr>\n",
       "    <tr>\n",
       "      <th>2017-05-31</th>\n",
       "      <td>10668.0</td>\n",
       "      <td>53340.0</td>\n",
       "    </tr>\n",
       "    <tr>\n",
       "      <th>2017-06-30</th>\n",
       "      <td>10681.0</td>\n",
       "      <td>53405.0</td>\n",
       "    </tr>\n",
       "    <tr>\n",
       "      <th>2017-07-31</th>\n",
       "      <td>10736.0</td>\n",
       "      <td>53680.0</td>\n",
       "    </tr>\n",
       "    <tr>\n",
       "      <th>2017-08-31</th>\n",
       "      <td>10764.0</td>\n",
       "      <td>53820.0</td>\n",
       "    </tr>\n",
       "    <tr>\n",
       "      <th>2017-09-30</th>\n",
       "      <td>10785.0</td>\n",
       "      <td>53925.0</td>\n",
       "    </tr>\n",
       "    <tr>\n",
       "      <th>2017-10-31</th>\n",
       "      <td>10770.0</td>\n",
       "      <td>53850.0</td>\n",
       "    </tr>\n",
       "    <tr>\n",
       "      <th>2017-11-30</th>\n",
       "      <td>10772.0</td>\n",
       "      <td>53860.0</td>\n",
       "    </tr>\n",
       "    <tr>\n",
       "      <th>2017-12-31</th>\n",
       "      <td>10761.0</td>\n",
       "      <td>53805.0</td>\n",
       "    </tr>\n",
       "  </tbody>\n",
       "</table>\n",
       "</div>"
      ],
      "text/plain": [
       "                Subscription_Type   Amount\n",
       "Month_Invoiced                            \n",
       "2014-01-31                 7170.0  35850.0\n",
       "2014-02-28                 7438.0  37190.0\n",
       "2014-03-31                 7659.0  38295.0\n",
       "2014-04-30                 7851.0  39255.0\n",
       "2014-05-31                 8071.0  40355.0\n",
       "2014-06-30                 8251.0  41255.0\n",
       "2014-07-31                 8434.0  42170.0\n",
       "2014-08-31                 8642.0  43210.0\n",
       "2014-09-30                 8815.0  44075.0\n",
       "2014-10-31                 8976.0  44880.0\n",
       "2014-11-30                 9109.0  45545.0\n",
       "2014-12-31                 9242.0  46210.0\n",
       "2015-01-31                 9389.0  46945.0\n",
       "2015-02-28                 9504.0  47520.0\n",
       "2015-03-31                 9605.0  48025.0\n",
       "2015-04-30                 9712.0  48560.0\n",
       "2015-05-31                 9805.0  49025.0\n",
       "2015-06-30                 9897.0  49485.0\n",
       "2015-07-31                10021.0  50105.0\n",
       "2015-08-31                10099.0  50495.0\n",
       "2015-09-30                10197.0  50985.0\n",
       "2015-10-31                10289.0  51445.0\n",
       "2015-11-30                10252.0  51260.0\n",
       "2015-12-31                10301.0  51505.0\n",
       "2016-01-31                10391.0  51955.0\n",
       "2016-02-29                10391.0  51955.0\n",
       "2016-03-31                10400.0  52000.0\n",
       "2016-04-30                10438.0  52190.0\n",
       "2016-05-31                10465.0  52325.0\n",
       "2016-06-30                10487.0  52435.0\n",
       "2016-07-31                10539.0  52695.0\n",
       "2016-08-31                10588.0  52940.0\n",
       "2016-09-30                10595.0  52975.0\n",
       "2016-10-31                10638.0  53190.0\n",
       "2016-11-30                10675.0  53375.0\n",
       "2016-12-31                10664.0  53320.0\n",
       "2017-01-31                10679.0  53395.0\n",
       "2017-02-28                10688.0  53440.0\n",
       "2017-03-31                10696.0  53480.0\n",
       "2017-04-30                10670.0  53350.0\n",
       "2017-05-31                10668.0  53340.0\n",
       "2017-06-30                10681.0  53405.0\n",
       "2017-07-31                10736.0  53680.0\n",
       "2017-08-31                10764.0  53820.0\n",
       "2017-09-30                10785.0  53925.0\n",
       "2017-10-31                10770.0  53850.0\n",
       "2017-11-30                10772.0  53860.0\n",
       "2017-12-31                10761.0  53805.0"
      ]
     },
     "execution_count": 12,
     "metadata": {},
     "output_type": "execute_result"
    }
   ],
   "source": [
    "df_date = df_date[['Subscription_Type','Amount']]\n",
    "df_date"
   ]
  },
  {
   "cell_type": "markdown",
   "metadata": {},
   "source": [
    "Split the data into train and test using a proportion split, where the first 66% of the available data, (sorted by date), is assigned to train and the remaining, to test."
   ]
  },
  {
   "cell_type": "code",
   "execution_count": 13,
   "metadata": {},
   "outputs": [
    {
     "data": {
      "text/plain": [
       "38"
      ]
     },
     "execution_count": 13,
     "metadata": {},
     "output_type": "execute_result"
    }
   ],
   "source": [
    "train_size = int(len(df_date)*.80)\n",
    "train_size"
   ]
  },
  {
   "cell_type": "code",
   "execution_count": 14,
   "metadata": {},
   "outputs": [
    {
     "data": {
      "text/plain": [
       "(38, 2)"
      ]
     },
     "execution_count": 14,
     "metadata": {},
     "output_type": "execute_result"
    }
   ],
   "source": [
    "train = df_date[0:train_size]\n",
    "train.shape"
   ]
  },
  {
   "cell_type": "code",
   "execution_count": 15,
   "metadata": {},
   "outputs": [
    {
     "data": {
      "text/plain": [
       "(10, 2)"
      ]
     },
     "execution_count": 15,
     "metadata": {},
     "output_type": "execute_result"
    }
   ],
   "source": [
    "test = df_date[train_size:len(df_date)]\n",
    "test.shape"
   ]
  },
  {
   "cell_type": "code",
   "execution_count": 16,
   "metadata": {},
   "outputs": [
    {
     "name": "stdout",
     "output_type": "stream",
     "text": [
      "Observations: 48\n",
      "Training Observations: 38\n",
      "Testing Observations: 10\n"
     ]
    }
   ],
   "source": [
    "print('Observations: %d' % len(df_date))\n",
    "print('Training Observations: %d' % len(train))\n",
    "print('Testing Observations: %d' % len(test))"
   ]
  },
  {
   "cell_type": "code",
   "execution_count": 17,
   "metadata": {},
   "outputs": [
    {
     "data": {
      "image/png": "[encoded data removed]",
      "text/plain": [
       "<Figure size 864x288 with 1 Axes>"
      ]
     },
     "metadata": {
      "needs_background": "light"
     },
     "output_type": "display_data"
    }
   ],
   "source": [
    "plt.figure(figsize=(12,4))\n",
    "plt.plot(train)\n",
    "plt.plot(test)\n",
    "plt.show()"
   ]
  },
  {
   "cell_type": "markdown",
   "metadata": {},
   "source": [
    "Before we try out different methods for forecasting amount of subscriptions per month, and amount paid, let's create a couple of function that will be helpful in evaluating each of the methods that follow.\n",
    "\n",
    "`evaluate()` will compute the Mean Squared Error and the Root Mean Squared Error to evaluate."
   ]
  },
  {
   "cell_type": "code",
   "execution_count": 18,
   "metadata": {},
   "outputs": [],
   "source": [
    "def evaluate(target_var, train=train, test=test, output=True):\n",
    "    mse = metrics.mean_squared_error(test[target_var], yhat[target_var])\n",
    "    rmse = math.sqrt(mse)\n",
    "    \n",
    "    if output:\n",
    "        print('MSE: {}'.format(mse))\n",
    "        print('RMSE: {}'.format(rmse))\n",
    "    else:\n",
    "        return mse, rmse"
   ]
  },
  {
   "cell_type": "markdown",
   "metadata": {},
   "source": [
    "We also have a function, `plot_and_eval()` that will use the evaluate function and also plot the train and test values with the predicted values in order to compare performance."
   ]
  },
  {
   "cell_type": "code",
   "execution_count": 19,
   "metadata": {},
   "outputs": [],
   "source": [
    "def plot_and_eval(target_vars, train=train, test=test, metric_fmt = '{:.2f}', linewidth = 4):\n",
    "    if type(target_vars) is not list:\n",
    "        target_vars = [target_vars]\n",
    "        \n",
    "    plt.figure(figsize = (16,8))\n",
    "    plt.plot(train[target_vars], label='Train')\n",
    "    plt.plot(test[target_vars], label='Test')\n",
    "\n",
    "    for var in target_vars:\n",
    "        mse, rmse = evaluate(target_var=var, train=train, test=test, output=False)\n",
    "        plt.plot(yhat[var], linewidth=linewidth)\n",
    "        print(f'{var} -- MSE: {metric_fmt}, RMSE: {metric_fmt}'.format(mse,rmse))\n",
    "        \n",
    "    plt.show()\n",
    "    \n",
    "    \n",
    "    \n",
    "    "
   ]
  },
  {
   "cell_type": "markdown",
   "metadata": {},
   "source": [
    "Create a data frame we will use to capture all the evaluation metrics of each of the models we try out. "
   ]
  },
  {
   "cell_type": "code",
   "execution_count": 20,
   "metadata": {},
   "outputs": [
    {
     "data": {
      "text/html": [
       "<div>\n",
       "<style scoped>\n",
       "    .dataframe tbody tr th:only-of-type {\n",
       "        vertical-align: middle;\n",
       "    }\n",
       "\n",
       "    .dataframe tbody tr th {\n",
       "        vertical-align: top;\n",
       "    }\n",
       "\n",
       "    .dataframe thead th {\n",
       "        text-align: right;\n",
       "    }\n",
       "</style>\n",
       "<table border=\"1\" class=\"dataframe\">\n",
       "  <thead>\n",
       "    <tr style=\"text-align: right;\">\n",
       "      <th></th>\n",
       "      <th>model_type</th>\n",
       "      <th>target_var</th>\n",
       "      <th>metric</th>\n",
       "      <th>value</th>\n",
       "    </tr>\n",
       "  </thead>\n",
       "  <tbody>\n",
       "  </tbody>\n",
       "</table>\n",
       "</div>"
      ],
      "text/plain": [
       "Empty DataFrame\n",
       "Columns: [model_type, target_var, metric, value]\n",
       "Index: []"
      ]
     },
     "execution_count": 20,
     "metadata": {},
     "output_type": "execute_result"
    }
   ],
   "source": [
    "eval_df = pd.DataFrame(columns = ['model_type','target_var','metric', 'value'])\n",
    "eval_df\n"
   ]
  },
  {
   "cell_type": "markdown",
   "metadata": {},
   "source": [
    "Write `append_eval_df(model_type)` to append evalauation metrics for each model type, target variable, and metric type, along with the metric vlaue into our `eval_df` data frame object.\n",
    "\n",
    "    \n",
    "\n",
    "\n"
   ]
  },
  {
   "cell_type": "code",
   "execution_count": 21,
   "metadata": {},
   "outputs": [],
   "source": [
    "def append_eval_df(model_type, train=train, test = test):\n",
    "    temp_eval_df = pd.concat([pd.DataFrame([[model_type,i,'mse', evaluate(target_var = i, train=train, test = test, output = False)[0]],\n",
    "                                            [model_type,i,'rmse', evaluate(target_var= i, train=train, test = test, output = False)[1]]],\n",
    "                                            columns = ['model_type', 'target_var', 'metric', 'value'])\n",
    "                             for i in ['Subscription_Type', 'Amount']], ignore_index=True)\n",
    "    return eval_df.append(temp_eval_df,ignore_index=True)\n",
    "    "
   ]
  },
  {
   "cell_type": "markdown",
   "metadata": {},
   "source": [
    "### Last observed value"
   ]
  },
  {
   "cell_type": "markdown",
   "metadata": {},
   "source": [
    "The simplest method for forecating is to predict all future values to be the last observed value."
   ]
  },
  {
   "cell_type": "code",
   "execution_count": 22,
   "metadata": {},
   "outputs": [
    {
     "data": {
      "text/html": [
       "<div>\n",
       "<style scoped>\n",
       "    .dataframe tbody tr th:only-of-type {\n",
       "        vertical-align: middle;\n",
       "    }\n",
       "\n",
       "    .dataframe tbody tr th {\n",
       "        vertical-align: top;\n",
       "    }\n",
       "\n",
       "    .dataframe thead th {\n",
       "        text-align: right;\n",
       "    }\n",
       "</style>\n",
       "<table border=\"1\" class=\"dataframe\">\n",
       "  <thead>\n",
       "    <tr style=\"text-align: right;\">\n",
       "      <th></th>\n",
       "      <th>Subscription_Type</th>\n",
       "      <th>Amount</th>\n",
       "    </tr>\n",
       "    <tr>\n",
       "      <th>Month_Invoiced</th>\n",
       "      <th></th>\n",
       "      <th></th>\n",
       "    </tr>\n",
       "  </thead>\n",
       "  <tbody>\n",
       "    <tr>\n",
       "      <th>2017-03-31</th>\n",
       "      <td>10696.0</td>\n",
       "      <td>53480.0</td>\n",
       "    </tr>\n",
       "    <tr>\n",
       "      <th>2017-04-30</th>\n",
       "      <td>10670.0</td>\n",
       "      <td>53350.0</td>\n",
       "    </tr>\n",
       "    <tr>\n",
       "      <th>2017-05-31</th>\n",
       "      <td>10668.0</td>\n",
       "      <td>53340.0</td>\n",
       "    </tr>\n",
       "    <tr>\n",
       "      <th>2017-06-30</th>\n",
       "      <td>10681.0</td>\n",
       "      <td>53405.0</td>\n",
       "    </tr>\n",
       "    <tr>\n",
       "      <th>2017-07-31</th>\n",
       "      <td>10736.0</td>\n",
       "      <td>53680.0</td>\n",
       "    </tr>\n",
       "    <tr>\n",
       "      <th>2017-08-31</th>\n",
       "      <td>10764.0</td>\n",
       "      <td>53820.0</td>\n",
       "    </tr>\n",
       "    <tr>\n",
       "      <th>2017-09-30</th>\n",
       "      <td>10785.0</td>\n",
       "      <td>53925.0</td>\n",
       "    </tr>\n",
       "    <tr>\n",
       "      <th>2017-10-31</th>\n",
       "      <td>10770.0</td>\n",
       "      <td>53850.0</td>\n",
       "    </tr>\n",
       "    <tr>\n",
       "      <th>2017-11-30</th>\n",
       "      <td>10772.0</td>\n",
       "      <td>53860.0</td>\n",
       "    </tr>\n",
       "    <tr>\n",
       "      <th>2017-12-31</th>\n",
       "      <td>10761.0</td>\n",
       "      <td>53805.0</td>\n",
       "    </tr>\n",
       "  </tbody>\n",
       "</table>\n",
       "</div>"
      ],
      "text/plain": [
       "                Subscription_Type   Amount\n",
       "Month_Invoiced                            \n",
       "2017-03-31                10696.0  53480.0\n",
       "2017-04-30                10670.0  53350.0\n",
       "2017-05-31                10668.0  53340.0\n",
       "2017-06-30                10681.0  53405.0\n",
       "2017-07-31                10736.0  53680.0\n",
       "2017-08-31                10764.0  53820.0\n",
       "2017-09-30                10785.0  53925.0\n",
       "2017-10-31                10770.0  53850.0\n",
       "2017-11-30                10772.0  53860.0\n",
       "2017-12-31                10761.0  53805.0"
      ]
     },
     "execution_count": 22,
     "metadata": {},
     "output_type": "execute_result"
    }
   ],
   "source": [
    "yhat = pd.DataFrame({'Subscription_Type': test.Subscription_Type, 'Amount': test.Amount})\n",
    "yhat"
   ]
  },
  {
   "cell_type": "code",
   "execution_count": 23,
   "metadata": {},
   "outputs": [
    {
     "data": {
      "text/plain": [
       "10688.0"
      ]
     },
     "execution_count": 23,
     "metadata": {},
     "output_type": "execute_result"
    }
   ],
   "source": [
    "# Last Subscription_type value in train\n",
    "train.Subscription_Type[-1]"
   ]
  },
  {
   "cell_type": "code",
   "execution_count": 24,
   "metadata": {},
   "outputs": [
    {
     "data": {
      "text/plain": [
       "53440.0"
      ]
     },
     "execution_count": 24,
     "metadata": {},
     "output_type": "execute_result"
    }
   ],
   "source": [
    "# Last Amount value in train\n",
    "train.Amount[-1]"
   ]
  },
  {
   "cell_type": "code",
   "execution_count": 25,
   "metadata": {},
   "outputs": [
    {
     "data": {
      "text/plain": [
       "Month_Invoiced\n",
       "2017-03-31    10688.0\n",
       "2017-04-30    10688.0\n",
       "2017-05-31    10688.0\n",
       "2017-06-30    10688.0\n",
       "2017-07-31    10688.0\n",
       "2017-08-31    10688.0\n",
       "2017-09-30    10688.0\n",
       "2017-10-31    10688.0\n",
       "2017-11-30    10688.0\n",
       "2017-12-31    10688.0\n",
       "Freq: M, Name: Subscription_Type, dtype: float64"
      ]
     },
     "execution_count": 25,
     "metadata": {},
     "output_type": "execute_result"
    }
   ],
   "source": [
    "# Assign the last values for 'Subscription_Type' and 'Amount' to yhat columns.\n",
    "yhat['Subscription_Type'] = train.Subscription_Type[-1]\n",
    "yhat['Subscription_Type']"
   ]
  },
  {
   "cell_type": "code",
   "execution_count": 26,
   "metadata": {},
   "outputs": [
    {
     "data": {
      "text/plain": [
       "Month_Invoiced\n",
       "2017-03-31    53440.0\n",
       "2017-04-30    53440.0\n",
       "2017-05-31    53440.0\n",
       "2017-06-30    53440.0\n",
       "2017-07-31    53440.0\n",
       "2017-08-31    53440.0\n",
       "2017-09-30    53440.0\n",
       "2017-10-31    53440.0\n",
       "2017-11-30    53440.0\n",
       "2017-12-31    53440.0\n",
       "Freq: M, Name: Amount, dtype: float64"
      ]
     },
     "execution_count": 26,
     "metadata": {},
     "output_type": "execute_result"
    }
   ],
   "source": [
    "yhat['Amount'] = train.Amount[-1]\n",
    "yhat['Amount']"
   ]
  },
  {
   "cell_type": "code",
   "execution_count": 27,
   "metadata": {},
   "outputs": [
    {
     "data": {
      "text/html": [
       "<div>\n",
       "<style scoped>\n",
       "    .dataframe tbody tr th:only-of-type {\n",
       "        vertical-align: middle;\n",
       "    }\n",
       "\n",
       "    .dataframe tbody tr th {\n",
       "        vertical-align: top;\n",
       "    }\n",
       "\n",
       "    .dataframe thead th {\n",
       "        text-align: right;\n",
       "    }\n",
       "</style>\n",
       "<table border=\"1\" class=\"dataframe\">\n",
       "  <thead>\n",
       "    <tr style=\"text-align: right;\">\n",
       "      <th></th>\n",
       "      <th>Subscription_Type</th>\n",
       "      <th>Amount</th>\n",
       "    </tr>\n",
       "    <tr>\n",
       "      <th>Month_Invoiced</th>\n",
       "      <th></th>\n",
       "      <th></th>\n",
       "    </tr>\n",
       "  </thead>\n",
       "  <tbody>\n",
       "    <tr>\n",
       "      <th>2017-03-31</th>\n",
       "      <td>10688.0</td>\n",
       "      <td>53440.0</td>\n",
       "    </tr>\n",
       "    <tr>\n",
       "      <th>2017-04-30</th>\n",
       "      <td>10688.0</td>\n",
       "      <td>53440.0</td>\n",
       "    </tr>\n",
       "    <tr>\n",
       "      <th>2017-05-31</th>\n",
       "      <td>10688.0</td>\n",
       "      <td>53440.0</td>\n",
       "    </tr>\n",
       "    <tr>\n",
       "      <th>2017-06-30</th>\n",
       "      <td>10688.0</td>\n",
       "      <td>53440.0</td>\n",
       "    </tr>\n",
       "    <tr>\n",
       "      <th>2017-07-31</th>\n",
       "      <td>10688.0</td>\n",
       "      <td>53440.0</td>\n",
       "    </tr>\n",
       "    <tr>\n",
       "      <th>2017-08-31</th>\n",
       "      <td>10688.0</td>\n",
       "      <td>53440.0</td>\n",
       "    </tr>\n",
       "    <tr>\n",
       "      <th>2017-09-30</th>\n",
       "      <td>10688.0</td>\n",
       "      <td>53440.0</td>\n",
       "    </tr>\n",
       "    <tr>\n",
       "      <th>2017-10-31</th>\n",
       "      <td>10688.0</td>\n",
       "      <td>53440.0</td>\n",
       "    </tr>\n",
       "    <tr>\n",
       "      <th>2017-11-30</th>\n",
       "      <td>10688.0</td>\n",
       "      <td>53440.0</td>\n",
       "    </tr>\n",
       "    <tr>\n",
       "      <th>2017-12-31</th>\n",
       "      <td>10688.0</td>\n",
       "      <td>53440.0</td>\n",
       "    </tr>\n",
       "  </tbody>\n",
       "</table>\n",
       "</div>"
      ],
      "text/plain": [
       "                Subscription_Type   Amount\n",
       "Month_Invoiced                            \n",
       "2017-03-31                10688.0  53440.0\n",
       "2017-04-30                10688.0  53440.0\n",
       "2017-05-31                10688.0  53440.0\n",
       "2017-06-30                10688.0  53440.0\n",
       "2017-07-31                10688.0  53440.0\n",
       "2017-08-31                10688.0  53440.0\n",
       "2017-09-30                10688.0  53440.0\n",
       "2017-10-31                10688.0  53440.0\n",
       "2017-11-30                10688.0  53440.0\n",
       "2017-12-31                10688.0  53440.0"
      ]
     },
     "execution_count": 27,
     "metadata": {},
     "output_type": "execute_result"
    }
   ],
   "source": [
    "#Look at new yhat dataframe predicted 'Subscription_Type', and 'Amount' are assigned to the last values for respective columns in train data frame.\n",
    "yhat"
   ]
  },
  {
   "cell_type": "markdown",
   "metadata": {},
   "source": [
    "Plot actual and predicted values."
   ]
  },
  {
   "cell_type": "code",
   "execution_count": 28,
   "metadata": {},
   "outputs": [
    {
     "name": "stdout",
     "output_type": "stream",
     "text": [
      "Subscription_Type -- MSE: 3743.50, RMSE: 61.18\n",
      "Amount -- MSE: 93587.50, RMSE: 305.92\n"
     ]
    },
    {
     "data": {
      "image/png": "[encoded data removed]",
      "text/plain": [
       "<Figure size 1152x576 with 1 Axes>"
      ]
     },
     "metadata": {
      "needs_background": "light"
     },
     "output_type": "display_data"
    }
   ],
   "source": [
    "target_vars = ['Subscription_Type', 'Amount']\n",
    "\n",
    "plot_and_eval(target_vars, train=train, test=test)"
   ]
  },
  {
   "cell_type": "code",
   "execution_count": 29,
   "metadata": {},
   "outputs": [
    {
     "name": "stdout",
     "output_type": "stream",
     "text": [
      "Subscription_Type -- MSE: 3743.50, RMSE: 61.18\n"
     ]
    },
    {
     "data": {
      "image/png": "[encoded data removed]",
      "text/plain": [
       "<Figure size 1152x576 with 1 Axes>"
      ]
     },
     "metadata": {
      "needs_background": "light"
     },
     "output_type": "display_data"
    }
   ],
   "source": [
    "target_vars = ['Subscription_Type']\n",
    "\n",
    "plot_and_eval(target_vars, train=train, test=test)"
   ]
  },
  {
   "cell_type": "markdown",
   "metadata": {},
   "source": [
    "Evaluate using MSE and RMSE. Add evaluation metrics to `eval_df`"
   ]
  },
  {
   "cell_type": "code",
   "execution_count": 30,
   "metadata": {},
   "outputs": [
    {
     "data": {
      "text/html": [
       "<div>\n",
       "<style scoped>\n",
       "    .dataframe tbody tr th:only-of-type {\n",
       "        vertical-align: middle;\n",
       "    }\n",
       "\n",
       "    .dataframe tbody tr th {\n",
       "        vertical-align: top;\n",
       "    }\n",
       "\n",
       "    .dataframe thead th {\n",
       "        text-align: right;\n",
       "    }\n",
       "</style>\n",
       "<table border=\"1\" class=\"dataframe\">\n",
       "  <thead>\n",
       "    <tr style=\"text-align: right;\">\n",
       "      <th></th>\n",
       "      <th>model_type</th>\n",
       "      <th>target_var</th>\n",
       "      <th>metric</th>\n",
       "      <th>value</th>\n",
       "    </tr>\n",
       "  </thead>\n",
       "  <tbody>\n",
       "    <tr>\n",
       "      <th>0</th>\n",
       "      <td>last_observed_value</td>\n",
       "      <td>Subscription_Type</td>\n",
       "      <td>mse</td>\n",
       "      <td>3743.500000</td>\n",
       "    </tr>\n",
       "    <tr>\n",
       "      <th>1</th>\n",
       "      <td>last_observed_value</td>\n",
       "      <td>Subscription_Type</td>\n",
       "      <td>rmse</td>\n",
       "      <td>61.184148</td>\n",
       "    </tr>\n",
       "    <tr>\n",
       "      <th>2</th>\n",
       "      <td>last_observed_value</td>\n",
       "      <td>Amount</td>\n",
       "      <td>mse</td>\n",
       "      <td>93587.500000</td>\n",
       "    </tr>\n",
       "    <tr>\n",
       "      <th>3</th>\n",
       "      <td>last_observed_value</td>\n",
       "      <td>Amount</td>\n",
       "      <td>rmse</td>\n",
       "      <td>305.920741</td>\n",
       "    </tr>\n",
       "  </tbody>\n",
       "</table>\n",
       "</div>"
      ],
      "text/plain": [
       "            model_type         target_var metric         value\n",
       "0  last_observed_value  Subscription_Type    mse   3743.500000\n",
       "1  last_observed_value  Subscription_Type   rmse     61.184148\n",
       "2  last_observed_value             Amount    mse  93587.500000\n",
       "3  last_observed_value             Amount   rmse    305.920741"
      ]
     },
     "execution_count": 30,
     "metadata": {},
     "output_type": "execute_result"
    }
   ],
   "source": [
    "eval_df = append_eval_df(model_type = 'last_observed_value', train = train, test = test)\n",
    "eval_df"
   ]
  },
  {
   "cell_type": "markdown",
   "metadata": {},
   "source": [
    "### Simple Average\n",
    "\n",
    "Take the simple average of historical values and use that value to predict future values. This is a good option for an initial baseline. Every future datapoint (those in 'test') will be assign the same value, the overall mean of the values in train."
   ]
  },
  {
   "cell_type": "code",
   "execution_count": 31,
   "metadata": {},
   "outputs": [
    {
     "data": {
      "text/plain": [
       "9641.236842105263"
      ]
     },
     "execution_count": 31,
     "metadata": {},
     "output_type": "execute_result"
    }
   ],
   "source": [
    "train.Subscription_Type.mean()"
   ]
  },
  {
   "cell_type": "code",
   "execution_count": 32,
   "metadata": {},
   "outputs": [
    {
     "data": {
      "text/plain": [
       "48206.18421052631"
      ]
     },
     "execution_count": 32,
     "metadata": {},
     "output_type": "execute_result"
    }
   ],
   "source": [
    "train.Amount.mean()"
   ]
  },
  {
   "cell_type": "code",
   "execution_count": 33,
   "metadata": {},
   "outputs": [
    {
     "data": {
      "text/plain": [
       "Month_Invoiced\n",
       "2017-03-31    9641.236842\n",
       "2017-04-30    9641.236842\n",
       "2017-05-31    9641.236842\n",
       "2017-06-30    9641.236842\n",
       "2017-07-31    9641.236842\n",
       "2017-08-31    9641.236842\n",
       "2017-09-30    9641.236842\n",
       "2017-10-31    9641.236842\n",
       "2017-11-30    9641.236842\n",
       "2017-12-31    9641.236842\n",
       "Freq: M, Name: Subscription_Type, dtype: float64"
      ]
     },
     "execution_count": 33,
     "metadata": {},
     "output_type": "execute_result"
    }
   ],
   "source": [
    "yhat['Subscription_Type'] = train.Subscription_Type.mean()\n",
    "yhat.Subscription_Type"
   ]
  },
  {
   "cell_type": "code",
   "execution_count": 34,
   "metadata": {},
   "outputs": [
    {
     "data": {
      "text/plain": [
       "Month_Invoiced\n",
       "2017-03-31    48206.184211\n",
       "2017-04-30    48206.184211\n",
       "2017-05-31    48206.184211\n",
       "2017-06-30    48206.184211\n",
       "2017-07-31    48206.184211\n",
       "2017-08-31    48206.184211\n",
       "2017-09-30    48206.184211\n",
       "2017-10-31    48206.184211\n",
       "2017-11-30    48206.184211\n",
       "2017-12-31    48206.184211\n",
       "Freq: M, Name: Amount, dtype: float64"
      ]
     },
     "execution_count": 34,
     "metadata": {},
     "output_type": "execute_result"
    }
   ],
   "source": [
    "yhat['Amount'] = train.Amount.mean()\n",
    "yhat.Amount"
   ]
  },
  {
   "cell_type": "code",
   "execution_count": 35,
   "metadata": {},
   "outputs": [
    {
     "name": "stdout",
     "output_type": "stream",
     "text": [
      "Subscription_Type -- MSE: 1188012.77, RMSE: 1089.96\n",
      "Amount -- MSE: 29700319.30, RMSE: 5449.80\n"
     ]
    },
    {
     "data": {
      "image/png": "[encoded data removed]",
      "text/plain": [
       "<Figure size 1152x576 with 1 Axes>"
      ]
     },
     "metadata": {
      "needs_background": "light"
     },
     "output_type": "display_data"
    }
   ],
   "source": [
    "target_vars = ['Subscription_Type', 'Amount']\n",
    "plot_and_eval(target_vars)"
   ]
  },
  {
   "cell_type": "code",
   "execution_count": 36,
   "metadata": {},
   "outputs": [
    {
     "data": {
      "text/html": [
       "<div>\n",
       "<style scoped>\n",
       "    .dataframe tbody tr th:only-of-type {\n",
       "        vertical-align: middle;\n",
       "    }\n",
       "\n",
       "    .dataframe tbody tr th {\n",
       "        vertical-align: top;\n",
       "    }\n",
       "\n",
       "    .dataframe thead th {\n",
       "        text-align: right;\n",
       "    }\n",
       "</style>\n",
       "<table border=\"1\" class=\"dataframe\">\n",
       "  <thead>\n",
       "    <tr style=\"text-align: right;\">\n",
       "      <th></th>\n",
       "      <th>model_type</th>\n",
       "      <th>target_var</th>\n",
       "      <th>metric</th>\n",
       "      <th>value</th>\n",
       "    </tr>\n",
       "  </thead>\n",
       "  <tbody>\n",
       "    <tr>\n",
       "      <th>0</th>\n",
       "      <td>last_observed_value</td>\n",
       "      <td>Subscription_Type</td>\n",
       "      <td>mse</td>\n",
       "      <td>3.743500e+03</td>\n",
       "    </tr>\n",
       "    <tr>\n",
       "      <th>1</th>\n",
       "      <td>last_observed_value</td>\n",
       "      <td>Subscription_Type</td>\n",
       "      <td>rmse</td>\n",
       "      <td>6.118415e+01</td>\n",
       "    </tr>\n",
       "    <tr>\n",
       "      <th>2</th>\n",
       "      <td>last_observed_value</td>\n",
       "      <td>Amount</td>\n",
       "      <td>mse</td>\n",
       "      <td>9.358750e+04</td>\n",
       "    </tr>\n",
       "    <tr>\n",
       "      <th>3</th>\n",
       "      <td>last_observed_value</td>\n",
       "      <td>Amount</td>\n",
       "      <td>rmse</td>\n",
       "      <td>3.059207e+02</td>\n",
       "    </tr>\n",
       "    <tr>\n",
       "      <th>4</th>\n",
       "      <td>simple_average</td>\n",
       "      <td>Subscription_Type</td>\n",
       "      <td>mse</td>\n",
       "      <td>1.188013e+06</td>\n",
       "    </tr>\n",
       "    <tr>\n",
       "      <th>5</th>\n",
       "      <td>simple_average</td>\n",
       "      <td>Subscription_Type</td>\n",
       "      <td>rmse</td>\n",
       "      <td>1.089960e+03</td>\n",
       "    </tr>\n",
       "    <tr>\n",
       "      <th>6</th>\n",
       "      <td>simple_average</td>\n",
       "      <td>Amount</td>\n",
       "      <td>mse</td>\n",
       "      <td>2.970032e+07</td>\n",
       "    </tr>\n",
       "    <tr>\n",
       "      <th>7</th>\n",
       "      <td>simple_average</td>\n",
       "      <td>Amount</td>\n",
       "      <td>rmse</td>\n",
       "      <td>5.449800e+03</td>\n",
       "    </tr>\n",
       "  </tbody>\n",
       "</table>\n",
       "</div>"
      ],
      "text/plain": [
       "            model_type         target_var metric         value\n",
       "0  last_observed_value  Subscription_Type    mse  3.743500e+03\n",
       "1  last_observed_value  Subscription_Type   rmse  6.118415e+01\n",
       "2  last_observed_value             Amount    mse  9.358750e+04\n",
       "3  last_observed_value             Amount   rmse  3.059207e+02\n",
       "4       simple_average  Subscription_Type    mse  1.188013e+06\n",
       "5       simple_average  Subscription_Type   rmse  1.089960e+03\n",
       "6       simple_average             Amount    mse  2.970032e+07\n",
       "7       simple_average             Amount   rmse  5.449800e+03"
      ]
     },
     "execution_count": 36,
     "metadata": {},
     "output_type": "execute_result"
    }
   ],
   "source": [
    "eval_df = append_eval_df(model_type = 'simple_average')\n",
    "eval_df"
   ]
  },
  {
   "cell_type": "markdown",
   "metadata": {},
   "source": [
    "### Moving Average"
   ]
  },
  {
   "cell_type": "code",
   "execution_count": 58,
   "metadata": {},
   "outputs": [
    {
     "data": {
      "text/plain": [
       "Month_Invoiced\n",
       "2014-01-31             NaN\n",
       "2014-02-28             NaN\n",
       "2014-03-31     7422.333333\n",
       "2014-04-30     7649.333333\n",
       "2014-05-31     7860.333333\n",
       "2014-06-30     8057.666667\n",
       "2014-07-31     8252.000000\n",
       "2014-08-31     8442.333333\n",
       "2014-09-30     8630.333333\n",
       "2014-10-31     8811.000000\n",
       "2014-11-30     8966.666667\n",
       "2014-12-31     9109.000000\n",
       "2015-01-31     9246.666667\n",
       "2015-02-28     9378.333333\n",
       "2015-03-31     9499.333333\n",
       "2015-04-30     9607.000000\n",
       "2015-05-31     9707.333333\n",
       "2015-06-30     9804.666667\n",
       "2015-07-31     9907.666667\n",
       "2015-08-31    10005.666667\n",
       "2015-09-30    10105.666667\n",
       "2015-10-31    10195.000000\n",
       "2015-11-30    10246.000000\n",
       "2015-12-31    10280.666667\n",
       "2016-01-31    10314.666667\n",
       "2016-02-29    10361.000000\n",
       "2016-03-31    10394.000000\n",
       "2016-04-30    10409.666667\n",
       "2016-05-31    10434.333333\n",
       "2016-06-30    10463.333333\n",
       "2016-07-31    10497.000000\n",
       "2016-08-31    10538.000000\n",
       "2016-09-30    10574.000000\n",
       "2016-10-31    10607.000000\n",
       "2016-11-30    10636.000000\n",
       "2016-12-31    10659.000000\n",
       "2017-01-31    10672.666667\n",
       "2017-02-28    10677.000000\n",
       "Freq: M, Name: Subscription_Type, dtype: float64"
      ]
     },
     "execution_count": 58,
     "metadata": {},
     "output_type": "execute_result"
    }
   ],
   "source": [
    "# 1 period = 1 month\n",
    "periods = 3\n",
    "train.Subscription_Type.rolling(periods).mean()"
   ]
  },
  {
   "cell_type": "code",
   "execution_count": 59,
   "metadata": {},
   "outputs": [
    {
     "data": {
      "text/plain": [
       "38"
      ]
     },
     "execution_count": 59,
     "metadata": {},
     "output_type": "execute_result"
    }
   ],
   "source": [
    "len(train)"
   ]
  },
  {
   "cell_type": "code",
   "execution_count": 60,
   "metadata": {},
   "outputs": [
    {
     "data": {
      "text/plain": [
       "10677.0"
      ]
     },
     "execution_count": 60,
     "metadata": {},
     "output_type": "execute_result"
    }
   ],
   "source": [
    "# Take the last 3 month average\n",
    "train.Subscription_Type.rolling(periods).mean()[-1]"
   ]
  },
  {
   "cell_type": "code",
   "execution_count": 61,
   "metadata": {},
   "outputs": [
    {
     "data": {
      "text/plain": [
       "Month_Invoiced\n",
       "2014-01-31             NaN\n",
       "2014-02-28             NaN\n",
       "2014-03-31    37111.666667\n",
       "2014-04-30    38246.666667\n",
       "2014-05-31    39301.666667\n",
       "2014-06-30    40288.333333\n",
       "2014-07-31    41260.000000\n",
       "2014-08-31    42211.666667\n",
       "2014-09-30    43151.666667\n",
       "2014-10-31    44055.000000\n",
       "2014-11-30    44833.333333\n",
       "2014-12-31    45545.000000\n",
       "2015-01-31    46233.333333\n",
       "2015-02-28    46891.666667\n",
       "2015-03-31    47496.666667\n",
       "2015-04-30    48035.000000\n",
       "2015-05-31    48536.666667\n",
       "2015-06-30    49023.333333\n",
       "2015-07-31    49538.333333\n",
       "2015-08-31    50028.333333\n",
       "2015-09-30    50528.333333\n",
       "2015-10-31    50975.000000\n",
       "2015-11-30    51230.000000\n",
       "2015-12-31    51403.333333\n",
       "2016-01-31    51573.333333\n",
       "2016-02-29    51805.000000\n",
       "2016-03-31    51970.000000\n",
       "2016-04-30    52048.333333\n",
       "2016-05-31    52171.666667\n",
       "2016-06-30    52316.666667\n",
       "2016-07-31    52485.000000\n",
       "2016-08-31    52690.000000\n",
       "2016-09-30    52870.000000\n",
       "2016-10-31    53035.000000\n",
       "2016-11-30    53180.000000\n",
       "2016-12-31    53295.000000\n",
       "2017-01-31    53363.333333\n",
       "2017-02-28    53385.000000\n",
       "Freq: M, Name: Amount, dtype: float64"
      ]
     },
     "execution_count": 61,
     "metadata": {},
     "output_type": "execute_result"
    }
   ],
   "source": [
    "train.Amount.rolling(periods).mean()"
   ]
  },
  {
   "cell_type": "code",
   "execution_count": 62,
   "metadata": {},
   "outputs": [
    {
     "data": {
      "text/plain": [
       "53385.0"
      ]
     },
     "execution_count": 62,
     "metadata": {},
     "output_type": "execute_result"
    }
   ],
   "source": [
    "train.Amount.rolling(periods).mean()[-1]"
   ]
  },
  {
   "cell_type": "code",
   "execution_count": 63,
   "metadata": {},
   "outputs": [
    {
     "data": {
      "text/plain": [
       "Month_Invoiced\n",
       "2017-03-31    10677.0\n",
       "2017-04-30    10677.0\n",
       "2017-05-31    10677.0\n",
       "2017-06-30    10677.0\n",
       "2017-07-31    10677.0\n",
       "2017-08-31    10677.0\n",
       "2017-09-30    10677.0\n",
       "2017-10-31    10677.0\n",
       "2017-11-30    10677.0\n",
       "2017-12-31    10677.0\n",
       "Freq: M, Name: Subscription_Type, dtype: float64"
      ]
     },
     "execution_count": 63,
     "metadata": {},
     "output_type": "execute_result"
    }
   ],
   "source": [
    "yhat['Subscription_Type'] = train.Subscription_Type.rolling(periods).mean()[-1]\n",
    "yhat.Subscription_Type"
   ]
  },
  {
   "cell_type": "code",
   "execution_count": 64,
   "metadata": {},
   "outputs": [
    {
     "data": {
      "text/plain": [
       "Month_Invoiced\n",
       "2017-03-31    53385.0\n",
       "2017-04-30    53385.0\n",
       "2017-05-31    53385.0\n",
       "2017-06-30    53385.0\n",
       "2017-07-31    53385.0\n",
       "2017-08-31    53385.0\n",
       "2017-09-30    53385.0\n",
       "2017-10-31    53385.0\n",
       "2017-11-30    53385.0\n",
       "2017-12-31    53385.0\n",
       "Freq: M, Name: Amount, dtype: float64"
      ]
     },
     "execution_count": 64,
     "metadata": {},
     "output_type": "execute_result"
    }
   ],
   "source": [
    "yhat['Amount'] = train.Amount.rolling(periods).mean()[-1]\n",
    "yhat.Amount"
   ]
  },
  {
   "cell_type": "code",
   "execution_count": 65,
   "metadata": {},
   "outputs": [
    {
     "name": "stdout",
     "output_type": "stream",
     "text": [
      "Subscription_Type -- MSE: 4795.10, RMSE: 69.25\n",
      "Amount -- MSE: 119877.50, RMSE: 346.23\n"
     ]
    },
    {
     "data": {
      "image/png": "[encoded data removed]",
      "text/plain": [
       "<Figure size 1152x576 with 1 Axes>"
      ]
     },
     "metadata": {
      "needs_background": "light"
     },
     "output_type": "display_data"
    }
   ],
   "source": [
    "plot_and_eval(target_vars)"
   ]
  },
  {
   "cell_type": "code",
   "execution_count": 66,
   "metadata": {},
   "outputs": [],
   "source": [
    "eval_df = append_eval_df('Moving Average, periods = 3')"
   ]
  },
  {
   "cell_type": "code",
   "execution_count": 46,
   "metadata": {},
   "outputs": [
    {
     "name": "stdout",
     "output_type": "stream",
     "text": [
      "Subscription_Type -- MSE: 4795.10, RMSE: 69.25\n"
     ]
    },
    {
     "data": {
      "image/png": "[encoded data removed]",
      "text/plain": [
       "<Figure size 1152x576 with 1 Axes>"
      ]
     },
     "metadata": {
      "needs_background": "light"
     },
     "output_type": "display_data"
    }
   ],
   "source": [
    "target_vars = ['Subscription_Type']\n",
    "\n",
    "plot_and_eval(target_vars, train=train, test=test)"
   ]
  },
  {
   "cell_type": "code",
   "execution_count": 49,
   "metadata": {},
   "outputs": [
    {
     "name": "stdout",
     "output_type": "stream",
     "text": [
      "\n",
      "rolling average period: 1\n",
      "\n",
      "Subscription Type\n",
      "\n",
      "MSE: 3743.5\n",
      "RMSE: 61.18414827387891\n",
      "\n",
      "Amount\n",
      "\n",
      "MSE: 93587.5\n",
      "RMSE: 305.9207413693946\n",
      "\n",
      "rolling average period: 3\n",
      "\n",
      "Subscription Type\n",
      "\n",
      "MSE: 4795.1\n",
      "RMSE: 69.2466605693011\n",
      "\n",
      "Amount\n",
      "\n",
      "MSE: 119877.5\n",
      "RMSE: 346.2333028465055\n",
      "\n",
      "rolling average period: 6\n",
      "\n",
      "Subscription Type\n",
      "\n",
      "MSE: 7400.65\n",
      "RMSE: 86.02703063572518\n",
      "\n",
      "Amount\n",
      "\n",
      "MSE: 185016.25\n",
      "RMSE: 430.13515317862596\n",
      "\n",
      "rolling average period: 12\n",
      "\n",
      "Subscription Type\n",
      "\n",
      "MSE: 27224.61111111092\n",
      "RMSE: 164.9988215446126\n",
      "\n",
      "Amount\n",
      "\n",
      "MSE: 680615.2777777816\n",
      "RMSE: 824.9941077230683\n"
     ]
    },
    {
     "data": {
      "text/plain": [
       "<matplotlib.legend.Legend at 0x1c1ff38320>"
      ]
     },
     "execution_count": 49,
     "metadata": {},
     "output_type": "execute_result"
    },
    {
     "data": {
      "image/png": "[encoded data removed]",
      "text/plain": [
       "<Figure size 1152x576 with 1 Axes>"
      ]
     },
     "metadata": {
      "needs_background": "light"
     },
     "output_type": "display_data"
    }
   ],
   "source": [
    "target_vars = ['Subscription_Type','Amount']\n",
    "\n",
    "plt.figure(figsize = (16,8))\n",
    "plt.plot(train[target_vars],label='Train')\n",
    "plt.plot(test[target_vars],label ='Test')\n",
    "period_vals = [1,3,6,12]\n",
    "for p in period_vals:\n",
    "    yhat['Subscription_Type'] = train.Subscription_Type.rolling(p).mean()[-1]\n",
    "    yhat['Amount'] = train.Amount.rolling(p).mean()[-1]\n",
    "    plt.plot(yhat.Subscription_Type, label = 'periods = {}'.format(p))\n",
    "    plt.plot(yhat.Amount, label = 'periods = {}'.format(p))\n",
    "    print('\\nrolling average period:',p)\n",
    "    print('\\nSubscription Type\\n')\n",
    "    evaluate('Subscription_Type')\n",
    "    print('\\nAmount\\n')\n",
    "    evaluate('Amount')\n",
    "plt.legend()"
   ]
  },
  {
   "cell_type": "code",
   "execution_count": 50,
   "metadata": {},
   "outputs": [
    {
     "data": {
      "text/plain": [
       "10688.0"
      ]
     },
     "execution_count": 50,
     "metadata": {},
     "output_type": "execute_result"
    }
   ],
   "source": [
    "train.Subscription_Type[-1]"
   ]
  },
  {
   "cell_type": "code",
   "execution_count": 51,
   "metadata": {},
   "outputs": [
    {
     "data": {
      "text/plain": [
       "Month_Invoiced\n",
       "2014-01-31     7170.0\n",
       "2014-02-28     7438.0\n",
       "2014-03-31     7659.0\n",
       "2014-04-30     7851.0\n",
       "2014-05-31     8071.0\n",
       "2014-06-30     8251.0\n",
       "2014-07-31     8434.0\n",
       "2014-08-31     8642.0\n",
       "2014-09-30     8815.0\n",
       "2014-10-31     8976.0\n",
       "2014-11-30     9109.0\n",
       "2014-12-31     9242.0\n",
       "2015-01-31     9389.0\n",
       "2015-02-28     9504.0\n",
       "2015-03-31     9605.0\n",
       "2015-04-30     9712.0\n",
       "2015-05-31     9805.0\n",
       "2015-06-30     9897.0\n",
       "2015-07-31    10021.0\n",
       "2015-08-31    10099.0\n",
       "2015-09-30    10197.0\n",
       "2015-10-31    10289.0\n",
       "2015-11-30    10252.0\n",
       "2015-12-31    10301.0\n",
       "2016-01-31    10391.0\n",
       "2016-02-29    10391.0\n",
       "2016-03-31    10400.0\n",
       "2016-04-30    10438.0\n",
       "2016-05-31    10465.0\n",
       "2016-06-30    10487.0\n",
       "2016-07-31    10539.0\n",
       "2016-08-31    10588.0\n",
       "2016-09-30    10595.0\n",
       "2016-10-31    10638.0\n",
       "2016-11-30    10675.0\n",
       "2016-12-31    10664.0\n",
       "2017-01-31    10679.0\n",
       "2017-02-28    10688.0\n",
       "Freq: M, Name: Subscription_Type, dtype: float64"
      ]
     },
     "execution_count": 51,
     "metadata": {},
     "output_type": "execute_result"
    }
   ],
   "source": [
    "train.Subscription_Type.rolling(1).mean()"
   ]
  },
  {
   "cell_type": "markdown",
   "metadata": {},
   "source": [
    "***INSIGHT*** Periods = 1 performed the best! This would be same as using the Last Observed Value"
   ]
  },
  {
   "cell_type": "code",
   "execution_count": 53,
   "metadata": {},
   "outputs": [
    {
     "data": {
      "text/html": [
       "<div>\n",
       "<style scoped>\n",
       "    .dataframe tbody tr th:only-of-type {\n",
       "        vertical-align: middle;\n",
       "    }\n",
       "\n",
       "    .dataframe tbody tr th {\n",
       "        vertical-align: top;\n",
       "    }\n",
       "\n",
       "    .dataframe thead th {\n",
       "        text-align: right;\n",
       "    }\n",
       "</style>\n",
       "<table border=\"1\" class=\"dataframe\">\n",
       "  <thead>\n",
       "    <tr style=\"text-align: right;\">\n",
       "      <th></th>\n",
       "      <th>Subscription_Type</th>\n",
       "      <th>Amount</th>\n",
       "    </tr>\n",
       "    <tr>\n",
       "      <th>Month_Invoiced</th>\n",
       "      <th></th>\n",
       "      <th></th>\n",
       "    </tr>\n",
       "  </thead>\n",
       "  <tbody>\n",
       "    <tr>\n",
       "      <th>2017-03-31</th>\n",
       "      <td>10688.0</td>\n",
       "      <td>53440.0</td>\n",
       "    </tr>\n",
       "    <tr>\n",
       "      <th>2017-04-30</th>\n",
       "      <td>10688.0</td>\n",
       "      <td>53440.0</td>\n",
       "    </tr>\n",
       "    <tr>\n",
       "      <th>2017-05-31</th>\n",
       "      <td>10688.0</td>\n",
       "      <td>53440.0</td>\n",
       "    </tr>\n",
       "    <tr>\n",
       "      <th>2017-06-30</th>\n",
       "      <td>10688.0</td>\n",
       "      <td>53440.0</td>\n",
       "    </tr>\n",
       "    <tr>\n",
       "      <th>2017-07-31</th>\n",
       "      <td>10688.0</td>\n",
       "      <td>53440.0</td>\n",
       "    </tr>\n",
       "    <tr>\n",
       "      <th>2017-08-31</th>\n",
       "      <td>10688.0</td>\n",
       "      <td>53440.0</td>\n",
       "    </tr>\n",
       "    <tr>\n",
       "      <th>2017-09-30</th>\n",
       "      <td>10688.0</td>\n",
       "      <td>53440.0</td>\n",
       "    </tr>\n",
       "    <tr>\n",
       "      <th>2017-10-31</th>\n",
       "      <td>10688.0</td>\n",
       "      <td>53440.0</td>\n",
       "    </tr>\n",
       "    <tr>\n",
       "      <th>2017-11-30</th>\n",
       "      <td>10688.0</td>\n",
       "      <td>53440.0</td>\n",
       "    </tr>\n",
       "    <tr>\n",
       "      <th>2017-12-31</th>\n",
       "      <td>10688.0</td>\n",
       "      <td>53440.0</td>\n",
       "    </tr>\n",
       "  </tbody>\n",
       "</table>\n",
       "</div>"
      ],
      "text/plain": [
       "                Subscription_Type   Amount\n",
       "Month_Invoiced                            \n",
       "2017-03-31                10688.0  53440.0\n",
       "2017-04-30                10688.0  53440.0\n",
       "2017-05-31                10688.0  53440.0\n",
       "2017-06-30                10688.0  53440.0\n",
       "2017-07-31                10688.0  53440.0\n",
       "2017-08-31                10688.0  53440.0\n",
       "2017-09-30                10688.0  53440.0\n",
       "2017-10-31                10688.0  53440.0\n",
       "2017-11-30                10688.0  53440.0\n",
       "2017-12-31                10688.0  53440.0"
      ]
     },
     "execution_count": 53,
     "metadata": {},
     "output_type": "execute_result"
    }
   ],
   "source": [
    "yhat['Subscription_Type'] = train.Subscription_Type.rolling(1).mean()[-1]\n",
    "yhat['Amount'] = train.Amount.rolling(1).mean()[-1]\n",
    "yhat"
   ]
  },
  {
   "cell_type": "code",
   "execution_count": 54,
   "metadata": {},
   "outputs": [
    {
     "name": "stdout",
     "output_type": "stream",
     "text": [
      "Subscription_Type -- MSE: 3743.50, RMSE: 61.18\n",
      "Amount -- MSE: 93587.50, RMSE: 305.92\n"
     ]
    },
    {
     "data": {
      "image/png": "[encoded data removed]",
      "text/plain": [
       "<Figure size 1152x576 with 1 Axes>"
      ]
     },
     "metadata": {
      "needs_background": "light"
     },
     "output_type": "display_data"
    }
   ],
   "source": [
    "target_vars = ['Subscription_Type', 'Amount']\n",
    "plot_and_eval(target_vars)"
   ]
  },
  {
   "cell_type": "code",
   "execution_count": 56,
   "metadata": {},
   "outputs": [],
   "source": [
    "eval_df = append_eval_df('Moving Average, periods = 1')"
   ]
  },
  {
   "cell_type": "code",
   "execution_count": 67,
   "metadata": {},
   "outputs": [
    {
     "data": {
      "text/html": [
       "<div>\n",
       "<style scoped>\n",
       "    .dataframe tbody tr th:only-of-type {\n",
       "        vertical-align: middle;\n",
       "    }\n",
       "\n",
       "    .dataframe tbody tr th {\n",
       "        vertical-align: top;\n",
       "    }\n",
       "\n",
       "    .dataframe thead th {\n",
       "        text-align: right;\n",
       "    }\n",
       "</style>\n",
       "<table border=\"1\" class=\"dataframe\">\n",
       "  <thead>\n",
       "    <tr style=\"text-align: right;\">\n",
       "      <th></th>\n",
       "      <th>model_type</th>\n",
       "      <th>target_var</th>\n",
       "      <th>metric</th>\n",
       "      <th>value</th>\n",
       "    </tr>\n",
       "  </thead>\n",
       "  <tbody>\n",
       "    <tr>\n",
       "      <th>0</th>\n",
       "      <td>last_observed_value</td>\n",
       "      <td>Subscription_Type</td>\n",
       "      <td>mse</td>\n",
       "      <td>3.743500e+03</td>\n",
       "    </tr>\n",
       "    <tr>\n",
       "      <th>1</th>\n",
       "      <td>last_observed_value</td>\n",
       "      <td>Subscription_Type</td>\n",
       "      <td>rmse</td>\n",
       "      <td>6.118415e+01</td>\n",
       "    </tr>\n",
       "    <tr>\n",
       "      <th>2</th>\n",
       "      <td>last_observed_value</td>\n",
       "      <td>Amount</td>\n",
       "      <td>mse</td>\n",
       "      <td>9.358750e+04</td>\n",
       "    </tr>\n",
       "    <tr>\n",
       "      <th>3</th>\n",
       "      <td>last_observed_value</td>\n",
       "      <td>Amount</td>\n",
       "      <td>rmse</td>\n",
       "      <td>3.059207e+02</td>\n",
       "    </tr>\n",
       "    <tr>\n",
       "      <th>4</th>\n",
       "      <td>simple_average</td>\n",
       "      <td>Subscription_Type</td>\n",
       "      <td>mse</td>\n",
       "      <td>1.188013e+06</td>\n",
       "    </tr>\n",
       "    <tr>\n",
       "      <th>5</th>\n",
       "      <td>simple_average</td>\n",
       "      <td>Subscription_Type</td>\n",
       "      <td>rmse</td>\n",
       "      <td>1.089960e+03</td>\n",
       "    </tr>\n",
       "    <tr>\n",
       "      <th>6</th>\n",
       "      <td>simple_average</td>\n",
       "      <td>Amount</td>\n",
       "      <td>mse</td>\n",
       "      <td>2.970032e+07</td>\n",
       "    </tr>\n",
       "    <tr>\n",
       "      <th>7</th>\n",
       "      <td>simple_average</td>\n",
       "      <td>Amount</td>\n",
       "      <td>rmse</td>\n",
       "      <td>5.449800e+03</td>\n",
       "    </tr>\n",
       "    <tr>\n",
       "      <th>8</th>\n",
       "      <td>Moving Average, periods = 1</td>\n",
       "      <td>Subscription_Type</td>\n",
       "      <td>mse</td>\n",
       "      <td>3.743500e+03</td>\n",
       "    </tr>\n",
       "    <tr>\n",
       "      <th>9</th>\n",
       "      <td>Moving Average, periods = 1</td>\n",
       "      <td>Subscription_Type</td>\n",
       "      <td>rmse</td>\n",
       "      <td>6.118415e+01</td>\n",
       "    </tr>\n",
       "    <tr>\n",
       "      <th>10</th>\n",
       "      <td>Moving Average, periods = 1</td>\n",
       "      <td>Amount</td>\n",
       "      <td>mse</td>\n",
       "      <td>9.358750e+04</td>\n",
       "    </tr>\n",
       "    <tr>\n",
       "      <th>11</th>\n",
       "      <td>Moving Average, periods = 1</td>\n",
       "      <td>Amount</td>\n",
       "      <td>rmse</td>\n",
       "      <td>3.059207e+02</td>\n",
       "    </tr>\n",
       "    <tr>\n",
       "      <th>12</th>\n",
       "      <td>Moving Average, periods = 3</td>\n",
       "      <td>Subscription_Type</td>\n",
       "      <td>mse</td>\n",
       "      <td>4.795100e+03</td>\n",
       "    </tr>\n",
       "    <tr>\n",
       "      <th>13</th>\n",
       "      <td>Moving Average, periods = 3</td>\n",
       "      <td>Subscription_Type</td>\n",
       "      <td>rmse</td>\n",
       "      <td>6.924666e+01</td>\n",
       "    </tr>\n",
       "    <tr>\n",
       "      <th>14</th>\n",
       "      <td>Moving Average, periods = 3</td>\n",
       "      <td>Amount</td>\n",
       "      <td>mse</td>\n",
       "      <td>1.198775e+05</td>\n",
       "    </tr>\n",
       "    <tr>\n",
       "      <th>15</th>\n",
       "      <td>Moving Average, periods = 3</td>\n",
       "      <td>Amount</td>\n",
       "      <td>rmse</td>\n",
       "      <td>3.462333e+02</td>\n",
       "    </tr>\n",
       "  </tbody>\n",
       "</table>\n",
       "</div>"
      ],
      "text/plain": [
       "                     model_type         target_var metric         value\n",
       "0           last_observed_value  Subscription_Type    mse  3.743500e+03\n",
       "1           last_observed_value  Subscription_Type   rmse  6.118415e+01\n",
       "2           last_observed_value             Amount    mse  9.358750e+04\n",
       "3           last_observed_value             Amount   rmse  3.059207e+02\n",
       "4                simple_average  Subscription_Type    mse  1.188013e+06\n",
       "5                simple_average  Subscription_Type   rmse  1.089960e+03\n",
       "6                simple_average             Amount    mse  2.970032e+07\n",
       "7                simple_average             Amount   rmse  5.449800e+03\n",
       "8   Moving Average, periods = 1  Subscription_Type    mse  3.743500e+03\n",
       "9   Moving Average, periods = 1  Subscription_Type   rmse  6.118415e+01\n",
       "10  Moving Average, periods = 1             Amount    mse  9.358750e+04\n",
       "11  Moving Average, periods = 1             Amount   rmse  3.059207e+02\n",
       "12  Moving Average, periods = 3  Subscription_Type    mse  4.795100e+03\n",
       "13  Moving Average, periods = 3  Subscription_Type   rmse  6.924666e+01\n",
       "14  Moving Average, periods = 3             Amount    mse  1.198775e+05\n",
       "15  Moving Average, periods = 3             Amount   rmse  3.462333e+02"
      ]
     },
     "execution_count": 67,
     "metadata": {},
     "output_type": "execute_result"
    }
   ],
   "source": [
    "eval_df"
   ]
  },
  {
   "cell_type": "markdown",
   "metadata": {},
   "source": [
    "### Holt's Linear Trend\n",
    "\n",
    "Exponetial smoothing applied to both the average and the trend(slope)"
   ]
  },
  {
   "cell_type": "code",
   "execution_count": 68,
   "metadata": {},
   "outputs": [
    {
     "data": {
      "text/plain": [
       "['Subscription_Type', 'Amount']"
      ]
     },
     "execution_count": 68,
     "metadata": {},
     "output_type": "execute_result"
    }
   ],
   "source": [
    "target_vars"
   ]
  },
  {
   "cell_type": "code",
   "execution_count": 73,
   "metadata": {},
   "outputs": [
    {
     "name": "stdout",
     "output_type": "stream",
     "text": [
      "Subscription_Type \n",
      "\n"
     ]
    },
    {
     "data": {
      "image/png": "[encoded data removed]",
      "text/plain": [
       "<Figure size 432x288 with 4 Axes>"
      ]
     },
     "metadata": {
      "needs_background": "light"
     },
     "output_type": "display_data"
    },
    {
     "name": "stdout",
     "output_type": "stream",
     "text": [
      "Amount \n",
      "\n"
     ]
    },
    {
     "data": {
      "image/png": "[encoded data removed]",
      "text/plain": [
       "<Figure size 432x288 with 4 Axes>"
      ]
     },
     "metadata": {
      "needs_background": "light"
     },
     "output_type": "display_data"
    }
   ],
   "source": [
    "for var in target_vars:\n",
    "    print(var,'\\n')\n",
    "    _ = sm.tsa.seasonal_decompose(train[var].resample('M').mean()).plot()\n",
    "    plt.show()"
   ]
  },
  {
   "cell_type": "code",
   "execution_count": 74,
   "metadata": {
    "scrolled": true
   },
   "outputs": [
    {
     "name": "stdout",
     "output_type": "stream",
     "text": [
      "Subscription_Type -- MSE: 74774.87, RMSE: 273.45\n",
      "Amount -- MSE: 1869371.78, RMSE: 1367.25\n"
     ]
    },
    {
     "data": {
      "image/png": "[encoded data removed]",
      "text/plain": [
       "<Figure size 1152x576 with 1 Axes>"
      ]
     },
     "metadata": {
      "needs_background": "light"
     },
     "output_type": "display_data"
    }
   ],
   "source": [
    "from statsmodels.tsa.api import Holt\n",
    "\n",
    "model1 = Holt(train['Subscription_Type']).fit(smoothing_level = .3, smoothing_slope =.1, optimized = False)\n",
    "model2 = Holt(train['Amount']).fit(smoothing_level = .3, smoothing_slope = .1, optimized = False)\n",
    "\n",
    "yhat['Subscription_Type'] = pd.DataFrame(model1.forecast(test['Subscription_Type'].shape[0]),columns = ['Subscription_Type'])\n",
    "yhat['Amount'] = pd.DataFrame(model2.forecast(test['Amount'].shape[0]), columns = ['Amount'])\n",
    "\n",
    "plot_and_eval(target_vars, train, test)\n",
    "eval_df = append_eval_df('holts_linear_trend')\n",
    "\n",
    "\n"
   ]
  },
  {
   "cell_type": "code",
   "execution_count": 75,
   "metadata": {},
   "outputs": [
    {
     "data": {
      "text/html": [
       "<div>\n",
       "<style scoped>\n",
       "    .dataframe tbody tr th:only-of-type {\n",
       "        vertical-align: middle;\n",
       "    }\n",
       "\n",
       "    .dataframe tbody tr th {\n",
       "        vertical-align: top;\n",
       "    }\n",
       "\n",
       "    .dataframe thead th {\n",
       "        text-align: right;\n",
       "    }\n",
       "</style>\n",
       "<table border=\"1\" class=\"dataframe\">\n",
       "  <thead>\n",
       "    <tr style=\"text-align: right;\">\n",
       "      <th></th>\n",
       "      <th>model_type</th>\n",
       "      <th>target_var</th>\n",
       "      <th>metric</th>\n",
       "      <th>value</th>\n",
       "    </tr>\n",
       "  </thead>\n",
       "  <tbody>\n",
       "    <tr>\n",
       "      <th>0</th>\n",
       "      <td>last_observed_value</td>\n",
       "      <td>Subscription_Type</td>\n",
       "      <td>mse</td>\n",
       "      <td>3.743500e+03</td>\n",
       "    </tr>\n",
       "    <tr>\n",
       "      <th>1</th>\n",
       "      <td>last_observed_value</td>\n",
       "      <td>Subscription_Type</td>\n",
       "      <td>rmse</td>\n",
       "      <td>6.118415e+01</td>\n",
       "    </tr>\n",
       "    <tr>\n",
       "      <th>2</th>\n",
       "      <td>last_observed_value</td>\n",
       "      <td>Amount</td>\n",
       "      <td>mse</td>\n",
       "      <td>9.358750e+04</td>\n",
       "    </tr>\n",
       "    <tr>\n",
       "      <th>3</th>\n",
       "      <td>last_observed_value</td>\n",
       "      <td>Amount</td>\n",
       "      <td>rmse</td>\n",
       "      <td>3.059207e+02</td>\n",
       "    </tr>\n",
       "    <tr>\n",
       "      <th>4</th>\n",
       "      <td>simple_average</td>\n",
       "      <td>Subscription_Type</td>\n",
       "      <td>mse</td>\n",
       "      <td>1.188013e+06</td>\n",
       "    </tr>\n",
       "    <tr>\n",
       "      <th>5</th>\n",
       "      <td>simple_average</td>\n",
       "      <td>Subscription_Type</td>\n",
       "      <td>rmse</td>\n",
       "      <td>1.089960e+03</td>\n",
       "    </tr>\n",
       "    <tr>\n",
       "      <th>6</th>\n",
       "      <td>simple_average</td>\n",
       "      <td>Amount</td>\n",
       "      <td>mse</td>\n",
       "      <td>2.970032e+07</td>\n",
       "    </tr>\n",
       "    <tr>\n",
       "      <th>7</th>\n",
       "      <td>simple_average</td>\n",
       "      <td>Amount</td>\n",
       "      <td>rmse</td>\n",
       "      <td>5.449800e+03</td>\n",
       "    </tr>\n",
       "    <tr>\n",
       "      <th>8</th>\n",
       "      <td>Moving Average, periods = 1</td>\n",
       "      <td>Subscription_Type</td>\n",
       "      <td>mse</td>\n",
       "      <td>3.743500e+03</td>\n",
       "    </tr>\n",
       "    <tr>\n",
       "      <th>9</th>\n",
       "      <td>Moving Average, periods = 1</td>\n",
       "      <td>Subscription_Type</td>\n",
       "      <td>rmse</td>\n",
       "      <td>6.118415e+01</td>\n",
       "    </tr>\n",
       "    <tr>\n",
       "      <th>10</th>\n",
       "      <td>Moving Average, periods = 1</td>\n",
       "      <td>Amount</td>\n",
       "      <td>mse</td>\n",
       "      <td>9.358750e+04</td>\n",
       "    </tr>\n",
       "    <tr>\n",
       "      <th>11</th>\n",
       "      <td>Moving Average, periods = 1</td>\n",
       "      <td>Amount</td>\n",
       "      <td>rmse</td>\n",
       "      <td>3.059207e+02</td>\n",
       "    </tr>\n",
       "    <tr>\n",
       "      <th>12</th>\n",
       "      <td>Moving Average, periods = 3</td>\n",
       "      <td>Subscription_Type</td>\n",
       "      <td>mse</td>\n",
       "      <td>4.795100e+03</td>\n",
       "    </tr>\n",
       "    <tr>\n",
       "      <th>13</th>\n",
       "      <td>Moving Average, periods = 3</td>\n",
       "      <td>Subscription_Type</td>\n",
       "      <td>rmse</td>\n",
       "      <td>6.924666e+01</td>\n",
       "    </tr>\n",
       "    <tr>\n",
       "      <th>14</th>\n",
       "      <td>Moving Average, periods = 3</td>\n",
       "      <td>Amount</td>\n",
       "      <td>mse</td>\n",
       "      <td>1.198775e+05</td>\n",
       "    </tr>\n",
       "    <tr>\n",
       "      <th>15</th>\n",
       "      <td>Moving Average, periods = 3</td>\n",
       "      <td>Amount</td>\n",
       "      <td>rmse</td>\n",
       "      <td>3.462333e+02</td>\n",
       "    </tr>\n",
       "    <tr>\n",
       "      <th>16</th>\n",
       "      <td>holts_linear_trend</td>\n",
       "      <td>Subscription_Type</td>\n",
       "      <td>mse</td>\n",
       "      <td>7.477487e+04</td>\n",
       "    </tr>\n",
       "    <tr>\n",
       "      <th>17</th>\n",
       "      <td>holts_linear_trend</td>\n",
       "      <td>Subscription_Type</td>\n",
       "      <td>rmse</td>\n",
       "      <td>2.734499e+02</td>\n",
       "    </tr>\n",
       "    <tr>\n",
       "      <th>18</th>\n",
       "      <td>holts_linear_trend</td>\n",
       "      <td>Amount</td>\n",
       "      <td>mse</td>\n",
       "      <td>1.869372e+06</td>\n",
       "    </tr>\n",
       "    <tr>\n",
       "      <th>19</th>\n",
       "      <td>holts_linear_trend</td>\n",
       "      <td>Amount</td>\n",
       "      <td>rmse</td>\n",
       "      <td>1.367250e+03</td>\n",
       "    </tr>\n",
       "  </tbody>\n",
       "</table>\n",
       "</div>"
      ],
      "text/plain": [
       "                     model_type         target_var metric         value\n",
       "0           last_observed_value  Subscription_Type    mse  3.743500e+03\n",
       "1           last_observed_value  Subscription_Type   rmse  6.118415e+01\n",
       "2           last_observed_value             Amount    mse  9.358750e+04\n",
       "3           last_observed_value             Amount   rmse  3.059207e+02\n",
       "4                simple_average  Subscription_Type    mse  1.188013e+06\n",
       "5                simple_average  Subscription_Type   rmse  1.089960e+03\n",
       "6                simple_average             Amount    mse  2.970032e+07\n",
       "7                simple_average             Amount   rmse  5.449800e+03\n",
       "8   Moving Average, periods = 1  Subscription_Type    mse  3.743500e+03\n",
       "9   Moving Average, periods = 1  Subscription_Type   rmse  6.118415e+01\n",
       "10  Moving Average, periods = 1             Amount    mse  9.358750e+04\n",
       "11  Moving Average, periods = 1             Amount   rmse  3.059207e+02\n",
       "12  Moving Average, periods = 3  Subscription_Type    mse  4.795100e+03\n",
       "13  Moving Average, periods = 3  Subscription_Type   rmse  6.924666e+01\n",
       "14  Moving Average, periods = 3             Amount    mse  1.198775e+05\n",
       "15  Moving Average, periods = 3             Amount   rmse  3.462333e+02\n",
       "16           holts_linear_trend  Subscription_Type    mse  7.477487e+04\n",
       "17           holts_linear_trend  Subscription_Type   rmse  2.734499e+02\n",
       "18           holts_linear_trend             Amount    mse  1.869372e+06\n",
       "19           holts_linear_trend             Amount   rmse  1.367250e+03"
      ]
     },
     "execution_count": 75,
     "metadata": {},
     "output_type": "execute_result"
    }
   ],
   "source": [
    "eval_df"
   ]
  },
  {
   "cell_type": "code",
   "execution_count": 78,
   "metadata": {},
   "outputs": [
    {
     "data": {
      "text/plain": [
       "61.18414827387891"
      ]
     },
     "execution_count": 78,
     "metadata": {},
     "output_type": "execute_result"
    }
   ],
   "source": [
    "eval_df[eval_df.metric == 'rmse'].value.min()"
   ]
  },
  {
   "cell_type": "code",
   "execution_count": null,
   "metadata": {},
   "outputs": [],
   "source": []
  }
 ],
 "metadata": {
  "kernelspec": {
   "display_name": "Python 3",
   "language": "python",
   "name": "python3"
  },
  "language_info": {
   "codemirror_mode": {
    "name": "ipython",
    "version": 3
   },
   "file_extension": ".py",
   "mimetype": "text/x-python",
   "name": "python",
   "nbconvert_exporter": "python",
   "pygments_lexer": "ipython3",
   "version": "3.7.3"
  }
 },
 "nbformat": 4,
 "nbformat_minor": 2
}

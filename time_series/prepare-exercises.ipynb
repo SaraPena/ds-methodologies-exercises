{
 "cells": [
  {
   "cell_type": "code",
   "execution_count": 28,
   "metadata": {},
   "outputs": [],
   "source": [
    "import warnings\n",
    "warnings.filterwarnings('ignore')\n",
    "import json\n",
    "from pprint import pprint\n",
    "\n",
    "from datetime import timedelta, datetime\n",
    "\n",
    "import matplotlib.pyplot as plt\n",
    "import seaborn as sns\n",
    "\n",
    "import pandas as pd\n",
    "\n",
    "from os import path\n",
    "\n",
    "import acquire"
   ]
  },
  {
   "cell_type": "markdown",
   "metadata": {},
   "source": [
    "Using your store items data you acquired in lesson 1 exercises:\n",
    "\n",
    "***1. Convert date column to datetime format.***"
   ]
  },
  {
   "cell_type": "code",
   "execution_count": 2,
   "metadata": {},
   "outputs": [],
   "source": [
    "df = acquire.get_all_data()"
   ]
  },
  {
   "cell_type": "code",
   "execution_count": 3,
   "metadata": {},
   "outputs": [
    {
     "name": "stdout",
     "output_type": "stream",
     "text": [
      "<class 'pandas.core.frame.DataFrame'>\n",
      "Int64Index: 913000 entries, 0 to 912999\n",
      "Data columns (total 14 columns):\n",
      "item_id          913000 non-null int64\n",
      "sale_amount      913000 non-null float64\n",
      "sale_date        913000 non-null object\n",
      "sale_id          913000 non-null int64\n",
      "store_id         913000 non-null int64\n",
      "item_brand       913000 non-null object\n",
      "item_name        913000 non-null object\n",
      "item_price       913000 non-null float64\n",
      "item_upc12       913000 non-null int64\n",
      "item_upc14       913000 non-null int64\n",
      "store_address    913000 non-null object\n",
      "store_city       913000 non-null object\n",
      "store_state      913000 non-null object\n",
      "store_zipcode    913000 non-null int64\n",
      "dtypes: float64(2), int64(6), object(6)\n",
      "memory usage: 104.5+ MB\n"
     ]
    }
   ],
   "source": [
    "df.info()"
   ]
  },
  {
   "cell_type": "code",
   "execution_count": 4,
   "metadata": {},
   "outputs": [],
   "source": [
    "df['sale_date'] = pd.to_datetime(df['sale_date'])"
   ]
  },
  {
   "cell_type": "code",
   "execution_count": 5,
   "metadata": {},
   "outputs": [
    {
     "name": "stdout",
     "output_type": "stream",
     "text": [
      "<class 'pandas.core.frame.DataFrame'>\n",
      "Int64Index: 913000 entries, 0 to 912999\n",
      "Data columns (total 14 columns):\n",
      "item_id          913000 non-null int64\n",
      "sale_amount      913000 non-null float64\n",
      "sale_date        913000 non-null datetime64[ns, UTC]\n",
      "sale_id          913000 non-null int64\n",
      "store_id         913000 non-null int64\n",
      "item_brand       913000 non-null object\n",
      "item_name        913000 non-null object\n",
      "item_price       913000 non-null float64\n",
      "item_upc12       913000 non-null int64\n",
      "item_upc14       913000 non-null int64\n",
      "store_address    913000 non-null object\n",
      "store_city       913000 non-null object\n",
      "store_state      913000 non-null object\n",
      "store_zipcode    913000 non-null int64\n",
      "dtypes: datetime64[ns, UTC](1), float64(2), int64(6), object(5)\n",
      "memory usage: 104.5+ MB\n"
     ]
    }
   ],
   "source": [
    "df.info()"
   ]
  },
  {
   "cell_type": "code",
   "execution_count": 6,
   "metadata": {},
   "outputs": [],
   "source": [
    "#sort df by `sale_date`\n",
    "df.sort_values('sale_date',inplace = True)"
   ]
  },
  {
   "cell_type": "markdown",
   "metadata": {},
   "source": [
    "***2. Plot the distribution of sale_amount, item_price, and sale_date***"
   ]
  },
  {
   "cell_type": "code",
   "execution_count": 7,
   "metadata": {},
   "outputs": [
    {
     "data": {
      "text/plain": [
       "(913000, True)"
      ]
     },
     "execution_count": 7,
     "metadata": {},
     "output_type": "execute_result"
    }
   ],
   "source": [
    "# All of our sale_amount values are integers:\n",
    "(df.sale_amount == df.sale_amount.astype(int)).sum(), (df.sale_amount == df.sale_amount.astype('int')).all()"
   ]
  },
  {
   "cell_type": "code",
   "execution_count": 8,
   "metadata": {},
   "outputs": [],
   "source": [
    "df.sale_amount = df.sale_amount.astype('int')"
   ]
  },
  {
   "cell_type": "code",
   "execution_count": 9,
   "metadata": {},
   "outputs": [
    {
     "name": "stdout",
     "output_type": "stream",
     "text": [
      "<class 'pandas.core.frame.DataFrame'>\n",
      "Int64Index: 913000 entries, 0 to 912999\n",
      "Data columns (total 14 columns):\n",
      "item_id          913000 non-null int64\n",
      "sale_amount      913000 non-null int64\n",
      "sale_date        913000 non-null datetime64[ns, UTC]\n",
      "sale_id          913000 non-null int64\n",
      "store_id         913000 non-null int64\n",
      "item_brand       913000 non-null object\n",
      "item_name        913000 non-null object\n",
      "item_price       913000 non-null float64\n",
      "item_upc12       913000 non-null int64\n",
      "item_upc14       913000 non-null int64\n",
      "store_address    913000 non-null object\n",
      "store_city       913000 non-null object\n",
      "store_state      913000 non-null object\n",
      "store_zipcode    913000 non-null int64\n",
      "dtypes: datetime64[ns, UTC](1), float64(1), int64(7), object(5)\n",
      "memory usage: 104.5+ MB\n"
     ]
    }
   ],
   "source": [
    "df.info()"
   ]
  },
  {
   "cell_type": "code",
   "execution_count": 10,
   "metadata": {},
   "outputs": [
    {
     "data": {
      "text/plain": [
       "<matplotlib.axes._subplots.AxesSubplot at 0x1a1f584048>"
      ]
     },
     "execution_count": 10,
     "metadata": {},
     "output_type": "execute_result"
    },
    {
     "data": {
      "image/png": "[encoded data removed]",
      "text/plain": [
       "<Figure size 432x288 with 1 Axes>"
      ]
     },
     "metadata": {
      "needs_background": "light"
     },
     "output_type": "display_data"
    }
   ],
   "source": [
    "df.sale_amount.hist()"
   ]
  },
  {
   "cell_type": "code",
   "execution_count": 11,
   "metadata": {},
   "outputs": [
    {
     "data": {
      "text/plain": [
       "<matplotlib.axes._subplots.AxesSubplot at 0x1a2100bbe0>"
      ]
     },
     "execution_count": 11,
     "metadata": {},
     "output_type": "execute_result"
    },
    {
     "data": {
      "image/png": "[encoded data removed]",
      "text/plain": [
       "<Figure size 432x288 with 1 Axes>"
      ]
     },
     "metadata": {
      "needs_background": "light"
     },
     "output_type": "display_data"
    }
   ],
   "source": [
    "#another way to plot hist of a feature.\n",
    "df.sale_amount.plot.hist()"
   ]
  },
  {
   "cell_type": "code",
   "execution_count": 12,
   "metadata": {},
   "outputs": [
    {
     "data": {
      "text/plain": [
       "(0.59, 1.504]     109560\n",
       "(1.504, 2.408]     54780\n",
       "(2.408, 3.312]    109560\n",
       "(3.312, 4.216]     91300\n",
       "(4.216, 5.12]      54780\n",
       "(5.12, 6.024]     127820\n",
       "(6.024, 6.928]     54780\n",
       "(6.928, 7.832]    109560\n",
       "(7.832, 8.736]    109560\n",
       "(8.736, 9.64]      91300\n",
       "Name: item_price, dtype: int64"
      ]
     },
     "execution_count": 12,
     "metadata": {},
     "output_type": "execute_result"
    }
   ],
   "source": [
    "df.item_price.value_counts(bins=10).sort_index()"
   ]
  },
  {
   "cell_type": "code",
   "execution_count": 13,
   "metadata": {},
   "outputs": [
    {
     "data": {
      "text/plain": [
       "<matplotlib.axes._subplots.AxesSubplot at 0x1a1f8be668>"
      ]
     },
     "execution_count": 13,
     "metadata": {},
     "output_type": "execute_result"
    },
    {
     "data": {
      "image/png": "[encoded data removed]",
      "text/plain": [
       "<Figure size 432x288 with 1 Axes>"
      ]
     },
     "metadata": {
      "needs_background": "light"
     },
     "output_type": "display_data"
    }
   ],
   "source": [
    "df.item_price.plot.hist()"
   ]
  },
  {
   "cell_type": "code",
   "execution_count": 14,
   "metadata": {},
   "outputs": [
    {
     "data": {
      "text/plain": [
       "<matplotlib.axes._subplots.AxesSubplot at 0x1a1f8c9400>"
      ]
     },
     "execution_count": 14,
     "metadata": {},
     "output_type": "execute_result"
    },
    {
     "data": {
      "image/png": "[encoded data removed]",
      "text/plain": [
       "<Figure size 432x288 with 1 Axes>"
      ]
     },
     "metadata": {
      "needs_background": "light"
     },
     "output_type": "display_data"
    }
   ],
   "source": [
    "df.sale_date.value_counts().plot()"
   ]
  },
  {
   "cell_type": "markdown",
   "metadata": {},
   "source": [
    "***Takeaway*** Each date had 500 items sold."
   ]
  },
  {
   "cell_type": "code",
   "execution_count": 15,
   "metadata": {
    "scrolled": true
   },
   "outputs": [
    {
     "data": {
      "text/plain": [
       "<matplotlib.axes._subplots.AxesSubplot at 0x1a1f611c50>"
      ]
     },
     "execution_count": 15,
     "metadata": {},
     "output_type": "execute_result"
    },
    {
     "data": {
      "image/png": "[encoded data removed]",
      "text/plain": [
       "<Figure size 432x288 with 1 Axes>"
      ]
     },
     "metadata": {
      "needs_background": "light"
     },
     "output_type": "display_data"
    }
   ],
   "source": [
    "df[['sale_date','sale_amount']].groupby('sale_date').sum().plot()"
   ]
  },
  {
   "cell_type": "markdown",
   "metadata": {},
   "source": [
    "***3. Set the index to be the datetime variable***"
   ]
  },
  {
   "cell_type": "code",
   "execution_count": 16,
   "metadata": {},
   "outputs": [
    {
     "data": {
      "text/html": [
       "<div>\n",
       "<style scoped>\n",
       "    .dataframe tbody tr th:only-of-type {\n",
       "        vertical-align: middle;\n",
       "    }\n",
       "\n",
       "    .dataframe tbody tr th {\n",
       "        vertical-align: top;\n",
       "    }\n",
       "\n",
       "    .dataframe thead th {\n",
       "        text-align: right;\n",
       "    }\n",
       "</style>\n",
       "<table border=\"1\" class=\"dataframe\">\n",
       "  <thead>\n",
       "    <tr style=\"text-align: right;\">\n",
       "      <th></th>\n",
       "      <th>item_id</th>\n",
       "      <th>sale_amount</th>\n",
       "      <th>sale_id</th>\n",
       "      <th>store_id</th>\n",
       "      <th>item_brand</th>\n",
       "      <th>item_name</th>\n",
       "      <th>item_price</th>\n",
       "      <th>item_upc12</th>\n",
       "      <th>item_upc14</th>\n",
       "      <th>store_address</th>\n",
       "      <th>store_city</th>\n",
       "      <th>store_state</th>\n",
       "      <th>store_zipcode</th>\n",
       "    </tr>\n",
       "    <tr>\n",
       "      <th>sale_date</th>\n",
       "      <th></th>\n",
       "      <th></th>\n",
       "      <th></th>\n",
       "      <th></th>\n",
       "      <th></th>\n",
       "      <th></th>\n",
       "      <th></th>\n",
       "      <th></th>\n",
       "      <th></th>\n",
       "      <th></th>\n",
       "      <th></th>\n",
       "      <th></th>\n",
       "      <th></th>\n",
       "    </tr>\n",
       "  </thead>\n",
       "  <tbody>\n",
       "    <tr>\n",
       "      <th>2013-01-01 00:00:00+00:00</th>\n",
       "      <td>1</td>\n",
       "      <td>13</td>\n",
       "      <td>1</td>\n",
       "      <td>1</td>\n",
       "      <td>Riceland</td>\n",
       "      <td>Riceland American Jazmine Rice</td>\n",
       "      <td>0.84</td>\n",
       "      <td>35200264013</td>\n",
       "      <td>35200264013</td>\n",
       "      <td>12125 Alamo Ranch Pkwy</td>\n",
       "      <td>San Antonio</td>\n",
       "      <td>TX</td>\n",
       "      <td>78253</td>\n",
       "    </tr>\n",
       "    <tr>\n",
       "      <th>2013-01-01 00:00:00+00:00</th>\n",
       "      <td>17</td>\n",
       "      <td>26</td>\n",
       "      <td>295813</td>\n",
       "      <td>3</td>\n",
       "      <td>Ducal</td>\n",
       "      <td>Ducal Refried Red Beans</td>\n",
       "      <td>1.16</td>\n",
       "      <td>88313590791</td>\n",
       "      <td>88313590791</td>\n",
       "      <td>2118 Fredericksburg Rdj</td>\n",
       "      <td>San Antonio</td>\n",
       "      <td>TX</td>\n",
       "      <td>78201</td>\n",
       "    </tr>\n",
       "    <tr>\n",
       "      <th>2013-01-01 00:00:00+00:00</th>\n",
       "      <td>7</td>\n",
       "      <td>32</td>\n",
       "      <td>125995</td>\n",
       "      <td>10</td>\n",
       "      <td>Twinings Of London</td>\n",
       "      <td>Twinings Of London Classics Lady Grey Tea - 20 Ct</td>\n",
       "      <td>9.64</td>\n",
       "      <td>70177154004</td>\n",
       "      <td>70177154004</td>\n",
       "      <td>8503 NW Military Hwy</td>\n",
       "      <td>San Antonio</td>\n",
       "      <td>TX</td>\n",
       "      <td>78231</td>\n",
       "    </tr>\n",
       "    <tr>\n",
       "      <th>2013-01-01 00:00:00+00:00</th>\n",
       "      <td>18</td>\n",
       "      <td>45</td>\n",
       "      <td>314073</td>\n",
       "      <td>3</td>\n",
       "      <td>Scotch</td>\n",
       "      <td>Scotch Removable Clear Mounting Squares - 35 Ct</td>\n",
       "      <td>4.39</td>\n",
       "      <td>21200725340</td>\n",
       "      <td>21200725340</td>\n",
       "      <td>2118 Fredericksburg Rdj</td>\n",
       "      <td>San Antonio</td>\n",
       "      <td>TX</td>\n",
       "      <td>78201</td>\n",
       "    </tr>\n",
       "    <tr>\n",
       "      <th>2013-01-01 00:00:00+00:00</th>\n",
       "      <td>19</td>\n",
       "      <td>34</td>\n",
       "      <td>332333</td>\n",
       "      <td>3</td>\n",
       "      <td>Careone</td>\n",
       "      <td>Careone Family Comb Set - 8 Ct</td>\n",
       "      <td>0.74</td>\n",
       "      <td>41520035646</td>\n",
       "      <td>41520035646</td>\n",
       "      <td>2118 Fredericksburg Rdj</td>\n",
       "      <td>San Antonio</td>\n",
       "      <td>TX</td>\n",
       "      <td>78201</td>\n",
       "    </tr>\n",
       "  </tbody>\n",
       "</table>\n",
       "</div>"
      ],
      "text/plain": [
       "                           item_id  sale_amount  sale_id  store_id  \\\n",
       "sale_date                                                            \n",
       "2013-01-01 00:00:00+00:00        1           13        1         1   \n",
       "2013-01-01 00:00:00+00:00       17           26   295813         3   \n",
       "2013-01-01 00:00:00+00:00        7           32   125995        10   \n",
       "2013-01-01 00:00:00+00:00       18           45   314073         3   \n",
       "2013-01-01 00:00:00+00:00       19           34   332333         3   \n",
       "\n",
       "                                   item_brand  \\\n",
       "sale_date                                       \n",
       "2013-01-01 00:00:00+00:00            Riceland   \n",
       "2013-01-01 00:00:00+00:00               Ducal   \n",
       "2013-01-01 00:00:00+00:00  Twinings Of London   \n",
       "2013-01-01 00:00:00+00:00              Scotch   \n",
       "2013-01-01 00:00:00+00:00             Careone   \n",
       "\n",
       "                                                                   item_name  \\\n",
       "sale_date                                                                      \n",
       "2013-01-01 00:00:00+00:00                     Riceland American Jazmine Rice   \n",
       "2013-01-01 00:00:00+00:00                            Ducal Refried Red Beans   \n",
       "2013-01-01 00:00:00+00:00  Twinings Of London Classics Lady Grey Tea - 20 Ct   \n",
       "2013-01-01 00:00:00+00:00    Scotch Removable Clear Mounting Squares - 35 Ct   \n",
       "2013-01-01 00:00:00+00:00                     Careone Family Comb Set - 8 Ct   \n",
       "\n",
       "                           item_price   item_upc12   item_upc14  \\\n",
       "sale_date                                                         \n",
       "2013-01-01 00:00:00+00:00        0.84  35200264013  35200264013   \n",
       "2013-01-01 00:00:00+00:00        1.16  88313590791  88313590791   \n",
       "2013-01-01 00:00:00+00:00        9.64  70177154004  70177154004   \n",
       "2013-01-01 00:00:00+00:00        4.39  21200725340  21200725340   \n",
       "2013-01-01 00:00:00+00:00        0.74  41520035646  41520035646   \n",
       "\n",
       "                                     store_address   store_city store_state  \\\n",
       "sale_date                                                                     \n",
       "2013-01-01 00:00:00+00:00   12125 Alamo Ranch Pkwy  San Antonio          TX   \n",
       "2013-01-01 00:00:00+00:00  2118 Fredericksburg Rdj  San Antonio          TX   \n",
       "2013-01-01 00:00:00+00:00     8503 NW Military Hwy  San Antonio          TX   \n",
       "2013-01-01 00:00:00+00:00  2118 Fredericksburg Rdj  San Antonio          TX   \n",
       "2013-01-01 00:00:00+00:00  2118 Fredericksburg Rdj  San Antonio          TX   \n",
       "\n",
       "                           store_zipcode  \n",
       "sale_date                                 \n",
       "2013-01-01 00:00:00+00:00          78253  \n",
       "2013-01-01 00:00:00+00:00          78201  \n",
       "2013-01-01 00:00:00+00:00          78231  \n",
       "2013-01-01 00:00:00+00:00          78201  \n",
       "2013-01-01 00:00:00+00:00          78201  "
      ]
     },
     "execution_count": 16,
     "metadata": {},
     "output_type": "execute_result"
    }
   ],
   "source": [
    "by_date = df.set_index('sale_date')\n",
    "by_date.head()"
   ]
  },
  {
   "cell_type": "code",
   "execution_count": 17,
   "metadata": {},
   "outputs": [],
   "source": [
    "by_date['month'] = list(by_date.index.month)\n"
   ]
  },
  {
   "cell_type": "code",
   "execution_count": 18,
   "metadata": {},
   "outputs": [],
   "source": [
    "by_date['namedayofweek'] = list(by_date.index.weekday_name)"
   ]
  },
  {
   "cell_type": "code",
   "execution_count": 19,
   "metadata": {},
   "outputs": [],
   "source": [
    "by_date['dayofweek']=list(by_date.index.dayofweek)"
   ]
  },
  {
   "cell_type": "code",
   "execution_count": 20,
   "metadata": {},
   "outputs": [
    {
     "name": "stdout",
     "output_type": "stream",
     "text": [
      "<class 'pandas.core.frame.DataFrame'>\n",
      "DatetimeIndex: 913000 entries, 2013-01-01 00:00:00+00:00 to 2017-12-31 00:00:00+00:00\n",
      "Data columns (total 16 columns):\n",
      "item_id          913000 non-null int64\n",
      "sale_amount      913000 non-null int64\n",
      "sale_id          913000 non-null int64\n",
      "store_id         913000 non-null int64\n",
      "item_brand       913000 non-null object\n",
      "item_name        913000 non-null object\n",
      "item_price       913000 non-null float64\n",
      "item_upc12       913000 non-null int64\n",
      "item_upc14       913000 non-null int64\n",
      "store_address    913000 non-null object\n",
      "store_city       913000 non-null object\n",
      "store_state      913000 non-null object\n",
      "store_zipcode    913000 non-null int64\n",
      "month            913000 non-null int64\n",
      "namedayofweek    913000 non-null object\n",
      "dayofweek        913000 non-null int64\n",
      "dtypes: float64(1), int64(9), object(6)\n",
      "memory usage: 138.4+ MB\n"
     ]
    }
   ],
   "source": [
    "by_date.info()"
   ]
  },
  {
   "cell_type": "markdown",
   "metadata": {},
   "source": [
    "***5. Add a column to your dataframe, sales_total, which is derived from sale_amount(total items) and item_price.***"
   ]
  },
  {
   "cell_type": "code",
   "execution_count": 21,
   "metadata": {},
   "outputs": [],
   "source": [
    "by_date['sales_total'] = by_date['sale_amount']*by_date['item_price']"
   ]
  },
  {
   "cell_type": "code",
   "execution_count": 22,
   "metadata": {},
   "outputs": [
    {
     "name": "stdout",
     "output_type": "stream",
     "text": [
      "<class 'pandas.core.frame.DataFrame'>\n",
      "DatetimeIndex: 913000 entries, 2013-01-01 00:00:00+00:00 to 2017-12-31 00:00:00+00:00\n",
      "Data columns (total 17 columns):\n",
      "item_id          913000 non-null int64\n",
      "sale_amount      913000 non-null int64\n",
      "sale_id          913000 non-null int64\n",
      "store_id         913000 non-null int64\n",
      "item_brand       913000 non-null object\n",
      "item_name        913000 non-null object\n",
      "item_price       913000 non-null float64\n",
      "item_upc12       913000 non-null int64\n",
      "item_upc14       913000 non-null int64\n",
      "store_address    913000 non-null object\n",
      "store_city       913000 non-null object\n",
      "store_state      913000 non-null object\n",
      "store_zipcode    913000 non-null int64\n",
      "month            913000 non-null int64\n",
      "namedayofweek    913000 non-null object\n",
      "dayofweek        913000 non-null int64\n",
      "sales_total      913000 non-null float64\n",
      "dtypes: float64(2), int64(9), object(6)\n",
      "memory usage: 145.4+ MB\n"
     ]
    }
   ],
   "source": [
    "by_date.info()"
   ]
  },
  {
   "cell_type": "markdown",
   "metadata": {},
   "source": [
    "***6. Using pandas.DataFrame.diff() function, create a new column that is the result of the current sales - the previous days sales.***"
   ]
  },
  {
   "cell_type": "code",
   "execution_count": 30,
   "metadata": {},
   "outputs": [
    {
     "data": {
      "text/html": [
       "<div>\n",
       "<style scoped>\n",
       "    .dataframe tbody tr th:only-of-type {\n",
       "        vertical-align: middle;\n",
       "    }\n",
       "\n",
       "    .dataframe tbody tr th {\n",
       "        vertical-align: top;\n",
       "    }\n",
       "\n",
       "    .dataframe thead th {\n",
       "        text-align: right;\n",
       "    }\n",
       "</style>\n",
       "<table border=\"1\" class=\"dataframe\">\n",
       "  <thead>\n",
       "    <tr style=\"text-align: right;\">\n",
       "      <th></th>\n",
       "      <th>sales_total</th>\n",
       "    </tr>\n",
       "    <tr>\n",
       "      <th>sale_date</th>\n",
       "      <th></th>\n",
       "    </tr>\n",
       "  </thead>\n",
       "  <tbody>\n",
       "    <tr>\n",
       "      <th>2013-01-01 00:00:00+00:00</th>\n",
       "      <td>NaN</td>\n",
       "    </tr>\n",
       "    <tr>\n",
       "      <th>2013-01-02 00:00:00+00:00</th>\n",
       "      <td>-273.43</td>\n",
       "    </tr>\n",
       "    <tr>\n",
       "      <th>2013-01-03 00:00:00+00:00</th>\n",
       "      <td>4598.90</td>\n",
       "    </tr>\n",
       "    <tr>\n",
       "      <th>2013-01-04 00:00:00+00:00</th>\n",
       "      <td>6298.25</td>\n",
       "    </tr>\n",
       "    <tr>\n",
       "      <th>2013-01-05 00:00:00+00:00</th>\n",
       "      <td>3154.12</td>\n",
       "    </tr>\n",
       "    <tr>\n",
       "      <th>2013-01-06 00:00:00+00:00</th>\n",
       "      <td>5472.00</td>\n",
       "    </tr>\n",
       "    <tr>\n",
       "      <th>2013-01-07 00:00:00+00:00</th>\n",
       "      <td>-29316.31</td>\n",
       "    </tr>\n",
       "    <tr>\n",
       "      <th>2013-01-08 00:00:00+00:00</th>\n",
       "      <td>9217.12</td>\n",
       "    </tr>\n",
       "    <tr>\n",
       "      <th>2013-01-09 00:00:00+00:00</th>\n",
       "      <td>2139.26</td>\n",
       "    </tr>\n",
       "    <tr>\n",
       "      <th>2013-01-10 00:00:00+00:00</th>\n",
       "      <td>3857.27</td>\n",
       "    </tr>\n",
       "    <tr>\n",
       "      <th>2013-01-11 00:00:00+00:00</th>\n",
       "      <td>5408.90</td>\n",
       "    </tr>\n",
       "    <tr>\n",
       "      <th>2013-01-12 00:00:00+00:00</th>\n",
       "      <td>5026.61</td>\n",
       "    </tr>\n",
       "    <tr>\n",
       "      <th>2013-01-13 00:00:00+00:00</th>\n",
       "      <td>5783.41</td>\n",
       "    </tr>\n",
       "    <tr>\n",
       "      <th>2013-01-14 00:00:00+00:00</th>\n",
       "      <td>-32175.79</td>\n",
       "    </tr>\n",
       "    <tr>\n",
       "      <th>2013-01-15 00:00:00+00:00</th>\n",
       "      <td>10218.31</td>\n",
       "    </tr>\n",
       "    <tr>\n",
       "      <th>2013-01-16 00:00:00+00:00</th>\n",
       "      <td>-218.02</td>\n",
       "    </tr>\n",
       "    <tr>\n",
       "      <th>2013-01-17 00:00:00+00:00</th>\n",
       "      <td>4995.70</td>\n",
       "    </tr>\n",
       "    <tr>\n",
       "      <th>2013-01-18 00:00:00+00:00</th>\n",
       "      <td>5070.30</td>\n",
       "    </tr>\n",
       "    <tr>\n",
       "      <th>2013-01-19 00:00:00+00:00</th>\n",
       "      <td>4429.56</td>\n",
       "    </tr>\n",
       "    <tr>\n",
       "      <th>2013-01-20 00:00:00+00:00</th>\n",
       "      <td>7300.70</td>\n",
       "    </tr>\n",
       "    <tr>\n",
       "      <th>2013-01-21 00:00:00+00:00</th>\n",
       "      <td>-32042.25</td>\n",
       "    </tr>\n",
       "    <tr>\n",
       "      <th>2013-01-22 00:00:00+00:00</th>\n",
       "      <td>10791.13</td>\n",
       "    </tr>\n",
       "    <tr>\n",
       "      <th>2013-01-23 00:00:00+00:00</th>\n",
       "      <td>-688.84</td>\n",
       "    </tr>\n",
       "    <tr>\n",
       "      <th>2013-01-24 00:00:00+00:00</th>\n",
       "      <td>5265.36</td>\n",
       "    </tr>\n",
       "    <tr>\n",
       "      <th>2013-01-25 00:00:00+00:00</th>\n",
       "      <td>6129.62</td>\n",
       "    </tr>\n",
       "    <tr>\n",
       "      <th>2013-01-26 00:00:00+00:00</th>\n",
       "      <td>4295.22</td>\n",
       "    </tr>\n",
       "    <tr>\n",
       "      <th>2013-01-27 00:00:00+00:00</th>\n",
       "      <td>6045.18</td>\n",
       "    </tr>\n",
       "    <tr>\n",
       "      <th>2013-01-28 00:00:00+00:00</th>\n",
       "      <td>-30959.62</td>\n",
       "    </tr>\n",
       "    <tr>\n",
       "      <th>2013-01-29 00:00:00+00:00</th>\n",
       "      <td>9885.64</td>\n",
       "    </tr>\n",
       "    <tr>\n",
       "      <th>2013-01-30 00:00:00+00:00</th>\n",
       "      <td>-1064.43</td>\n",
       "    </tr>\n",
       "    <tr>\n",
       "      <th>...</th>\n",
       "      <td>...</td>\n",
       "    </tr>\n",
       "    <tr>\n",
       "      <th>2017-12-02 00:00:00+00:00</th>\n",
       "      <td>5684.91</td>\n",
       "    </tr>\n",
       "    <tr>\n",
       "      <th>2017-12-03 00:00:00+00:00</th>\n",
       "      <td>10145.35</td>\n",
       "    </tr>\n",
       "    <tr>\n",
       "      <th>2017-12-04 00:00:00+00:00</th>\n",
       "      <td>-48397.89</td>\n",
       "    </tr>\n",
       "    <tr>\n",
       "      <th>2017-12-05 00:00:00+00:00</th>\n",
       "      <td>14165.70</td>\n",
       "    </tr>\n",
       "    <tr>\n",
       "      <th>2017-12-06 00:00:00+00:00</th>\n",
       "      <td>1637.17</td>\n",
       "    </tr>\n",
       "    <tr>\n",
       "      <th>2017-12-07 00:00:00+00:00</th>\n",
       "      <td>7538.74</td>\n",
       "    </tr>\n",
       "    <tr>\n",
       "      <th>2017-12-08 00:00:00+00:00</th>\n",
       "      <td>8232.34</td>\n",
       "    </tr>\n",
       "    <tr>\n",
       "      <th>2017-12-09 00:00:00+00:00</th>\n",
       "      <td>8347.47</td>\n",
       "    </tr>\n",
       "    <tr>\n",
       "      <th>2017-12-10 00:00:00+00:00</th>\n",
       "      <td>8628.97</td>\n",
       "    </tr>\n",
       "    <tr>\n",
       "      <th>2017-12-11 00:00:00+00:00</th>\n",
       "      <td>-47628.01</td>\n",
       "    </tr>\n",
       "    <tr>\n",
       "      <th>2017-12-12 00:00:00+00:00</th>\n",
       "      <td>13723.50</td>\n",
       "    </tr>\n",
       "    <tr>\n",
       "      <th>2017-12-13 00:00:00+00:00</th>\n",
       "      <td>2886.40</td>\n",
       "    </tr>\n",
       "    <tr>\n",
       "      <th>2017-12-14 00:00:00+00:00</th>\n",
       "      <td>7265.42</td>\n",
       "    </tr>\n",
       "    <tr>\n",
       "      <th>2017-12-15 00:00:00+00:00</th>\n",
       "      <td>7521.82</td>\n",
       "    </tr>\n",
       "    <tr>\n",
       "      <th>2017-12-16 00:00:00+00:00</th>\n",
       "      <td>8111.89</td>\n",
       "    </tr>\n",
       "    <tr>\n",
       "      <th>2017-12-17 00:00:00+00:00</th>\n",
       "      <td>5949.51</td>\n",
       "    </tr>\n",
       "    <tr>\n",
       "      <th>2017-12-18 00:00:00+00:00</th>\n",
       "      <td>-45063.53</td>\n",
       "    </tr>\n",
       "    <tr>\n",
       "      <th>2017-12-19 00:00:00+00:00</th>\n",
       "      <td>15453.88</td>\n",
       "    </tr>\n",
       "    <tr>\n",
       "      <th>2017-12-20 00:00:00+00:00</th>\n",
       "      <td>-16.32</td>\n",
       "    </tr>\n",
       "    <tr>\n",
       "      <th>2017-12-21 00:00:00+00:00</th>\n",
       "      <td>8962.77</td>\n",
       "    </tr>\n",
       "    <tr>\n",
       "      <th>2017-12-22 00:00:00+00:00</th>\n",
       "      <td>6911.67</td>\n",
       "    </tr>\n",
       "    <tr>\n",
       "      <th>2017-12-23 00:00:00+00:00</th>\n",
       "      <td>6423.16</td>\n",
       "    </tr>\n",
       "    <tr>\n",
       "      <th>2017-12-24 00:00:00+00:00</th>\n",
       "      <td>7501.19</td>\n",
       "    </tr>\n",
       "    <tr>\n",
       "      <th>2017-12-25 00:00:00+00:00</th>\n",
       "      <td>-46300.23</td>\n",
       "    </tr>\n",
       "    <tr>\n",
       "      <th>2017-12-26 00:00:00+00:00</th>\n",
       "      <td>17856.10</td>\n",
       "    </tr>\n",
       "    <tr>\n",
       "      <th>2017-12-27 00:00:00+00:00</th>\n",
       "      <td>-2850.06</td>\n",
       "    </tr>\n",
       "    <tr>\n",
       "      <th>2017-12-28 00:00:00+00:00</th>\n",
       "      <td>8226.34</td>\n",
       "    </tr>\n",
       "    <tr>\n",
       "      <th>2017-12-29 00:00:00+00:00</th>\n",
       "      <td>9164.35</td>\n",
       "    </tr>\n",
       "    <tr>\n",
       "      <th>2017-12-30 00:00:00+00:00</th>\n",
       "      <td>8361.23</td>\n",
       "    </tr>\n",
       "    <tr>\n",
       "      <th>2017-12-31 00:00:00+00:00</th>\n",
       "      <td>6002.67</td>\n",
       "    </tr>\n",
       "  </tbody>\n",
       "</table>\n",
       "<p>1826 rows × 1 columns</p>\n",
       "</div>"
      ],
      "text/plain": [
       "                           sales_total\n",
       "sale_date                             \n",
       "2013-01-01 00:00:00+00:00          NaN\n",
       "2013-01-02 00:00:00+00:00      -273.43\n",
       "2013-01-03 00:00:00+00:00      4598.90\n",
       "2013-01-04 00:00:00+00:00      6298.25\n",
       "2013-01-05 00:00:00+00:00      3154.12\n",
       "2013-01-06 00:00:00+00:00      5472.00\n",
       "2013-01-07 00:00:00+00:00    -29316.31\n",
       "2013-01-08 00:00:00+00:00      9217.12\n",
       "2013-01-09 00:00:00+00:00      2139.26\n",
       "2013-01-10 00:00:00+00:00      3857.27\n",
       "2013-01-11 00:00:00+00:00      5408.90\n",
       "2013-01-12 00:00:00+00:00      5026.61\n",
       "2013-01-13 00:00:00+00:00      5783.41\n",
       "2013-01-14 00:00:00+00:00    -32175.79\n",
       "2013-01-15 00:00:00+00:00     10218.31\n",
       "2013-01-16 00:00:00+00:00      -218.02\n",
       "2013-01-17 00:00:00+00:00      4995.70\n",
       "2013-01-18 00:00:00+00:00      5070.30\n",
       "2013-01-19 00:00:00+00:00      4429.56\n",
       "2013-01-20 00:00:00+00:00      7300.70\n",
       "2013-01-21 00:00:00+00:00    -32042.25\n",
       "2013-01-22 00:00:00+00:00     10791.13\n",
       "2013-01-23 00:00:00+00:00      -688.84\n",
       "2013-01-24 00:00:00+00:00      5265.36\n",
       "2013-01-25 00:00:00+00:00      6129.62\n",
       "2013-01-26 00:00:00+00:00      4295.22\n",
       "2013-01-27 00:00:00+00:00      6045.18\n",
       "2013-01-28 00:00:00+00:00    -30959.62\n",
       "2013-01-29 00:00:00+00:00      9885.64\n",
       "2013-01-30 00:00:00+00:00     -1064.43\n",
       "...                                ...\n",
       "2017-12-02 00:00:00+00:00      5684.91\n",
       "2017-12-03 00:00:00+00:00     10145.35\n",
       "2017-12-04 00:00:00+00:00    -48397.89\n",
       "2017-12-05 00:00:00+00:00     14165.70\n",
       "2017-12-06 00:00:00+00:00      1637.17\n",
       "2017-12-07 00:00:00+00:00      7538.74\n",
       "2017-12-08 00:00:00+00:00      8232.34\n",
       "2017-12-09 00:00:00+00:00      8347.47\n",
       "2017-12-10 00:00:00+00:00      8628.97\n",
       "2017-12-11 00:00:00+00:00    -47628.01\n",
       "2017-12-12 00:00:00+00:00     13723.50\n",
       "2017-12-13 00:00:00+00:00      2886.40\n",
       "2017-12-14 00:00:00+00:00      7265.42\n",
       "2017-12-15 00:00:00+00:00      7521.82\n",
       "2017-12-16 00:00:00+00:00      8111.89\n",
       "2017-12-17 00:00:00+00:00      5949.51\n",
       "2017-12-18 00:00:00+00:00    -45063.53\n",
       "2017-12-19 00:00:00+00:00     15453.88\n",
       "2017-12-20 00:00:00+00:00       -16.32\n",
       "2017-12-21 00:00:00+00:00      8962.77\n",
       "2017-12-22 00:00:00+00:00      6911.67\n",
       "2017-12-23 00:00:00+00:00      6423.16\n",
       "2017-12-24 00:00:00+00:00      7501.19\n",
       "2017-12-25 00:00:00+00:00    -46300.23\n",
       "2017-12-26 00:00:00+00:00     17856.10\n",
       "2017-12-27 00:00:00+00:00     -2850.06\n",
       "2017-12-28 00:00:00+00:00      8226.34\n",
       "2017-12-29 00:00:00+00:00      9164.35\n",
       "2017-12-30 00:00:00+00:00      8361.23\n",
       "2017-12-31 00:00:00+00:00      6002.67\n",
       "\n",
       "[1826 rows x 1 columns]"
      ]
     },
     "execution_count": 30,
     "metadata": {},
     "output_type": "execute_result"
    }
   ],
   "source": [
    "by_date[['sales_total']].resample('D').sum().diff()"
   ]
  },
  {
   "cell_type": "markdown",
   "metadata": {},
   "source": [
    "***7. Make sure all the work that you have done above is reproducible. That is, you should pul the code above into separate functions and be able to re-run the functions and get the same results.***"
   ]
  },
  {
   "cell_type": "markdown",
   "metadata": {},
   "source": [
    "Using the OPS data acquired in lesson 1 exercises:"
   ]
  },
  {
   "cell_type": "markdown",
   "metadata": {},
   "source": [
    "***1. Convert date column to datetimeformat.***"
   ]
  },
  {
   "cell_type": "code",
   "execution_count": 74,
   "metadata": {},
   "outputs": [],
   "source": [
    "df = acquire.get_power_data()"
   ]
  },
  {
   "cell_type": "code",
   "execution_count": 75,
   "metadata": {},
   "outputs": [
    {
     "name": "stdout",
     "output_type": "stream",
     "text": [
      "<class 'pandas.core.frame.DataFrame'>\n",
      "RangeIndex: 4383 entries, 0 to 4382\n",
      "Data columns (total 5 columns):\n",
      "Date           4383 non-null object\n",
      "Consumption    4383 non-null float64\n",
      "Wind           2920 non-null float64\n",
      "Solar          2188 non-null float64\n",
      "Wind+Solar     2187 non-null float64\n",
      "dtypes: float64(4), object(1)\n",
      "memory usage: 171.3+ KB\n"
     ]
    }
   ],
   "source": [
    "df.info()"
   ]
  },
  {
   "cell_type": "code",
   "execution_count": 76,
   "metadata": {},
   "outputs": [
    {
     "data": {
      "text/html": [
       "<div>\n",
       "<style scoped>\n",
       "    .dataframe tbody tr th:only-of-type {\n",
       "        vertical-align: middle;\n",
       "    }\n",
       "\n",
       "    .dataframe tbody tr th {\n",
       "        vertical-align: top;\n",
       "    }\n",
       "\n",
       "    .dataframe thead th {\n",
       "        text-align: right;\n",
       "    }\n",
       "</style>\n",
       "<table border=\"1\" class=\"dataframe\">\n",
       "  <thead>\n",
       "    <tr style=\"text-align: right;\">\n",
       "      <th></th>\n",
       "      <th>Date</th>\n",
       "      <th>Consumption</th>\n",
       "      <th>Wind</th>\n",
       "      <th>Solar</th>\n",
       "      <th>Wind+Solar</th>\n",
       "    </tr>\n",
       "  </thead>\n",
       "  <tbody>\n",
       "    <tr>\n",
       "      <th>0</th>\n",
       "      <td>2006-01-01</td>\n",
       "      <td>1069.184</td>\n",
       "      <td>NaN</td>\n",
       "      <td>NaN</td>\n",
       "      <td>NaN</td>\n",
       "    </tr>\n",
       "    <tr>\n",
       "      <th>1</th>\n",
       "      <td>2006-01-02</td>\n",
       "      <td>1380.521</td>\n",
       "      <td>NaN</td>\n",
       "      <td>NaN</td>\n",
       "      <td>NaN</td>\n",
       "    </tr>\n",
       "    <tr>\n",
       "      <th>2</th>\n",
       "      <td>2006-01-03</td>\n",
       "      <td>1442.533</td>\n",
       "      <td>NaN</td>\n",
       "      <td>NaN</td>\n",
       "      <td>NaN</td>\n",
       "    </tr>\n",
       "    <tr>\n",
       "      <th>3</th>\n",
       "      <td>2006-01-04</td>\n",
       "      <td>1457.217</td>\n",
       "      <td>NaN</td>\n",
       "      <td>NaN</td>\n",
       "      <td>NaN</td>\n",
       "    </tr>\n",
       "    <tr>\n",
       "      <th>4</th>\n",
       "      <td>2006-01-05</td>\n",
       "      <td>1477.131</td>\n",
       "      <td>NaN</td>\n",
       "      <td>NaN</td>\n",
       "      <td>NaN</td>\n",
       "    </tr>\n",
       "  </tbody>\n",
       "</table>\n",
       "</div>"
      ],
      "text/plain": [
       "         Date  Consumption  Wind  Solar  Wind+Solar\n",
       "0  2006-01-01     1069.184   NaN    NaN         NaN\n",
       "1  2006-01-02     1380.521   NaN    NaN         NaN\n",
       "2  2006-01-03     1442.533   NaN    NaN         NaN\n",
       "3  2006-01-04     1457.217   NaN    NaN         NaN\n",
       "4  2006-01-05     1477.131   NaN    NaN         NaN"
      ]
     },
     "execution_count": 76,
     "metadata": {},
     "output_type": "execute_result"
    }
   ],
   "source": [
    "df.head()"
   ]
  },
  {
   "cell_type": "code",
   "execution_count": 77,
   "metadata": {},
   "outputs": [
    {
     "data": {
      "text/html": [
       "<div>\n",
       "<style scoped>\n",
       "    .dataframe tbody tr th:only-of-type {\n",
       "        vertical-align: middle;\n",
       "    }\n",
       "\n",
       "    .dataframe tbody tr th {\n",
       "        vertical-align: top;\n",
       "    }\n",
       "\n",
       "    .dataframe thead th {\n",
       "        text-align: right;\n",
       "    }\n",
       "</style>\n",
       "<table border=\"1\" class=\"dataframe\">\n",
       "  <thead>\n",
       "    <tr style=\"text-align: right;\">\n",
       "      <th></th>\n",
       "      <th>Date</th>\n",
       "      <th>Consumption</th>\n",
       "      <th>Wind</th>\n",
       "      <th>Solar</th>\n",
       "      <th>Wind_Solar</th>\n",
       "    </tr>\n",
       "  </thead>\n",
       "  <tbody>\n",
       "    <tr>\n",
       "      <th>0</th>\n",
       "      <td>2006-01-01</td>\n",
       "      <td>1069.184</td>\n",
       "      <td>NaN</td>\n",
       "      <td>NaN</td>\n",
       "      <td>NaN</td>\n",
       "    </tr>\n",
       "    <tr>\n",
       "      <th>1</th>\n",
       "      <td>2006-01-02</td>\n",
       "      <td>1380.521</td>\n",
       "      <td>NaN</td>\n",
       "      <td>NaN</td>\n",
       "      <td>NaN</td>\n",
       "    </tr>\n",
       "    <tr>\n",
       "      <th>2</th>\n",
       "      <td>2006-01-03</td>\n",
       "      <td>1442.533</td>\n",
       "      <td>NaN</td>\n",
       "      <td>NaN</td>\n",
       "      <td>NaN</td>\n",
       "    </tr>\n",
       "    <tr>\n",
       "      <th>3</th>\n",
       "      <td>2006-01-04</td>\n",
       "      <td>1457.217</td>\n",
       "      <td>NaN</td>\n",
       "      <td>NaN</td>\n",
       "      <td>NaN</td>\n",
       "    </tr>\n",
       "    <tr>\n",
       "      <th>4</th>\n",
       "      <td>2006-01-05</td>\n",
       "      <td>1477.131</td>\n",
       "      <td>NaN</td>\n",
       "      <td>NaN</td>\n",
       "      <td>NaN</td>\n",
       "    </tr>\n",
       "  </tbody>\n",
       "</table>\n",
       "</div>"
      ],
      "text/plain": [
       "         Date  Consumption  Wind  Solar  Wind_Solar\n",
       "0  2006-01-01     1069.184   NaN    NaN         NaN\n",
       "1  2006-01-02     1380.521   NaN    NaN         NaN\n",
       "2  2006-01-03     1442.533   NaN    NaN         NaN\n",
       "3  2006-01-04     1457.217   NaN    NaN         NaN\n",
       "4  2006-01-05     1477.131   NaN    NaN         NaN"
      ]
     },
     "execution_count": 77,
     "metadata": {},
     "output_type": "execute_result"
    }
   ],
   "source": [
    "df.rename(columns = {'Wind+Solar': 'Wind_Solar'},inplace = True)\n",
    "df.head() "
   ]
  },
  {
   "cell_type": "code",
   "execution_count": 78,
   "metadata": {},
   "outputs": [],
   "source": [
    "df['Date'] = pd.to_datetime(df['Date'])"
   ]
  },
  {
   "cell_type": "code",
   "execution_count": 79,
   "metadata": {},
   "outputs": [
    {
     "name": "stdout",
     "output_type": "stream",
     "text": [
      "<class 'pandas.core.frame.DataFrame'>\n",
      "RangeIndex: 4383 entries, 0 to 4382\n",
      "Data columns (total 5 columns):\n",
      "Date           4383 non-null datetime64[ns]\n",
      "Consumption    4383 non-null float64\n",
      "Wind           2920 non-null float64\n",
      "Solar          2188 non-null float64\n",
      "Wind_Solar     2187 non-null float64\n",
      "dtypes: datetime64[ns](1), float64(4)\n",
      "memory usage: 171.3 KB\n"
     ]
    }
   ],
   "source": [
    "df.info()"
   ]
  },
  {
   "cell_type": "markdown",
   "metadata": {},
   "source": [
    "***2. Plot  the distribution of each of your variables***"
   ]
  },
  {
   "cell_type": "code",
   "execution_count": 80,
   "metadata": {},
   "outputs": [],
   "source": [
    "df.sort_values('Date',inplace = True)"
   ]
  },
  {
   "cell_type": "code",
   "execution_count": 81,
   "metadata": {},
   "outputs": [],
   "source": [
    "by_date = df.groupby(['Date'])['Consumption'].sum().reset_index()"
   ]
  },
  {
   "cell_type": "code",
   "execution_count": 82,
   "metadata": {},
   "outputs": [
    {
     "data": {
      "text/plain": [
       "<matplotlib.axes._subplots.AxesSubplot at 0x1a258f8208>"
      ]
     },
     "execution_count": 82,
     "metadata": {},
     "output_type": "execute_result"
    },
    {
     "data": {
      "image/png": "[encoded data removed]",
      "text/plain": [
       "<Figure size 432x288 with 1 Axes>"
      ]
     },
     "metadata": {
      "needs_background": "light"
     },
     "output_type": "display_data"
    }
   ],
   "source": [
    "by_date.plot(x='Date', y='Consumption')"
   ]
  },
  {
   "cell_type": "code",
   "execution_count": 83,
   "metadata": {},
   "outputs": [
    {
     "data": {
      "text/plain": [
       "<matplotlib.axes._subplots.AxesSubplot at 0x1a27d5db38>"
      ]
     },
     "execution_count": 83,
     "metadata": {},
     "output_type": "execute_result"
    },
    {
     "data": {
      "image/png": "[encoded data removed]",
      "text/plain": [
       "<Figure size 432x288 with 1 Axes>"
      ]
     },
     "metadata": {
      "needs_background": "light"
     },
     "output_type": "display_data"
    }
   ],
   "source": [
    "df.Consumption.plot()"
   ]
  },
  {
   "cell_type": "code",
   "execution_count": 84,
   "metadata": {},
   "outputs": [
    {
     "data": {
      "text/plain": [
       "<matplotlib.axes._subplots.AxesSubplot at 0x1a270b3d68>"
      ]
     },
     "execution_count": 84,
     "metadata": {},
     "output_type": "execute_result"
    },
    {
     "data": {
      "image/png": "[encoded data removed]",
      "text/plain": [
       "<Figure size 432x288 with 1 Axes>"
      ]
     },
     "metadata": {
      "needs_background": "light"
     },
     "output_type": "display_data"
    }
   ],
   "source": [
    "df.Wind.plot()"
   ]
  },
  {
   "cell_type": "code",
   "execution_count": 85,
   "metadata": {},
   "outputs": [
    {
     "data": {
      "text/plain": [
       "<matplotlib.axes._subplots.AxesSubplot at 0x1a27105748>"
      ]
     },
     "execution_count": 85,
     "metadata": {},
     "output_type": "execute_result"
    },
    {
     "data": {
      "image/png": "[encoded data removed]",
      "text/plain": [
       "<Figure size 432x288 with 1 Axes>"
      ]
     },
     "metadata": {
      "needs_background": "light"
     },
     "output_type": "display_data"
    }
   ],
   "source": [
    "df.Solar.plot()"
   ]
  },
  {
   "cell_type": "code",
   "execution_count": 86,
   "metadata": {},
   "outputs": [
    {
     "data": {
      "text/plain": [
       "<matplotlib.axes._subplots.AxesSubplot at 0x1a2718cb00>"
      ]
     },
     "execution_count": 86,
     "metadata": {},
     "output_type": "execute_result"
    },
    {
     "data": {
      "image/png": "[encoded data removed]",
      "text/plain": [
       "<Figure size 432x288 with 1 Axes>"
      ]
     },
     "metadata": {
      "needs_background": "light"
     },
     "output_type": "display_data"
    }
   ],
   "source": [
    "df.Wind_Solar.plot()"
   ]
  },
  {
   "cell_type": "markdown",
   "metadata": {},
   "source": [
    "***3. Set the index to be the datetime variable.***"
   ]
  },
  {
   "cell_type": "code",
   "execution_count": 89,
   "metadata": {
    "scrolled": true
   },
   "outputs": [],
   "source": [
    "df.set_index('Date',inplace=True)"
   ]
  },
  {
   "cell_type": "code",
   "execution_count": 90,
   "metadata": {},
   "outputs": [
    {
     "name": "stdout",
     "output_type": "stream",
     "text": [
      "<class 'pandas.core.frame.DataFrame'>\n",
      "DatetimeIndex: 4383 entries, 2006-01-01 to 2017-12-31\n",
      "Data columns (total 4 columns):\n",
      "Consumption    4383 non-null float64\n",
      "Wind           2920 non-null float64\n",
      "Solar          2188 non-null float64\n",
      "Wind_Solar     2187 non-null float64\n",
      "dtypes: float64(4)\n",
      "memory usage: 171.2 KB\n"
     ]
    }
   ],
   "source": [
    "df.info()"
   ]
  },
  {
   "cell_type": "code",
   "execution_count": 91,
   "metadata": {},
   "outputs": [
    {
     "data": {
      "text/plain": [
       "4383"
      ]
     },
     "execution_count": 91,
     "metadata": {},
     "output_type": "execute_result"
    }
   ],
   "source": [
    "df.index.nunique()"
   ]
  },
  {
   "cell_type": "code",
   "execution_count": 92,
   "metadata": {},
   "outputs": [
    {
     "data": {
      "text/plain": [
       "Timestamp('2006-01-01 00:00:00')"
      ]
     },
     "execution_count": 92,
     "metadata": {},
     "output_type": "execute_result"
    }
   ],
   "source": [
    "df.index.min()"
   ]
  },
  {
   "cell_type": "code",
   "execution_count": 93,
   "metadata": {},
   "outputs": [
    {
     "data": {
      "text/plain": [
       "Timestamp('2017-12-31 00:00:00')"
      ]
     },
     "execution_count": 93,
     "metadata": {},
     "output_type": "execute_result"
    }
   ],
   "source": [
    "df.index.max()"
   ]
  },
  {
   "cell_type": "code",
   "execution_count": 94,
   "metadata": {},
   "outputs": [
    {
     "data": {
      "text/plain": [
       "datetime.timedelta(days=4383)"
      ]
     },
     "execution_count": 94,
     "metadata": {},
     "output_type": "execute_result"
    }
   ],
   "source": [
    "timedelta(df.index.nunique())"
   ]
  },
  {
   "cell_type": "markdown",
   "metadata": {},
   "source": [
    "***4. Add a month and a year column to your dataframe.***"
   ]
  },
  {
   "cell_type": "code",
   "execution_count": 98,
   "metadata": {},
   "outputs": [],
   "source": [
    "df['month'] = list(df.index.month)"
   ]
  },
  {
   "cell_type": "code",
   "execution_count": 99,
   "metadata": {},
   "outputs": [],
   "source": [
    "df['year'] = list(df.index.year)"
   ]
  },
  {
   "cell_type": "code",
   "execution_count": 100,
   "metadata": {},
   "outputs": [
    {
     "name": "stdout",
     "output_type": "stream",
     "text": [
      "<class 'pandas.core.frame.DataFrame'>\n",
      "DatetimeIndex: 4383 entries, 2006-01-01 to 2017-12-31\n",
      "Data columns (total 6 columns):\n",
      "Consumption    4383 non-null float64\n",
      "Wind           2920 non-null float64\n",
      "Solar          2188 non-null float64\n",
      "Wind_Solar     2187 non-null float64\n",
      "month          4383 non-null int64\n",
      "year           4383 non-null int64\n",
      "dtypes: float64(4), int64(2)\n",
      "memory usage: 239.7 KB\n"
     ]
    }
   ],
   "source": [
    "df.info()"
   ]
  },
  {
   "cell_type": "markdown",
   "metadata": {},
   "source": [
    "***5. Make sure all the work that you have done above is reproduciple. That is, you should put the code above into separate functions and be able to re-run the functions and get the same results.***"
   ]
  },
  {
   "cell_type": "code",
   "execution_count": null,
   "metadata": {},
   "outputs": [],
   "source": []
  }
 ],
 "metadata": {
  "kernelspec": {
   "display_name": "Python 3",
   "language": "python",
   "name": "python3"
  },
  "language_info": {
   "codemirror_mode": {
    "name": "ipython",
    "version": 3
   },
   "file_extension": ".py",
   "mimetype": "text/x-python",
   "name": "python",
   "nbconvert_exporter": "python",
   "pygments_lexer": "ipython3",
   "version": "3.7.3"
  }
 },
 "nbformat": 4,
 "nbformat_minor": 2
}
